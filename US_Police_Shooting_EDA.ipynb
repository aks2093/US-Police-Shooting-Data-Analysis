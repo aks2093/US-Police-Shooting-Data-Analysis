{
  "nbformat": 4,
  "nbformat_minor": 0,
  "metadata": {
    "colab": {
      "name": "US_Police_Shooting_EDA.ipynb",
      "provenance": [],
      "authorship_tag": "ABX9TyNvBdDdgmG9KBag37rF4sAo",
      "include_colab_link": true
    },
    "kernelspec": {
      "name": "python3",
      "display_name": "Python 3"
    }
  },
  "cells": [
    {
      "cell_type": "markdown",
      "metadata": {
        "id": "view-in-github",
        "colab_type": "text"
      },
      "source": [
        "<a href=\"https://colab.research.google.com/github/aks2093/US-Police-Shooting-Data-Analysis/blob/master/US_Police_Shooting_EDA.ipynb\" target=\"_parent\"><img src=\"https://colab.research.google.com/assets/colab-badge.svg\" alt=\"Open In Colab\"/></a>"
      ]
    },
    {
      "cell_type": "code",
      "metadata": {
        "id": "vwSYZqX-4ix-",
        "colab_type": "code",
        "colab": {
          "base_uri": "https://localhost:8080/",
          "height": 122
        },
        "outputId": "692a9f56-d1e9-41ff-ece1-de6abc0e0b87"
      },
      "source": [
        "from google.colab import drive\n",
        "drive.mount('/content/drive')"
      ],
      "execution_count": 1,
      "outputs": [
        {
          "output_type": "stream",
          "text": [
            "Go to this URL in a browser: https://accounts.google.com/o/oauth2/auth?client_id=947318989803-6bn6qk8qdgf4n4g3pfee6491hc0brc4i.apps.googleusercontent.com&redirect_uri=urn%3aietf%3awg%3aoauth%3a2.0%3aoob&response_type=code&scope=email%20https%3a%2f%2fwww.googleapis.com%2fauth%2fdocs.test%20https%3a%2f%2fwww.googleapis.com%2fauth%2fdrive%20https%3a%2f%2fwww.googleapis.com%2fauth%2fdrive.photos.readonly%20https%3a%2f%2fwww.googleapis.com%2fauth%2fpeopleapi.readonly\n",
            "\n",
            "Enter your authorization code:\n",
            "··········\n",
            "Mounted at /content/drive\n"
          ],
          "name": "stdout"
        }
      ]
    },
    {
      "cell_type": "code",
      "metadata": {
        "id": "G6zzM4RRNnlE",
        "colab_type": "code",
        "colab": {
          "base_uri": "https://localhost:8080/",
          "height": 153
        },
        "outputId": "04a5bfb2-9e3c-4a65-b200-ba80685098ba"
      },
      "source": [
        "!pip install kmodes"
      ],
      "execution_count": 2,
      "outputs": [
        {
          "output_type": "stream",
          "text": [
            "Collecting kmodes\n",
            "  Downloading https://files.pythonhosted.org/packages/b2/55/d8ec1ae1f7e1e202a8a4184c6852a3ee993b202b0459672c699d0ac18fc8/kmodes-0.10.2-py2.py3-none-any.whl\n",
            "Requirement already satisfied: scipy>=0.13.3 in /usr/local/lib/python3.6/dist-packages (from kmodes) (1.4.1)\n",
            "Requirement already satisfied: joblib>=0.11 in /usr/local/lib/python3.6/dist-packages (from kmodes) (0.16.0)\n",
            "Requirement already satisfied: numpy>=1.10.4 in /usr/local/lib/python3.6/dist-packages (from kmodes) (1.18.5)\n",
            "Requirement already satisfied: scikit-learn>=0.19.0 in /usr/local/lib/python3.6/dist-packages (from kmodes) (0.22.2.post1)\n",
            "Installing collected packages: kmodes\n",
            "Successfully installed kmodes-0.10.2\n"
          ],
          "name": "stdout"
        }
      ]
    },
    {
      "cell_type": "markdown",
      "metadata": {
        "id": "Oo88oUYaQ-hU",
        "colab_type": "text"
      },
      "source": [
        "**Import necessary libraries and data**"
      ]
    },
    {
      "cell_type": "code",
      "metadata": {
        "id": "301Dz9AV7WXk",
        "colab_type": "code",
        "colab": {
          "base_uri": "https://localhost:8080/",
          "height": 85
        },
        "outputId": "5b556e55-1550-435a-e417-18a4ddc783d4"
      },
      "source": [
        "import pandas as pd\n",
        "import os\n",
        "import plotly.express as px\n",
        "from kmodes.kmodes import KModes\n",
        "import numpy as np\n",
        "from scipy.stats import chi2_contingency\n",
        "import seaborn as sns\n",
        "import matplotlib.pyplot as plt\n",
        "\n",
        "data_dir = \"/content/drive/My Drive/USPoliceShootingData\"\n",
        "data = pd.read_csv(os.path.join(data_dir, \"shootings.csv\"))\n",
        "data.columns"
      ],
      "execution_count": 23,
      "outputs": [
        {
          "output_type": "execute_result",
          "data": {
            "text/plain": [
              "Index(['id', 'name', 'date', 'manner_of_death', 'armed', 'age', 'gender',\n",
              "       'race', 'city', 'state', 'signs_of_mental_illness', 'threat_level',\n",
              "       'flee', 'body_camera', 'arms_category'],\n",
              "      dtype='object')"
            ]
          },
          "metadata": {
            "tags": []
          },
          "execution_count": 23
        }
      ]
    },
    {
      "cell_type": "code",
      "metadata": {
        "id": "TWEkSYC4d3gN",
        "colab_type": "code",
        "colab": {
          "base_uri": "https://localhost:8080/",
          "height": 289
        },
        "outputId": "d2eccbf1-b2dc-4b1a-c7c6-9827d848c178"
      },
      "source": [
        "data.dtypes"
      ],
      "execution_count": 24,
      "outputs": [
        {
          "output_type": "execute_result",
          "data": {
            "text/plain": [
              "id                           int64\n",
              "name                        object\n",
              "date                        object\n",
              "manner_of_death             object\n",
              "armed                       object\n",
              "age                        float64\n",
              "gender                      object\n",
              "race                        object\n",
              "city                        object\n",
              "state                       object\n",
              "signs_of_mental_illness       bool\n",
              "threat_level                object\n",
              "flee                        object\n",
              "body_camera                   bool\n",
              "arms_category               object\n",
              "dtype: object"
            ]
          },
          "metadata": {
            "tags": []
          },
          "execution_count": 24
        }
      ]
    },
    {
      "cell_type": "code",
      "metadata": {
        "id": "VEPXolDz9cmi",
        "colab_type": "code",
        "colab": {
          "base_uri": "https://localhost:8080/",
          "height": 365
        },
        "outputId": "6c76d24b-660a-46e5-ae6f-a7abc2ca598f"
      },
      "source": [
        "print(data.__len__())\n",
        "print(data[\"id\"].unique().__len__())\n",
        "print(data[\"name\"].unique().__len__())\n",
        "print(data[\"date\"].unique().__len__())\n",
        "\n",
        "data.describe()"
      ],
      "execution_count": 26,
      "outputs": [
        {
          "output_type": "stream",
          "text": [
            "4895\n",
            "4895\n",
            "4851\n",
            "1792\n"
          ],
          "name": "stdout"
        },
        {
          "output_type": "execute_result",
          "data": {
            "text/html": [
              "<div>\n",
              "<style scoped>\n",
              "    .dataframe tbody tr th:only-of-type {\n",
              "        vertical-align: middle;\n",
              "    }\n",
              "\n",
              "    .dataframe tbody tr th {\n",
              "        vertical-align: top;\n",
              "    }\n",
              "\n",
              "    .dataframe thead th {\n",
              "        text-align: right;\n",
              "    }\n",
              "</style>\n",
              "<table border=\"1\" class=\"dataframe\">\n",
              "  <thead>\n",
              "    <tr style=\"text-align: right;\">\n",
              "      <th></th>\n",
              "      <th>id</th>\n",
              "      <th>age</th>\n",
              "    </tr>\n",
              "  </thead>\n",
              "  <tbody>\n",
              "    <tr>\n",
              "      <th>count</th>\n",
              "      <td>4895.000000</td>\n",
              "      <td>4895.000000</td>\n",
              "    </tr>\n",
              "    <tr>\n",
              "      <th>mean</th>\n",
              "      <td>2902.148519</td>\n",
              "      <td>36.549750</td>\n",
              "    </tr>\n",
              "    <tr>\n",
              "      <th>std</th>\n",
              "      <td>1683.467910</td>\n",
              "      <td>12.694348</td>\n",
              "    </tr>\n",
              "    <tr>\n",
              "      <th>min</th>\n",
              "      <td>3.000000</td>\n",
              "      <td>6.000000</td>\n",
              "    </tr>\n",
              "    <tr>\n",
              "      <th>25%</th>\n",
              "      <td>1441.500000</td>\n",
              "      <td>27.000000</td>\n",
              "    </tr>\n",
              "    <tr>\n",
              "      <th>50%</th>\n",
              "      <td>2847.000000</td>\n",
              "      <td>35.000000</td>\n",
              "    </tr>\n",
              "    <tr>\n",
              "      <th>75%</th>\n",
              "      <td>4352.500000</td>\n",
              "      <td>45.000000</td>\n",
              "    </tr>\n",
              "    <tr>\n",
              "      <th>max</th>\n",
              "      <td>5925.000000</td>\n",
              "      <td>91.000000</td>\n",
              "    </tr>\n",
              "  </tbody>\n",
              "</table>\n",
              "</div>"
            ],
            "text/plain": [
              "                id          age\n",
              "count  4895.000000  4895.000000\n",
              "mean   2902.148519    36.549750\n",
              "std    1683.467910    12.694348\n",
              "min       3.000000     6.000000\n",
              "25%    1441.500000    27.000000\n",
              "50%    2847.000000    35.000000\n",
              "75%    4352.500000    45.000000\n",
              "max    5925.000000    91.000000"
            ]
          },
          "metadata": {
            "tags": []
          },
          "execution_count": 26
        }
      ]
    },
    {
      "cell_type": "code",
      "metadata": {
        "id": "DdbXkmFCZqNY",
        "colab_type": "code",
        "colab": {
          "base_uri": "https://localhost:8080/",
          "height": 204
        },
        "outputId": "a907d3ec-a04d-48f0-c46d-6c13fc3cdf2e"
      },
      "source": [
        "data.head()"
      ],
      "execution_count": 27,
      "outputs": [
        {
          "output_type": "execute_result",
          "data": {
            "text/html": [
              "<div>\n",
              "<style scoped>\n",
              "    .dataframe tbody tr th:only-of-type {\n",
              "        vertical-align: middle;\n",
              "    }\n",
              "\n",
              "    .dataframe tbody tr th {\n",
              "        vertical-align: top;\n",
              "    }\n",
              "\n",
              "    .dataframe thead th {\n",
              "        text-align: right;\n",
              "    }\n",
              "</style>\n",
              "<table border=\"1\" class=\"dataframe\">\n",
              "  <thead>\n",
              "    <tr style=\"text-align: right;\">\n",
              "      <th></th>\n",
              "      <th>id</th>\n",
              "      <th>name</th>\n",
              "      <th>date</th>\n",
              "      <th>manner_of_death</th>\n",
              "      <th>armed</th>\n",
              "      <th>age</th>\n",
              "      <th>gender</th>\n",
              "      <th>race</th>\n",
              "      <th>city</th>\n",
              "      <th>state</th>\n",
              "      <th>signs_of_mental_illness</th>\n",
              "      <th>threat_level</th>\n",
              "      <th>flee</th>\n",
              "      <th>body_camera</th>\n",
              "      <th>arms_category</th>\n",
              "    </tr>\n",
              "  </thead>\n",
              "  <tbody>\n",
              "    <tr>\n",
              "      <th>0</th>\n",
              "      <td>3</td>\n",
              "      <td>Tim Elliot</td>\n",
              "      <td>2015-01-02</td>\n",
              "      <td>shot</td>\n",
              "      <td>gun</td>\n",
              "      <td>53.0</td>\n",
              "      <td>M</td>\n",
              "      <td>Asian</td>\n",
              "      <td>Shelton</td>\n",
              "      <td>WA</td>\n",
              "      <td>True</td>\n",
              "      <td>attack</td>\n",
              "      <td>Not fleeing</td>\n",
              "      <td>False</td>\n",
              "      <td>Guns</td>\n",
              "    </tr>\n",
              "    <tr>\n",
              "      <th>1</th>\n",
              "      <td>4</td>\n",
              "      <td>Lewis Lee Lembke</td>\n",
              "      <td>2015-01-02</td>\n",
              "      <td>shot</td>\n",
              "      <td>gun</td>\n",
              "      <td>47.0</td>\n",
              "      <td>M</td>\n",
              "      <td>White</td>\n",
              "      <td>Aloha</td>\n",
              "      <td>OR</td>\n",
              "      <td>False</td>\n",
              "      <td>attack</td>\n",
              "      <td>Not fleeing</td>\n",
              "      <td>False</td>\n",
              "      <td>Guns</td>\n",
              "    </tr>\n",
              "    <tr>\n",
              "      <th>2</th>\n",
              "      <td>5</td>\n",
              "      <td>John Paul Quintero</td>\n",
              "      <td>2015-01-03</td>\n",
              "      <td>shot and Tasered</td>\n",
              "      <td>unarmed</td>\n",
              "      <td>23.0</td>\n",
              "      <td>M</td>\n",
              "      <td>Hispanic</td>\n",
              "      <td>Wichita</td>\n",
              "      <td>KS</td>\n",
              "      <td>False</td>\n",
              "      <td>other</td>\n",
              "      <td>Not fleeing</td>\n",
              "      <td>False</td>\n",
              "      <td>Unarmed</td>\n",
              "    </tr>\n",
              "    <tr>\n",
              "      <th>3</th>\n",
              "      <td>8</td>\n",
              "      <td>Matthew Hoffman</td>\n",
              "      <td>2015-01-04</td>\n",
              "      <td>shot</td>\n",
              "      <td>toy weapon</td>\n",
              "      <td>32.0</td>\n",
              "      <td>M</td>\n",
              "      <td>White</td>\n",
              "      <td>San Francisco</td>\n",
              "      <td>CA</td>\n",
              "      <td>True</td>\n",
              "      <td>attack</td>\n",
              "      <td>Not fleeing</td>\n",
              "      <td>False</td>\n",
              "      <td>Other unusual objects</td>\n",
              "    </tr>\n",
              "    <tr>\n",
              "      <th>4</th>\n",
              "      <td>9</td>\n",
              "      <td>Michael Rodriguez</td>\n",
              "      <td>2015-01-04</td>\n",
              "      <td>shot</td>\n",
              "      <td>nail gun</td>\n",
              "      <td>39.0</td>\n",
              "      <td>M</td>\n",
              "      <td>Hispanic</td>\n",
              "      <td>Evans</td>\n",
              "      <td>CO</td>\n",
              "      <td>False</td>\n",
              "      <td>attack</td>\n",
              "      <td>Not fleeing</td>\n",
              "      <td>False</td>\n",
              "      <td>Piercing objects</td>\n",
              "    </tr>\n",
              "  </tbody>\n",
              "</table>\n",
              "</div>"
            ],
            "text/plain": [
              "   id                name  ... body_camera          arms_category\n",
              "0   3          Tim Elliot  ...       False                   Guns\n",
              "1   4    Lewis Lee Lembke  ...       False                   Guns\n",
              "2   5  John Paul Quintero  ...       False                Unarmed\n",
              "3   8     Matthew Hoffman  ...       False  Other unusual objects\n",
              "4   9   Michael Rodriguez  ...       False       Piercing objects\n",
              "\n",
              "[5 rows x 15 columns]"
            ]
          },
          "metadata": {
            "tags": []
          },
          "execution_count": 27
        }
      ]
    },
    {
      "cell_type": "markdown",
      "metadata": {
        "id": "nisJ1F7MSazQ",
        "colab_type": "text"
      },
      "source": [
        "**Lets Analyze the association among some categorical variable pairs**"
      ]
    },
    {
      "cell_type": "markdown",
      "metadata": {
        "id": "EqQRf_foS3EX",
        "colab_type": "text"
      },
      "source": [
        "1. \"race\" and \"signs_of_mental_illness\""
      ]
    },
    {
      "cell_type": "code",
      "metadata": {
        "id": "cpaA7dwUJ8P7",
        "colab_type": "code",
        "colab": {
          "base_uri": "https://localhost:8080/",
          "height": 516
        },
        "outputId": "bc6fe829-2a08-4e7b-cb91-368cee4d1037"
      },
      "source": [
        "crosstab1 = pd.crosstab(data[\"race\"], data[\"signs_of_mental_illness\"])\n",
        "print(crosstab1.columns)\n",
        "print(crosstab1.index)\n",
        "print(\"\\n\")\n",
        "print(crosstab1)\n",
        "\n",
        "crosstab1.plot.bar(stacked=False)\n",
        "plt.legend(title='signs_of_mental_illness')\n",
        "plt.show()\n"
      ],
      "execution_count": 33,
      "outputs": [
        {
          "output_type": "stream",
          "text": [
            "Index([False, True], dtype='object', name='signs_of_mental_illness')\n",
            "Index(['Asian', 'Black', 'Hispanic', 'Native', 'Other', 'White'], dtype='object', name='race')\n",
            "\n",
            "\n",
            "signs_of_mental_illness  False  True \n",
            "race                                 \n",
            "Asian                       69     24\n",
            "Black                     1114    184\n",
            "Hispanic                   745    157\n",
            "Native                      64     14\n",
            "Other                       37     11\n",
            "White                     1763    713\n"
          ],
          "name": "stdout"
        },
        {
          "output_type": "display_data",
          "data": {
            "image/png": "[encoded data removed]",
            "text/plain": [
              "<Figure size 432x288 with 1 Axes>"
            ]
          },
          "metadata": {
            "tags": [],
            "needs_background": "light"
          }
        }
      ]
    },
    {
      "cell_type": "markdown",
      "metadata": {
        "id": "WtL-w_CxS_N4",
        "colab_type": "text"
      },
      "source": [
        "2. \"signs_of_mental_illness\" and \"threat_level\""
      ]
    },
    {
      "cell_type": "code",
      "metadata": {
        "id": "RhEE6Gf2KHUt",
        "colab_type": "code",
        "colab": {
          "base_uri": "https://localhost:8080/",
          "height": 142
        },
        "outputId": "9b9a341c-0151-4521-985e-aba9d29f774e"
      },
      "source": [
        "pd.crosstab(data[\"signs_of_mental_illness\"], data[\"threat_level\"])"
      ],
      "execution_count": 34,
      "outputs": [
        {
          "output_type": "execute_result",
          "data": {
            "text/html": [
              "<div>\n",
              "<style scoped>\n",
              "    .dataframe tbody tr th:only-of-type {\n",
              "        vertical-align: middle;\n",
              "    }\n",
              "\n",
              "    .dataframe tbody tr th {\n",
              "        vertical-align: top;\n",
              "    }\n",
              "\n",
              "    .dataframe thead th {\n",
              "        text-align: right;\n",
              "    }\n",
              "</style>\n",
              "<table border=\"1\" class=\"dataframe\">\n",
              "  <thead>\n",
              "    <tr style=\"text-align: right;\">\n",
              "      <th>threat_level</th>\n",
              "      <th>attack</th>\n",
              "      <th>other</th>\n",
              "      <th>undetermined</th>\n",
              "    </tr>\n",
              "    <tr>\n",
              "      <th>signs_of_mental_illness</th>\n",
              "      <th></th>\n",
              "      <th></th>\n",
              "      <th></th>\n",
              "    </tr>\n",
              "  </thead>\n",
              "  <tbody>\n",
              "    <tr>\n",
              "      <th>False</th>\n",
              "      <td>2494</td>\n",
              "      <td>1124</td>\n",
              "      <td>174</td>\n",
              "    </tr>\n",
              "    <tr>\n",
              "      <th>True</th>\n",
              "      <td>666</td>\n",
              "      <td>404</td>\n",
              "      <td>33</td>\n",
              "    </tr>\n",
              "  </tbody>\n",
              "</table>\n",
              "</div>"
            ],
            "text/plain": [
              "threat_level             attack  other  undetermined\n",
              "signs_of_mental_illness                             \n",
              "False                      2494   1124           174\n",
              "True                        666    404            33"
            ]
          },
          "metadata": {
            "tags": []
          },
          "execution_count": 34
        }
      ]
    },
    {
      "cell_type": "markdown",
      "metadata": {
        "id": "n06pwY7wTGp0",
        "colab_type": "text"
      },
      "source": [
        "3. \"arms_category\" and \"race\""
      ]
    },
    {
      "cell_type": "code",
      "metadata": {
        "id": "qWfSo1_MKSJr",
        "colab_type": "code",
        "colab": {
          "base_uri": "https://localhost:8080/",
          "height": 452
        },
        "outputId": "3b979d5f-0ff6-49cd-f85b-c77b778408dc"
      },
      "source": [
        "pd.crosstab(data[\"arms_category\"], data[\"race\"])"
      ],
      "execution_count": 32,
      "outputs": [
        {
          "output_type": "execute_result",
          "data": {
            "text/html": [
              "<div>\n",
              "<style scoped>\n",
              "    .dataframe tbody tr th:only-of-type {\n",
              "        vertical-align: middle;\n",
              "    }\n",
              "\n",
              "    .dataframe tbody tr th {\n",
              "        vertical-align: top;\n",
              "    }\n",
              "\n",
              "    .dataframe thead th {\n",
              "        text-align: right;\n",
              "    }\n",
              "</style>\n",
              "<table border=\"1\" class=\"dataframe\">\n",
              "  <thead>\n",
              "    <tr style=\"text-align: right;\">\n",
              "      <th>race</th>\n",
              "      <th>Asian</th>\n",
              "      <th>Black</th>\n",
              "      <th>Hispanic</th>\n",
              "      <th>Native</th>\n",
              "      <th>Other</th>\n",
              "      <th>White</th>\n",
              "    </tr>\n",
              "    <tr>\n",
              "      <th>arms_category</th>\n",
              "      <th></th>\n",
              "      <th></th>\n",
              "      <th></th>\n",
              "      <th></th>\n",
              "      <th></th>\n",
              "      <th></th>\n",
              "    </tr>\n",
              "  </thead>\n",
              "  <tbody>\n",
              "    <tr>\n",
              "      <th>Blunt instruments</th>\n",
              "      <td>5</td>\n",
              "      <td>20</td>\n",
              "      <td>30</td>\n",
              "      <td>2</td>\n",
              "      <td>0</td>\n",
              "      <td>65</td>\n",
              "    </tr>\n",
              "    <tr>\n",
              "      <th>Electrical devices</th>\n",
              "      <td>0</td>\n",
              "      <td>9</td>\n",
              "      <td>4</td>\n",
              "      <td>1</td>\n",
              "      <td>0</td>\n",
              "      <td>10</td>\n",
              "    </tr>\n",
              "    <tr>\n",
              "      <th>Explosives</th>\n",
              "      <td>1</td>\n",
              "      <td>0</td>\n",
              "      <td>1</td>\n",
              "      <td>0</td>\n",
              "      <td>0</td>\n",
              "      <td>2</td>\n",
              "    </tr>\n",
              "    <tr>\n",
              "      <th>Guns</th>\n",
              "      <td>35</td>\n",
              "      <td>766</td>\n",
              "      <td>448</td>\n",
              "      <td>41</td>\n",
              "      <td>19</td>\n",
              "      <td>1455</td>\n",
              "    </tr>\n",
              "    <tr>\n",
              "      <th>Hand tools</th>\n",
              "      <td>0</td>\n",
              "      <td>1</td>\n",
              "      <td>0</td>\n",
              "      <td>0</td>\n",
              "      <td>0</td>\n",
              "      <td>0</td>\n",
              "    </tr>\n",
              "    <tr>\n",
              "      <th>Multiple</th>\n",
              "      <td>3</td>\n",
              "      <td>11</td>\n",
              "      <td>13</td>\n",
              "      <td>0</td>\n",
              "      <td>2</td>\n",
              "      <td>25</td>\n",
              "    </tr>\n",
              "    <tr>\n",
              "      <th>Other unusual objects</th>\n",
              "      <td>2</td>\n",
              "      <td>43</td>\n",
              "      <td>40</td>\n",
              "      <td>1</td>\n",
              "      <td>0</td>\n",
              "      <td>106</td>\n",
              "    </tr>\n",
              "    <tr>\n",
              "      <th>Piercing objects</th>\n",
              "      <td>1</td>\n",
              "      <td>4</td>\n",
              "      <td>8</td>\n",
              "      <td>1</td>\n",
              "      <td>1</td>\n",
              "      <td>14</td>\n",
              "    </tr>\n",
              "    <tr>\n",
              "      <th>Sharp objects</th>\n",
              "      <td>31</td>\n",
              "      <td>170</td>\n",
              "      <td>189</td>\n",
              "      <td>19</td>\n",
              "      <td>14</td>\n",
              "      <td>395</td>\n",
              "    </tr>\n",
              "    <tr>\n",
              "      <th>Unarmed</th>\n",
              "      <td>7</td>\n",
              "      <td>123</td>\n",
              "      <td>63</td>\n",
              "      <td>4</td>\n",
              "      <td>5</td>\n",
              "      <td>146</td>\n",
              "    </tr>\n",
              "    <tr>\n",
              "      <th>Unknown</th>\n",
              "      <td>8</td>\n",
              "      <td>108</td>\n",
              "      <td>89</td>\n",
              "      <td>8</td>\n",
              "      <td>5</td>\n",
              "      <td>200</td>\n",
              "    </tr>\n",
              "    <tr>\n",
              "      <th>Vehicles</th>\n",
              "      <td>0</td>\n",
              "      <td>43</td>\n",
              "      <td>17</td>\n",
              "      <td>1</td>\n",
              "      <td>2</td>\n",
              "      <td>58</td>\n",
              "    </tr>\n",
              "  </tbody>\n",
              "</table>\n",
              "</div>"
            ],
            "text/plain": [
              "race                   Asian  Black  Hispanic  Native  Other  White\n",
              "arms_category                                                      \n",
              "Blunt instruments          5     20        30       2      0     65\n",
              "Electrical devices         0      9         4       1      0     10\n",
              "Explosives                 1      0         1       0      0      2\n",
              "Guns                      35    766       448      41     19   1455\n",
              "Hand tools                 0      1         0       0      0      0\n",
              "Multiple                   3     11        13       0      2     25\n",
              "Other unusual objects      2     43        40       1      0    106\n",
              "Piercing objects           1      4         8       1      1     14\n",
              "Sharp objects             31    170       189      19     14    395\n",
              "Unarmed                    7    123        63       4      5    146\n",
              "Unknown                    8    108        89       8      5    200\n",
              "Vehicles                   0     43        17       1      2     58"
            ]
          },
          "metadata": {
            "tags": []
          },
          "execution_count": 32
        }
      ]
    },
    {
      "cell_type": "markdown",
      "metadata": {
        "id": "s--phRdaTVbD",
        "colab_type": "text"
      },
      "source": [
        "4. \"body_camera\" and \"race\""
      ]
    },
    {
      "cell_type": "code",
      "metadata": {
        "id": "_EHRozjRKiCS",
        "colab_type": "code",
        "colab": {
          "base_uri": "https://localhost:8080/",
          "height": 142
        },
        "outputId": "f93a0703-4bb5-4b58-ae53-98f82bd8d851"
      },
      "source": [
        "pd.crosstab(data[\"body_camera\"], data[\"race\"])"
      ],
      "execution_count": 31,
      "outputs": [
        {
          "output_type": "execute_result",
          "data": {
            "text/html": [
              "<div>\n",
              "<style scoped>\n",
              "    .dataframe tbody tr th:only-of-type {\n",
              "        vertical-align: middle;\n",
              "    }\n",
              "\n",
              "    .dataframe tbody tr th {\n",
              "        vertical-align: top;\n",
              "    }\n",
              "\n",
              "    .dataframe thead th {\n",
              "        text-align: right;\n",
              "    }\n",
              "</style>\n",
              "<table border=\"1\" class=\"dataframe\">\n",
              "  <thead>\n",
              "    <tr style=\"text-align: right;\">\n",
              "      <th>race</th>\n",
              "      <th>Asian</th>\n",
              "      <th>Black</th>\n",
              "      <th>Hispanic</th>\n",
              "      <th>Native</th>\n",
              "      <th>Other</th>\n",
              "      <th>White</th>\n",
              "    </tr>\n",
              "    <tr>\n",
              "      <th>body_camera</th>\n",
              "      <th></th>\n",
              "      <th></th>\n",
              "      <th></th>\n",
              "      <th></th>\n",
              "      <th></th>\n",
              "      <th></th>\n",
              "    </tr>\n",
              "  </thead>\n",
              "  <tbody>\n",
              "    <tr>\n",
              "      <th>False</th>\n",
              "      <td>77</td>\n",
              "      <td>1094</td>\n",
              "      <td>796</td>\n",
              "      <td>66</td>\n",
              "      <td>42</td>\n",
              "      <td>2242</td>\n",
              "    </tr>\n",
              "    <tr>\n",
              "      <th>True</th>\n",
              "      <td>16</td>\n",
              "      <td>204</td>\n",
              "      <td>106</td>\n",
              "      <td>12</td>\n",
              "      <td>6</td>\n",
              "      <td>234</td>\n",
              "    </tr>\n",
              "  </tbody>\n",
              "</table>\n",
              "</div>"
            ],
            "text/plain": [
              "race         Asian  Black  Hispanic  Native  Other  White\n",
              "body_camera                                              \n",
              "False           77   1094       796      66     42   2242\n",
              "True            16    204       106      12      6    234"
            ]
          },
          "metadata": {
            "tags": []
          },
          "execution_count": 31
        }
      ]
    },
    {
      "cell_type": "markdown",
      "metadata": {
        "id": "binErIm9TyFP",
        "colab_type": "text"
      },
      "source": [
        "5. \"race\" and \"flee\""
      ]
    },
    {
      "cell_type": "code",
      "metadata": {
        "id": "4DQ8MBWKKwfD",
        "colab_type": "code",
        "colab": {
          "base_uri": "https://localhost:8080/",
          "height": 266
        },
        "outputId": "8f1d3dcb-0ece-4e94-afa0-a583584b158f"
      },
      "source": [
        "pd.crosstab(data[\"race\"], data[\"flee\"])"
      ],
      "execution_count": 35,
      "outputs": [
        {
          "output_type": "execute_result",
          "data": {
            "text/html": [
              "<div>\n",
              "<style scoped>\n",
              "    .dataframe tbody tr th:only-of-type {\n",
              "        vertical-align: middle;\n",
              "    }\n",
              "\n",
              "    .dataframe tbody tr th {\n",
              "        vertical-align: top;\n",
              "    }\n",
              "\n",
              "    .dataframe thead th {\n",
              "        text-align: right;\n",
              "    }\n",
              "</style>\n",
              "<table border=\"1\" class=\"dataframe\">\n",
              "  <thead>\n",
              "    <tr style=\"text-align: right;\">\n",
              "      <th>flee</th>\n",
              "      <th>Car</th>\n",
              "      <th>Foot</th>\n",
              "      <th>Not fleeing</th>\n",
              "      <th>Other</th>\n",
              "    </tr>\n",
              "    <tr>\n",
              "      <th>race</th>\n",
              "      <th></th>\n",
              "      <th></th>\n",
              "      <th></th>\n",
              "      <th></th>\n",
              "    </tr>\n",
              "  </thead>\n",
              "  <tbody>\n",
              "    <tr>\n",
              "      <th>Asian</th>\n",
              "      <td>6</td>\n",
              "      <td>11</td>\n",
              "      <td>71</td>\n",
              "      <td>5</td>\n",
              "    </tr>\n",
              "    <tr>\n",
              "      <th>Black</th>\n",
              "      <td>218</td>\n",
              "      <td>255</td>\n",
              "      <td>734</td>\n",
              "      <td>91</td>\n",
              "    </tr>\n",
              "    <tr>\n",
              "      <th>Hispanic</th>\n",
              "      <td>159</td>\n",
              "      <td>124</td>\n",
              "      <td>534</td>\n",
              "      <td>85</td>\n",
              "    </tr>\n",
              "    <tr>\n",
              "      <th>Native</th>\n",
              "      <td>9</td>\n",
              "      <td>16</td>\n",
              "      <td>47</td>\n",
              "      <td>6</td>\n",
              "    </tr>\n",
              "    <tr>\n",
              "      <th>Other</th>\n",
              "      <td>10</td>\n",
              "      <td>5</td>\n",
              "      <td>30</td>\n",
              "      <td>3</td>\n",
              "    </tr>\n",
              "    <tr>\n",
              "      <th>White</th>\n",
              "      <td>418</td>\n",
              "      <td>231</td>\n",
              "      <td>1657</td>\n",
              "      <td>170</td>\n",
              "    </tr>\n",
              "  </tbody>\n",
              "</table>\n",
              "</div>"
            ],
            "text/plain": [
              "flee      Car  Foot  Not fleeing  Other\n",
              "race                                   \n",
              "Asian       6    11           71      5\n",
              "Black     218   255          734     91\n",
              "Hispanic  159   124          534     85\n",
              "Native      9    16           47      6\n",
              "Other      10     5           30      3\n",
              "White     418   231         1657    170"
            ]
          },
          "metadata": {
            "tags": []
          },
          "execution_count": 35
        }
      ]
    },
    {
      "cell_type": "markdown",
      "metadata": {
        "id": "RHhUfXqxT3GP",
        "colab_type": "text"
      },
      "source": [
        "Lets extract month and year from \"date\" variable and add two extra variable \"month\" and \"year\" to analyze  the count of shot people monthly and yearly "
      ]
    },
    {
      "cell_type": "code",
      "metadata": {
        "id": "sfWWrLFCb9ir",
        "colab_type": "code",
        "colab": {
          "base_uri": "https://localhost:8080/",
          "height": 136
        },
        "outputId": "e4748f34-2514-433d-fea5-770f2cf00cdf"
      },
      "source": [
        "data[\"manner_of_death\"].unique()\n",
        "data['year'] = pd.DatetimeIndex(data['date']).year\n",
        "data['month'] = pd.DatetimeIndex(data['date']).month\n",
        "print(data[\"year\"].unique())\n",
        "print(data[\"month\"].unique())\n",
        "print(data.columns)\n",
        "print(data.columns.__len__())"
      ],
      "execution_count": 36,
      "outputs": [
        {
          "output_type": "stream",
          "text": [
            "[2015 2016 2017 2018 2019 2020]\n",
            "[ 1  2  3  4  5  6  7  8  9 10 11 12]\n",
            "Index(['id', 'name', 'date', 'manner_of_death', 'armed', 'age', 'gender',\n",
            "       'race', 'city', 'state', 'signs_of_mental_illness', 'threat_level',\n",
            "       'flee', 'body_camera', 'arms_category', 'year', 'month'],\n",
            "      dtype='object')\n",
            "17\n"
          ],
          "name": "stdout"
        }
      ]
    },
    {
      "cell_type": "markdown",
      "metadata": {
        "id": "rn2TCyUyVdIE",
        "colab_type": "text"
      },
      "source": [
        "month  mapping: \n",
        "{\"1\": Jan,\n",
        "\"2\": Feb,\n",
        "\"3\": March,\n",
        "\"4\": April,\n",
        "\"5\": May,\n",
        "\"6\": June,\n",
        "\"7\": July,\n",
        "\"8\": August,\n",
        "\"9\": September,\n",
        "\"10\": October,\n",
        "\"11\": November,\n",
        "\"12\": December\n",
        "}"
      ]
    },
    {
      "cell_type": "markdown",
      "metadata": {
        "id": "fWJ9ecLPUsCR",
        "colab_type": "text"
      },
      "source": [
        "**Analyzing the count of shot people monthly with pie chart**"
      ]
    },
    {
      "cell_type": "code",
      "metadata": {
        "id": "Y7zDsEqAUzlR",
        "colab_type": "code",
        "colab": {
          "base_uri": "https://localhost:8080/",
          "height": 797
        },
        "outputId": "a00968be-5b75-496c-8f7a-48b996c887ab"
      },
      "source": [
        "print(data.groupby([\"month\"])[\"id\"].count())\n",
        "month_wise_values = data.groupby([\"month\"])[\"id\"].count().values.tolist()\n",
        "month_df = pd.DataFrame({\"month\":data.month.unique().tolist(), \"count\": month_wise_values})\n",
        "\n",
        "print(month_wise_values)\n",
        "fig = px.pie(month_df, values=\"count\",  names='month')\n",
        "fig.show()\n"
      ],
      "execution_count": 61,
      "outputs": [
        {
          "output_type": "stream",
          "text": [
            "month\n",
            "1     505\n",
            "2     462\n",
            "3     503\n",
            "4     430\n",
            "5     418\n",
            "6     399\n",
            "7     413\n",
            "8     371\n",
            "9     328\n",
            "10    367\n",
            "11    354\n",
            "12    345\n",
            "Name: id, dtype: int64\n",
            "[505, 462, 503, 430, 418, 399, 413, 371, 328, 367, 354, 345]\n"
          ],
          "name": "stdout"
        },
        {
          "output_type": "display_data",
          "data": {
            "text/html": [
              "<html>\n",
              "<head><meta charset=\"utf-8\" /></head>\n",
              "<body>\n",
              "    <div>\n",
              "            <script src=\"https://cdnjs.cloudflare.com/ajax/libs/mathjax/2.7.5/MathJax.js?config=TeX-AMS-MML_SVG\"></script><script type=\"text/javascript\">if (window.MathJax) {MathJax.Hub.Config({SVG: {font: \"STIX-Web\"}});}</script>\n",
              "                <script type=\"text/javascript\">window.PlotlyConfig = {MathJaxConfig: 'local'};</script>\n",
              "        <script src=\"https://cdn.plot.ly/plotly-latest.min.js\"></script>    \n",
              "            <div id=\"a69b24f3-db9c-47b6-bf8e-102e18607b66\" class=\"plotly-graph-div\" style=\"height:525px; width:100%;\"></div>\n",
              "            <script type=\"text/javascript\">\n",
              "                \n",
              "                    window.PLOTLYENV=window.PLOTLYENV || {};\n",
              "                    \n",
              "                if (document.getElementById(\"a69b24f3-db9c-47b6-bf8e-102e18607b66\")) {\n",
              "                    Plotly.newPlot(\n",
              "                        'a69b24f3-db9c-47b6-bf8e-102e18607b66',\n",
              "                        [{\"domain\": {\"x\": [0.0, 1.0], \"y\": [0.0, 1.0]}, \"hoverlabel\": {\"namelength\": 0}, \"hovertemplate\": \"month=%{label}<br>count=%{value}\", \"labels\": [1, 2, 3, 4, 5, 6, 7, 8, 9, 10, 11, 12], \"legendgroup\": \"\", \"name\": \"\", \"showlegend\": true, \"type\": \"pie\", \"values\": [505, 462, 503, 430, 418, 399, 413, 371, 328, 367, 354, 345]}],\n",
              "                        {\"legend\": {\"tracegroupgap\": 0}, \"margin\": {\"t\": 60}, \"template\": {\"data\": {\"bar\": [{\"error_x\": {\"color\": \"#2a3f5f\"}, \"error_y\": {\"color\": \"#2a3f5f\"}, \"marker\": {\"line\": {\"color\": \"#E5ECF6\", \"width\": 0.5}}, \"type\": \"bar\"}], \"barpolar\": [{\"marker\": {\"line\": {\"color\": \"#E5ECF6\", \"width\": 0.5}}, \"type\": \"barpolar\"}], \"carpet\": [{\"aaxis\": {\"endlinecolor\": \"#2a3f5f\", \"gridcolor\": \"white\", \"linecolor\": \"white\", \"minorgridcolor\": \"white\", \"startlinecolor\": \"#2a3f5f\"}, \"baxis\": {\"endlinecolor\": \"#2a3f5f\", \"gridcolor\": \"white\", \"linecolor\": \"white\", \"minorgridcolor\": \"white\", \"startlinecolor\": \"#2a3f5f\"}, \"type\": \"carpet\"}], \"choropleth\": [{\"colorbar\": {\"outlinewidth\": 0, \"ticks\": \"\"}, \"type\": \"choropleth\"}], \"contour\": [{\"colorbar\": {\"outlinewidth\": 0, \"ticks\": \"\"}, \"colorscale\": [[0.0, \"#0d0887\"], [0.1111111111111111, \"#46039f\"], [0.2222222222222222, \"#7201a8\"], [0.3333333333333333, \"#9c179e\"], [0.4444444444444444, \"#bd3786\"], [0.5555555555555556, \"#d8576b\"], [0.6666666666666666, \"#ed7953\"], [0.7777777777777778, \"#fb9f3a\"], [0.8888888888888888, \"#fdca26\"], [1.0, \"#f0f921\"]], \"type\": \"contour\"}], \"contourcarpet\": [{\"colorbar\": {\"outlinewidth\": 0, \"ticks\": \"\"}, \"type\": \"contourcarpet\"}], \"heatmap\": [{\"colorbar\": {\"outlinewidth\": 0, \"ticks\": \"\"}, \"colorscale\": [[0.0, \"#0d0887\"], [0.1111111111111111, \"#46039f\"], [0.2222222222222222, \"#7201a8\"], [0.3333333333333333, \"#9c179e\"], [0.4444444444444444, \"#bd3786\"], [0.5555555555555556, \"#d8576b\"], [0.6666666666666666, \"#ed7953\"], [0.7777777777777778, \"#fb9f3a\"], [0.8888888888888888, \"#fdca26\"], [1.0, \"#f0f921\"]], \"type\": \"heatmap\"}], \"heatmapgl\": [{\"colorbar\": {\"outlinewidth\": 0, \"ticks\": \"\"}, \"colorscale\": [[0.0, \"#0d0887\"], [0.1111111111111111, \"#46039f\"], [0.2222222222222222, \"#7201a8\"], [0.3333333333333333, \"#9c179e\"], [0.4444444444444444, \"#bd3786\"], [0.5555555555555556, \"#d8576b\"], [0.6666666666666666, \"#ed7953\"], [0.7777777777777778, \"#fb9f3a\"], [0.8888888888888888, \"#fdca26\"], [1.0, \"#f0f921\"]], \"type\": \"heatmapgl\"}], \"histogram\": [{\"marker\": {\"colorbar\": {\"outlinewidth\": 0, \"ticks\": \"\"}}, \"type\": \"histogram\"}], \"histogram2d\": [{\"colorbar\": {\"outlinewidth\": 0, \"ticks\": \"\"}, \"colorscale\": [[0.0, \"#0d0887\"], [0.1111111111111111, \"#46039f\"], [0.2222222222222222, \"#7201a8\"], [0.3333333333333333, \"#9c179e\"], [0.4444444444444444, \"#bd3786\"], [0.5555555555555556, \"#d8576b\"], [0.6666666666666666, \"#ed7953\"], [0.7777777777777778, \"#fb9f3a\"], [0.8888888888888888, \"#fdca26\"], [1.0, \"#f0f921\"]], \"type\": \"histogram2d\"}], \"histogram2dcontour\": [{\"colorbar\": {\"outlinewidth\": 0, \"ticks\": \"\"}, \"colorscale\": [[0.0, \"#0d0887\"], [0.1111111111111111, \"#46039f\"], [0.2222222222222222, \"#7201a8\"], [0.3333333333333333, \"#9c179e\"], [0.4444444444444444, \"#bd3786\"], [0.5555555555555556, \"#d8576b\"], [0.6666666666666666, \"#ed7953\"], [0.7777777777777778, \"#fb9f3a\"], [0.8888888888888888, \"#fdca26\"], [1.0, \"#f0f921\"]], \"type\": \"histogram2dcontour\"}], \"mesh3d\": [{\"colorbar\": {\"outlinewidth\": 0, \"ticks\": \"\"}, \"type\": \"mesh3d\"}], \"parcoords\": [{\"line\": {\"colorbar\": {\"outlinewidth\": 0, \"ticks\": \"\"}}, \"type\": \"parcoords\"}], \"pie\": [{\"automargin\": true, \"type\": \"pie\"}], \"scatter\": [{\"marker\": {\"colorbar\": {\"outlinewidth\": 0, \"ticks\": \"\"}}, \"type\": \"scatter\"}], \"scatter3d\": [{\"line\": {\"colorbar\": {\"outlinewidth\": 0, \"ticks\": \"\"}}, \"marker\": {\"colorbar\": {\"outlinewidth\": 0, \"ticks\": \"\"}}, \"type\": \"scatter3d\"}], \"scattercarpet\": [{\"marker\": {\"colorbar\": {\"outlinewidth\": 0, \"ticks\": \"\"}}, \"type\": \"scattercarpet\"}], \"scattergeo\": [{\"marker\": {\"colorbar\": {\"outlinewidth\": 0, \"ticks\": \"\"}}, \"type\": \"scattergeo\"}], \"scattergl\": [{\"marker\": {\"colorbar\": {\"outlinewidth\": 0, \"ticks\": \"\"}}, \"type\": \"scattergl\"}], \"scattermapbox\": [{\"marker\": {\"colorbar\": {\"outlinewidth\": 0, \"ticks\": \"\"}}, \"type\": \"scattermapbox\"}], \"scatterpolar\": [{\"marker\": {\"colorbar\": {\"outlinewidth\": 0, \"ticks\": \"\"}}, \"type\": \"scatterpolar\"}], \"scatterpolargl\": [{\"marker\": {\"colorbar\": {\"outlinewidth\": 0, \"ticks\": \"\"}}, \"type\": \"scatterpolargl\"}], \"scatterternary\": [{\"marker\": {\"colorbar\": {\"outlinewidth\": 0, \"ticks\": \"\"}}, \"type\": \"scatterternary\"}], \"surface\": [{\"colorbar\": {\"outlinewidth\": 0, \"ticks\": \"\"}, \"colorscale\": [[0.0, \"#0d0887\"], [0.1111111111111111, \"#46039f\"], [0.2222222222222222, \"#7201a8\"], [0.3333333333333333, \"#9c179e\"], [0.4444444444444444, \"#bd3786\"], [0.5555555555555556, \"#d8576b\"], [0.6666666666666666, \"#ed7953\"], [0.7777777777777778, \"#fb9f3a\"], [0.8888888888888888, \"#fdca26\"], [1.0, \"#f0f921\"]], \"type\": \"surface\"}], \"table\": [{\"cells\": {\"fill\": {\"color\": \"#EBF0F8\"}, \"line\": {\"color\": \"white\"}}, \"header\": {\"fill\": {\"color\": \"#C8D4E3\"}, \"line\": {\"color\": \"white\"}}, \"type\": \"table\"}]}, \"layout\": {\"annotationdefaults\": {\"arrowcolor\": \"#2a3f5f\", \"arrowhead\": 0, \"arrowwidth\": 1}, \"coloraxis\": {\"colorbar\": {\"outlinewidth\": 0, \"ticks\": \"\"}}, \"colorscale\": {\"diverging\": [[0, \"#8e0152\"], [0.1, \"#c51b7d\"], [0.2, \"#de77ae\"], [0.3, \"#f1b6da\"], [0.4, \"#fde0ef\"], [0.5, \"#f7f7f7\"], [0.6, \"#e6f5d0\"], [0.7, \"#b8e186\"], [0.8, \"#7fbc41\"], [0.9, \"#4d9221\"], [1, \"#276419\"]], \"sequential\": [[0.0, \"#0d0887\"], [0.1111111111111111, \"#46039f\"], [0.2222222222222222, \"#7201a8\"], [0.3333333333333333, \"#9c179e\"], [0.4444444444444444, \"#bd3786\"], [0.5555555555555556, \"#d8576b\"], [0.6666666666666666, \"#ed7953\"], [0.7777777777777778, \"#fb9f3a\"], [0.8888888888888888, \"#fdca26\"], [1.0, \"#f0f921\"]], \"sequentialminus\": [[0.0, \"#0d0887\"], [0.1111111111111111, \"#46039f\"], [0.2222222222222222, \"#7201a8\"], [0.3333333333333333, \"#9c179e\"], [0.4444444444444444, \"#bd3786\"], [0.5555555555555556, \"#d8576b\"], [0.6666666666666666, \"#ed7953\"], [0.7777777777777778, \"#fb9f3a\"], [0.8888888888888888, \"#fdca26\"], [1.0, \"#f0f921\"]]}, \"colorway\": [\"#636efa\", \"#EF553B\", \"#00cc96\", \"#ab63fa\", \"#FFA15A\", \"#19d3f3\", \"#FF6692\", \"#B6E880\", \"#FF97FF\", \"#FECB52\"], \"font\": {\"color\": \"#2a3f5f\"}, \"geo\": {\"bgcolor\": \"white\", \"lakecolor\": \"white\", \"landcolor\": \"#E5ECF6\", \"showlakes\": true, \"showland\": true, \"subunitcolor\": \"white\"}, \"hoverlabel\": {\"align\": \"left\"}, \"hovermode\": \"closest\", \"mapbox\": {\"style\": \"light\"}, \"paper_bgcolor\": \"white\", \"plot_bgcolor\": \"#E5ECF6\", \"polar\": {\"angularaxis\": {\"gridcolor\": \"white\", \"linecolor\": \"white\", \"ticks\": \"\"}, \"bgcolor\": \"#E5ECF6\", \"radialaxis\": {\"gridcolor\": \"white\", \"linecolor\": \"white\", \"ticks\": \"\"}}, \"scene\": {\"xaxis\": {\"backgroundcolor\": \"#E5ECF6\", \"gridcolor\": \"white\", \"gridwidth\": 2, \"linecolor\": \"white\", \"showbackground\": true, \"ticks\": \"\", \"zerolinecolor\": \"white\"}, \"yaxis\": {\"backgroundcolor\": \"#E5ECF6\", \"gridcolor\": \"white\", \"gridwidth\": 2, \"linecolor\": \"white\", \"showbackground\": true, \"ticks\": \"\", \"zerolinecolor\": \"white\"}, \"zaxis\": {\"backgroundcolor\": \"#E5ECF6\", \"gridcolor\": \"white\", \"gridwidth\": 2, \"linecolor\": \"white\", \"showbackground\": true, \"ticks\": \"\", \"zerolinecolor\": \"white\"}}, \"shapedefaults\": {\"line\": {\"color\": \"#2a3f5f\"}}, \"ternary\": {\"aaxis\": {\"gridcolor\": \"white\", \"linecolor\": \"white\", \"ticks\": \"\"}, \"baxis\": {\"gridcolor\": \"white\", \"linecolor\": \"white\", \"ticks\": \"\"}, \"bgcolor\": \"#E5ECF6\", \"caxis\": {\"gridcolor\": \"white\", \"linecolor\": \"white\", \"ticks\": \"\"}}, \"title\": {\"x\": 0.05}, \"xaxis\": {\"automargin\": true, \"gridcolor\": \"white\", \"linecolor\": \"white\", \"ticks\": \"\", \"title\": {\"standoff\": 15}, \"zerolinecolor\": \"white\", \"zerolinewidth\": 2}, \"yaxis\": {\"automargin\": true, \"gridcolor\": \"white\", \"linecolor\": \"white\", \"ticks\": \"\", \"title\": {\"standoff\": 15}, \"zerolinecolor\": \"white\", \"zerolinewidth\": 2}}}},\n",
              "                        {\"responsive\": true}\n",
              "                    ).then(function(){\n",
              "                            \n",
              "var gd = document.getElementById('a69b24f3-db9c-47b6-bf8e-102e18607b66');\n",
              "var x = new MutationObserver(function (mutations, observer) {{\n",
              "        var display = window.getComputedStyle(gd).display;\n",
              "        if (!display || display === 'none') {{\n",
              "            console.log([gd, 'removed!']);\n",
              "            Plotly.purge(gd);\n",
              "            observer.disconnect();\n",
              "        }}\n",
              "}});\n",
              "\n",
              "// Listen for the removal of the full notebook cells\n",
              "var notebookContainer = gd.closest('#notebook-container');\n",
              "if (notebookContainer) {{\n",
              "    x.observe(notebookContainer, {childList: true});\n",
              "}}\n",
              "\n",
              "// Listen for the clearing of the current output cell\n",
              "var outputEl = gd.closest('.output');\n",
              "if (outputEl) {{\n",
              "    x.observe(outputEl, {childList: true});\n",
              "}}\n",
              "\n",
              "                        })\n",
              "                };\n",
              "                \n",
              "            </script>\n",
              "        </div>\n",
              "</body>\n",
              "</html>"
            ]
          },
          "metadata": {
            "tags": []
          }
        }
      ]
    },
    {
      "cell_type": "markdown",
      "metadata": {
        "id": "BI5FSe1ZU4c0",
        "colab_type": "text"
      },
      "source": [
        "**Analyzing the count of shot people yearly with pie chart**"
      ]
    },
    {
      "cell_type": "code",
      "metadata": {
        "id": "sJpBEUUNVAAr",
        "colab_type": "code",
        "colab": {
          "base_uri": "https://localhost:8080/",
          "height": 695
        },
        "outputId": "70a72f8e-ff1b-4ebe-c99a-0c29f7ebb537"
      },
      "source": [
        "print(data.groupby([\"year\"])[\"id\"].count())\n",
        "year_wise_values = data.groupby([\"year\"])[\"id\"].count().values.tolist()\n",
        "year_df = pd.DataFrame({\"year\":data.year.unique().tolist(), \"count\": year_wise_values})\n",
        "\n",
        "print(year_wise_values)\n",
        "fig = px.pie(year_df, values=\"count\",  names='year')\n",
        "fig.show()"
      ],
      "execution_count": 60,
      "outputs": [
        {
          "output_type": "stream",
          "text": [
            "year\n",
            "2015    965\n",
            "2016    904\n",
            "2017    906\n",
            "2018    888\n",
            "2019    858\n",
            "2020    374\n",
            "Name: id, dtype: int64\n",
            "[965, 904, 906, 888, 858, 374]\n"
          ],
          "name": "stdout"
        },
        {
          "output_type": "display_data",
          "data": {
            "text/html": [
              "<html>\n",
              "<head><meta charset=\"utf-8\" /></head>\n",
              "<body>\n",
              "    <div>\n",
              "            <script src=\"https://cdnjs.cloudflare.com/ajax/libs/mathjax/2.7.5/MathJax.js?config=TeX-AMS-MML_SVG\"></script><script type=\"text/javascript\">if (window.MathJax) {MathJax.Hub.Config({SVG: {font: \"STIX-Web\"}});}</script>\n",
              "                <script type=\"text/javascript\">window.PlotlyConfig = {MathJaxConfig: 'local'};</script>\n",
              "        <script src=\"https://cdn.plot.ly/plotly-latest.min.js\"></script>    \n",
              "            <div id=\"37f73c34-1ad1-4474-9fba-fe9829d62aec\" class=\"plotly-graph-div\" style=\"height:525px; width:100%;\"></div>\n",
              "            <script type=\"text/javascript\">\n",
              "                \n",
              "                    window.PLOTLYENV=window.PLOTLYENV || {};\n",
              "                    \n",
              "                if (document.getElementById(\"37f73c34-1ad1-4474-9fba-fe9829d62aec\")) {\n",
              "                    Plotly.newPlot(\n",
              "                        '37f73c34-1ad1-4474-9fba-fe9829d62aec',\n",
              "                        [{\"domain\": {\"x\": [0.0, 1.0], \"y\": [0.0, 1.0]}, \"hoverlabel\": {\"namelength\": 0}, \"hovertemplate\": \"year=%{label}<br>count=%{value}\", \"labels\": [2015, 2016, 2017, 2018, 2019, 2020], \"legendgroup\": \"\", \"name\": \"\", \"showlegend\": true, \"type\": \"pie\", \"values\": [965, 904, 906, 888, 858, 374]}],\n",
              "                        {\"legend\": {\"tracegroupgap\": 0}, \"margin\": {\"t\": 60}, \"template\": {\"data\": {\"bar\": [{\"error_x\": {\"color\": \"#2a3f5f\"}, \"error_y\": {\"color\": \"#2a3f5f\"}, \"marker\": {\"line\": {\"color\": \"#E5ECF6\", \"width\": 0.5}}, \"type\": \"bar\"}], \"barpolar\": [{\"marker\": {\"line\": {\"color\": \"#E5ECF6\", \"width\": 0.5}}, \"type\": \"barpolar\"}], \"carpet\": [{\"aaxis\": {\"endlinecolor\": \"#2a3f5f\", \"gridcolor\": \"white\", \"linecolor\": \"white\", \"minorgridcolor\": \"white\", \"startlinecolor\": \"#2a3f5f\"}, \"baxis\": {\"endlinecolor\": \"#2a3f5f\", \"gridcolor\": \"white\", \"linecolor\": \"white\", \"minorgridcolor\": \"white\", \"startlinecolor\": \"#2a3f5f\"}, \"type\": \"carpet\"}], \"choropleth\": [{\"colorbar\": {\"outlinewidth\": 0, \"ticks\": \"\"}, \"type\": \"choropleth\"}], \"contour\": [{\"colorbar\": {\"outlinewidth\": 0, \"ticks\": \"\"}, \"colorscale\": [[0.0, \"#0d0887\"], [0.1111111111111111, \"#46039f\"], [0.2222222222222222, \"#7201a8\"], [0.3333333333333333, \"#9c179e\"], [0.4444444444444444, \"#bd3786\"], [0.5555555555555556, \"#d8576b\"], [0.6666666666666666, \"#ed7953\"], [0.7777777777777778, \"#fb9f3a\"], [0.8888888888888888, \"#fdca26\"], [1.0, \"#f0f921\"]], \"type\": \"contour\"}], \"contourcarpet\": [{\"colorbar\": {\"outlinewidth\": 0, \"ticks\": \"\"}, \"type\": \"contourcarpet\"}], \"heatmap\": [{\"colorbar\": {\"outlinewidth\": 0, \"ticks\": \"\"}, \"colorscale\": [[0.0, \"#0d0887\"], [0.1111111111111111, \"#46039f\"], [0.2222222222222222, \"#7201a8\"], [0.3333333333333333, \"#9c179e\"], [0.4444444444444444, \"#bd3786\"], [0.5555555555555556, \"#d8576b\"], [0.6666666666666666, \"#ed7953\"], [0.7777777777777778, \"#fb9f3a\"], [0.8888888888888888, \"#fdca26\"], [1.0, \"#f0f921\"]], \"type\": \"heatmap\"}], \"heatmapgl\": [{\"colorbar\": {\"outlinewidth\": 0, \"ticks\": \"\"}, \"colorscale\": [[0.0, \"#0d0887\"], [0.1111111111111111, \"#46039f\"], [0.2222222222222222, \"#7201a8\"], [0.3333333333333333, \"#9c179e\"], [0.4444444444444444, \"#bd3786\"], [0.5555555555555556, \"#d8576b\"], [0.6666666666666666, \"#ed7953\"], [0.7777777777777778, \"#fb9f3a\"], [0.8888888888888888, \"#fdca26\"], [1.0, \"#f0f921\"]], \"type\": \"heatmapgl\"}], \"histogram\": [{\"marker\": {\"colorbar\": {\"outlinewidth\": 0, \"ticks\": \"\"}}, \"type\": \"histogram\"}], \"histogram2d\": [{\"colorbar\": {\"outlinewidth\": 0, \"ticks\": \"\"}, \"colorscale\": [[0.0, \"#0d0887\"], [0.1111111111111111, \"#46039f\"], [0.2222222222222222, \"#7201a8\"], [0.3333333333333333, \"#9c179e\"], [0.4444444444444444, \"#bd3786\"], [0.5555555555555556, \"#d8576b\"], [0.6666666666666666, \"#ed7953\"], [0.7777777777777778, \"#fb9f3a\"], [0.8888888888888888, \"#fdca26\"], [1.0, \"#f0f921\"]], \"type\": \"histogram2d\"}], \"histogram2dcontour\": [{\"colorbar\": {\"outlinewidth\": 0, \"ticks\": \"\"}, \"colorscale\": [[0.0, \"#0d0887\"], [0.1111111111111111, \"#46039f\"], [0.2222222222222222, \"#7201a8\"], [0.3333333333333333, \"#9c179e\"], [0.4444444444444444, \"#bd3786\"], [0.5555555555555556, \"#d8576b\"], [0.6666666666666666, \"#ed7953\"], [0.7777777777777778, \"#fb9f3a\"], [0.8888888888888888, \"#fdca26\"], [1.0, \"#f0f921\"]], \"type\": \"histogram2dcontour\"}], \"mesh3d\": [{\"colorbar\": {\"outlinewidth\": 0, \"ticks\": \"\"}, \"type\": \"mesh3d\"}], \"parcoords\": [{\"line\": {\"colorbar\": {\"outlinewidth\": 0, \"ticks\": \"\"}}, \"type\": \"parcoords\"}], \"pie\": [{\"automargin\": true, \"type\": \"pie\"}], \"scatter\": [{\"marker\": {\"colorbar\": {\"outlinewidth\": 0, \"ticks\": \"\"}}, \"type\": \"scatter\"}], \"scatter3d\": [{\"line\": {\"colorbar\": {\"outlinewidth\": 0, \"ticks\": \"\"}}, \"marker\": {\"colorbar\": {\"outlinewidth\": 0, \"ticks\": \"\"}}, \"type\": \"scatter3d\"}], \"scattercarpet\": [{\"marker\": {\"colorbar\": {\"outlinewidth\": 0, \"ticks\": \"\"}}, \"type\": \"scattercarpet\"}], \"scattergeo\": [{\"marker\": {\"colorbar\": {\"outlinewidth\": 0, \"ticks\": \"\"}}, \"type\": \"scattergeo\"}], \"scattergl\": [{\"marker\": {\"colorbar\": {\"outlinewidth\": 0, \"ticks\": \"\"}}, \"type\": \"scattergl\"}], \"scattermapbox\": [{\"marker\": {\"colorbar\": {\"outlinewidth\": 0, \"ticks\": \"\"}}, \"type\": \"scattermapbox\"}], \"scatterpolar\": [{\"marker\": {\"colorbar\": {\"outlinewidth\": 0, \"ticks\": \"\"}}, \"type\": \"scatterpolar\"}], \"scatterpolargl\": [{\"marker\": {\"colorbar\": {\"outlinewidth\": 0, \"ticks\": \"\"}}, \"type\": \"scatterpolargl\"}], \"scatterternary\": [{\"marker\": {\"colorbar\": {\"outlinewidth\": 0, \"ticks\": \"\"}}, \"type\": \"scatterternary\"}], \"surface\": [{\"colorbar\": {\"outlinewidth\": 0, \"ticks\": \"\"}, \"colorscale\": [[0.0, \"#0d0887\"], [0.1111111111111111, \"#46039f\"], [0.2222222222222222, \"#7201a8\"], [0.3333333333333333, \"#9c179e\"], [0.4444444444444444, \"#bd3786\"], [0.5555555555555556, \"#d8576b\"], [0.6666666666666666, \"#ed7953\"], [0.7777777777777778, \"#fb9f3a\"], [0.8888888888888888, \"#fdca26\"], [1.0, \"#f0f921\"]], \"type\": \"surface\"}], \"table\": [{\"cells\": {\"fill\": {\"color\": \"#EBF0F8\"}, \"line\": {\"color\": \"white\"}}, \"header\": {\"fill\": {\"color\": \"#C8D4E3\"}, \"line\": {\"color\": \"white\"}}, \"type\": \"table\"}]}, \"layout\": {\"annotationdefaults\": {\"arrowcolor\": \"#2a3f5f\", \"arrowhead\": 0, \"arrowwidth\": 1}, \"coloraxis\": {\"colorbar\": {\"outlinewidth\": 0, \"ticks\": \"\"}}, \"colorscale\": {\"diverging\": [[0, \"#8e0152\"], [0.1, \"#c51b7d\"], [0.2, \"#de77ae\"], [0.3, \"#f1b6da\"], [0.4, \"#fde0ef\"], [0.5, \"#f7f7f7\"], [0.6, \"#e6f5d0\"], [0.7, \"#b8e186\"], [0.8, \"#7fbc41\"], [0.9, \"#4d9221\"], [1, \"#276419\"]], \"sequential\": [[0.0, \"#0d0887\"], [0.1111111111111111, \"#46039f\"], [0.2222222222222222, \"#7201a8\"], [0.3333333333333333, \"#9c179e\"], [0.4444444444444444, \"#bd3786\"], [0.5555555555555556, \"#d8576b\"], [0.6666666666666666, \"#ed7953\"], [0.7777777777777778, \"#fb9f3a\"], [0.8888888888888888, \"#fdca26\"], [1.0, \"#f0f921\"]], \"sequentialminus\": [[0.0, \"#0d0887\"], [0.1111111111111111, \"#46039f\"], [0.2222222222222222, \"#7201a8\"], [0.3333333333333333, \"#9c179e\"], [0.4444444444444444, \"#bd3786\"], [0.5555555555555556, \"#d8576b\"], [0.6666666666666666, \"#ed7953\"], [0.7777777777777778, \"#fb9f3a\"], [0.8888888888888888, \"#fdca26\"], [1.0, \"#f0f921\"]]}, \"colorway\": [\"#636efa\", \"#EF553B\", \"#00cc96\", \"#ab63fa\", \"#FFA15A\", \"#19d3f3\", \"#FF6692\", \"#B6E880\", \"#FF97FF\", \"#FECB52\"], \"font\": {\"color\": \"#2a3f5f\"}, \"geo\": {\"bgcolor\": \"white\", \"lakecolor\": \"white\", \"landcolor\": \"#E5ECF6\", \"showlakes\": true, \"showland\": true, \"subunitcolor\": \"white\"}, \"hoverlabel\": {\"align\": \"left\"}, \"hovermode\": \"closest\", \"mapbox\": {\"style\": \"light\"}, \"paper_bgcolor\": \"white\", \"plot_bgcolor\": \"#E5ECF6\", \"polar\": {\"angularaxis\": {\"gridcolor\": \"white\", \"linecolor\": \"white\", \"ticks\": \"\"}, \"bgcolor\": \"#E5ECF6\", \"radialaxis\": {\"gridcolor\": \"white\", \"linecolor\": \"white\", \"ticks\": \"\"}}, \"scene\": {\"xaxis\": {\"backgroundcolor\": \"#E5ECF6\", \"gridcolor\": \"white\", \"gridwidth\": 2, \"linecolor\": \"white\", \"showbackground\": true, \"ticks\": \"\", \"zerolinecolor\": \"white\"}, \"yaxis\": {\"backgroundcolor\": \"#E5ECF6\", \"gridcolor\": \"white\", \"gridwidth\": 2, \"linecolor\": \"white\", \"showbackground\": true, \"ticks\": \"\", \"zerolinecolor\": \"white\"}, \"zaxis\": {\"backgroundcolor\": \"#E5ECF6\", \"gridcolor\": \"white\", \"gridwidth\": 2, \"linecolor\": \"white\", \"showbackground\": true, \"ticks\": \"\", \"zerolinecolor\": \"white\"}}, \"shapedefaults\": {\"line\": {\"color\": \"#2a3f5f\"}}, \"ternary\": {\"aaxis\": {\"gridcolor\": \"white\", \"linecolor\": \"white\", \"ticks\": \"\"}, \"baxis\": {\"gridcolor\": \"white\", \"linecolor\": \"white\", \"ticks\": \"\"}, \"bgcolor\": \"#E5ECF6\", \"caxis\": {\"gridcolor\": \"white\", \"linecolor\": \"white\", \"ticks\": \"\"}}, \"title\": {\"x\": 0.05}, \"xaxis\": {\"automargin\": true, \"gridcolor\": \"white\", \"linecolor\": \"white\", \"ticks\": \"\", \"title\": {\"standoff\": 15}, \"zerolinecolor\": \"white\", \"zerolinewidth\": 2}, \"yaxis\": {\"automargin\": true, \"gridcolor\": \"white\", \"linecolor\": \"white\", \"ticks\": \"\", \"title\": {\"standoff\": 15}, \"zerolinecolor\": \"white\", \"zerolinewidth\": 2}}}},\n",
              "                        {\"responsive\": true}\n",
              "                    ).then(function(){\n",
              "                            \n",
              "var gd = document.getElementById('37f73c34-1ad1-4474-9fba-fe9829d62aec');\n",
              "var x = new MutationObserver(function (mutations, observer) {{\n",
              "        var display = window.getComputedStyle(gd).display;\n",
              "        if (!display || display === 'none') {{\n",
              "            console.log([gd, 'removed!']);\n",
              "            Plotly.purge(gd);\n",
              "            observer.disconnect();\n",
              "        }}\n",
              "}});\n",
              "\n",
              "// Listen for the removal of the full notebook cells\n",
              "var notebookContainer = gd.closest('#notebook-container');\n",
              "if (notebookContainer) {{\n",
              "    x.observe(notebookContainer, {childList: true});\n",
              "}}\n",
              "\n",
              "// Listen for the clearing of the current output cell\n",
              "var outputEl = gd.closest('.output');\n",
              "if (outputEl) {{\n",
              "    x.observe(outputEl, {childList: true});\n",
              "}}\n",
              "\n",
              "                        })\n",
              "                };\n",
              "                \n",
              "            </script>\n",
              "        </div>\n",
              "</body>\n",
              "</html>"
            ]
          },
          "metadata": {
            "tags": []
          }
        }
      ]
    },
    {
      "cell_type": "markdown",
      "metadata": {
        "id": "d0XYf1JXbWBn",
        "colab_type": "text"
      },
      "source": [
        "**Do crosstab between \"year\" and \"month\"**"
      ]
    },
    {
      "cell_type": "code",
      "metadata": {
        "id": "VRFEKJQ6XR3a",
        "colab_type": "code",
        "colab": {
          "base_uri": "https://localhost:8080/",
          "height": 297
        },
        "outputId": "3e1d6dc7-d1f7-4fdd-ebb0-edfdd84afdbe"
      },
      "source": [
        "pd.crosstab(data[\"year\"], data[\"month\"], margins=True)"
      ],
      "execution_count": 43,
      "outputs": [
        {
          "output_type": "execute_result",
          "data": {
            "text/html": [
              "<div>\n",
              "<style scoped>\n",
              "    .dataframe tbody tr th:only-of-type {\n",
              "        vertical-align: middle;\n",
              "    }\n",
              "\n",
              "    .dataframe tbody tr th {\n",
              "        vertical-align: top;\n",
              "    }\n",
              "\n",
              "    .dataframe thead th {\n",
              "        text-align: right;\n",
              "    }\n",
              "</style>\n",
              "<table border=\"1\" class=\"dataframe\">\n",
              "  <thead>\n",
              "    <tr style=\"text-align: right;\">\n",
              "      <th>month</th>\n",
              "      <th>1</th>\n",
              "      <th>2</th>\n",
              "      <th>3</th>\n",
              "      <th>4</th>\n",
              "      <th>5</th>\n",
              "      <th>6</th>\n",
              "      <th>7</th>\n",
              "      <th>8</th>\n",
              "      <th>9</th>\n",
              "      <th>10</th>\n",
              "      <th>11</th>\n",
              "      <th>12</th>\n",
              "      <th>All</th>\n",
              "    </tr>\n",
              "    <tr>\n",
              "      <th>year</th>\n",
              "      <th></th>\n",
              "      <th></th>\n",
              "      <th></th>\n",
              "      <th></th>\n",
              "      <th></th>\n",
              "      <th></th>\n",
              "      <th></th>\n",
              "      <th></th>\n",
              "      <th></th>\n",
              "      <th></th>\n",
              "      <th></th>\n",
              "      <th></th>\n",
              "      <th></th>\n",
              "    </tr>\n",
              "  </thead>\n",
              "  <tbody>\n",
              "    <tr>\n",
              "      <th>2015</th>\n",
              "      <td>75</td>\n",
              "      <td>77</td>\n",
              "      <td>91</td>\n",
              "      <td>83</td>\n",
              "      <td>69</td>\n",
              "      <td>63</td>\n",
              "      <td>100</td>\n",
              "      <td>91</td>\n",
              "      <td>80</td>\n",
              "      <td>78</td>\n",
              "      <td>76</td>\n",
              "      <td>82</td>\n",
              "      <td>965</td>\n",
              "    </tr>\n",
              "    <tr>\n",
              "      <th>2016</th>\n",
              "      <td>80</td>\n",
              "      <td>85</td>\n",
              "      <td>90</td>\n",
              "      <td>73</td>\n",
              "      <td>69</td>\n",
              "      <td>87</td>\n",
              "      <td>71</td>\n",
              "      <td>77</td>\n",
              "      <td>73</td>\n",
              "      <td>71</td>\n",
              "      <td>68</td>\n",
              "      <td>60</td>\n",
              "      <td>904</td>\n",
              "    </tr>\n",
              "    <tr>\n",
              "      <th>2017</th>\n",
              "      <td>91</td>\n",
              "      <td>97</td>\n",
              "      <td>74</td>\n",
              "      <td>65</td>\n",
              "      <td>68</td>\n",
              "      <td>80</td>\n",
              "      <td>91</td>\n",
              "      <td>78</td>\n",
              "      <td>66</td>\n",
              "      <td>81</td>\n",
              "      <td>76</td>\n",
              "      <td>39</td>\n",
              "      <td>906</td>\n",
              "    </tr>\n",
              "    <tr>\n",
              "      <th>2018</th>\n",
              "      <td>96</td>\n",
              "      <td>74</td>\n",
              "      <td>99</td>\n",
              "      <td>88</td>\n",
              "      <td>70</td>\n",
              "      <td>70</td>\n",
              "      <td>82</td>\n",
              "      <td>68</td>\n",
              "      <td>50</td>\n",
              "      <td>64</td>\n",
              "      <td>63</td>\n",
              "      <td>64</td>\n",
              "      <td>888</td>\n",
              "    </tr>\n",
              "    <tr>\n",
              "      <th>2019</th>\n",
              "      <td>81</td>\n",
              "      <td>68</td>\n",
              "      <td>76</td>\n",
              "      <td>63</td>\n",
              "      <td>64</td>\n",
              "      <td>77</td>\n",
              "      <td>69</td>\n",
              "      <td>57</td>\n",
              "      <td>59</td>\n",
              "      <td>73</td>\n",
              "      <td>71</td>\n",
              "      <td>100</td>\n",
              "      <td>858</td>\n",
              "    </tr>\n",
              "    <tr>\n",
              "      <th>2020</th>\n",
              "      <td>82</td>\n",
              "      <td>61</td>\n",
              "      <td>73</td>\n",
              "      <td>58</td>\n",
              "      <td>78</td>\n",
              "      <td>22</td>\n",
              "      <td>0</td>\n",
              "      <td>0</td>\n",
              "      <td>0</td>\n",
              "      <td>0</td>\n",
              "      <td>0</td>\n",
              "      <td>0</td>\n",
              "      <td>374</td>\n",
              "    </tr>\n",
              "    <tr>\n",
              "      <th>All</th>\n",
              "      <td>505</td>\n",
              "      <td>462</td>\n",
              "      <td>503</td>\n",
              "      <td>430</td>\n",
              "      <td>418</td>\n",
              "      <td>399</td>\n",
              "      <td>413</td>\n",
              "      <td>371</td>\n",
              "      <td>328</td>\n",
              "      <td>367</td>\n",
              "      <td>354</td>\n",
              "      <td>345</td>\n",
              "      <td>4895</td>\n",
              "    </tr>\n",
              "  </tbody>\n",
              "</table>\n",
              "</div>"
            ],
            "text/plain": [
              "month    1    2    3    4    5    6    7    8    9   10   11   12   All\n",
              "year                                                                   \n",
              "2015    75   77   91   83   69   63  100   91   80   78   76   82   965\n",
              "2016    80   85   90   73   69   87   71   77   73   71   68   60   904\n",
              "2017    91   97   74   65   68   80   91   78   66   81   76   39   906\n",
              "2018    96   74   99   88   70   70   82   68   50   64   63   64   888\n",
              "2019    81   68   76   63   64   77   69   57   59   73   71  100   858\n",
              "2020    82   61   73   58   78   22    0    0    0    0    0    0   374\n",
              "All    505  462  503  430  418  399  413  371  328  367  354  345  4895"
            ]
          },
          "metadata": {
            "tags": []
          },
          "execution_count": 43
        }
      ]
    },
    {
      "cell_type": "markdown",
      "metadata": {
        "id": "b7_7sQhc7--0",
        "colab_type": "text"
      },
      "source": [
        "**Make pairs of cetgorical variables  to check their pairwise dependence**\n",
        "\n",
        ">H0: Two variables in a pair are independent(No association)\n",
        "\n",
        ">Ha: Two variables in a pair are dependent(associated)"
      ]
    },
    {
      "cell_type": "markdown",
      "metadata": {
        "id": "fQRaiZTEdflU",
        "colab_type": "text"
      },
      "source": [
        "1. if p<0.005 then Dependent (reject H0)\n",
        "2. if p>0.005 then Independent(fail to reject H0)"
      ]
    },
    {
      "cell_type": "code",
      "metadata": {
        "id": "S4m3e5mj79wd",
        "colab_type": "code",
        "colab": {
          "base_uri": "https://localhost:8080/",
          "height": 1000
        },
        "outputId": "f79544a1-2d62-47f2-931a-00a48119a243"
      },
      "source": [
        "process_data = data.copy()\n",
        "columns = ['manner_of_death', 'armed', 'age', 'gender',\n",
        "       'race', 'city', 'state', 'signs_of_mental_illness', 'threat_level',\n",
        "       'flee', 'body_camera', 'arms_category', 'year', 'month']\n",
        "process_data = process_data[data[\"age\"]<=73]\n",
        "\n",
        "process_data['age_bin'] = pd.cut(process_data['age'], [0, 20, 40, 50, 60, 73], labels=['0-20', '20-40','40-50','50-60','60-73'])\n",
        "variable_pairs = []\n",
        "for i in range(len(columns)):\n",
        "    for j in range(i, len(columns)):\n",
        "        variable_pairs.append((columns[i], columns[j]))\n",
        "\n",
        "dependent_variables = []\n",
        "for pair in variable_pairs:\n",
        "    column1 = pair[0]\n",
        "    column2 = pair[1]\n",
        "\n",
        "    obs = pd.crosstab(process_data[column1], process_data[column2])\n",
        "    if np.all(obs>5):\n",
        "        stat, p, dof, expected = chi2_contingency(obs)\n",
        "        if p<=0.005:\n",
        "            dependent_variables.append((column1, column2))\n",
        "            print(\"Processing columns: {} , {}\".format(column1, column2))\n",
        "            print(\"p-value: {}\".format(p))\n",
        "            print(obs)\n",
        "            print(\"\\n\")\n",
        "            print(\"\\n\")\n",
        "print(dependent_variables)\n"
      ],
      "execution_count": 62,
      "outputs": [
        {
          "output_type": "stream",
          "text": [
            "Processing columns: manner_of_death , signs_of_mental_illness\n",
            "p-value: 0.0003371202574857988\n",
            "signs_of_mental_illness  False  True \n",
            "manner_of_death                      \n",
            "shot                      3600   1015\n",
            "shot and Tasered           168     79\n",
            "\n",
            "\n",
            "\n",
            "\n",
            "Processing columns: manner_of_death , flee\n",
            "p-value: 0.000234264014063619\n",
            "flee              Car  Foot  Not fleeing  Other\n",
            "manner_of_death                                \n",
            "shot              801   613         2862    339\n",
            "shot and Tasered   18    29          181     19\n",
            "\n",
            "\n",
            "\n",
            "\n",
            "Processing columns: manner_of_death , year\n",
            "p-value: 0.002125062532509508\n",
            "year              2015  2016  2017  2018  2019  2020\n",
            "manner_of_death                                     \n",
            "shot               892   845   851   852   820   355\n",
            "shot and Tasered    67    54    49    29    31    17\n",
            "\n",
            "\n",
            "\n",
            "\n",
            "Processing columns: manner_of_death , month\n",
            "p-value: 0.001047074878710317\n",
            "month              1    2    3    4    5    6    7    8    9    10   11   12\n",
            "manner_of_death                                                             \n",
            "shot              456  436  471  410  398  384  389  357  307  345  336  326\n",
            "shot and Tasered   48   20   28   16   18   10   24   13   16   19   17   18\n",
            "\n",
            "\n",
            "\n",
            "\n",
            "Processing columns: gender , signs_of_mental_illness\n",
            "p-value: 0.0019670358993399213\n",
            "signs_of_mental_illness  False  True \n",
            "gender                               \n",
            "F                          152     69\n",
            "M                         3616   1025\n",
            "\n",
            "\n",
            "\n",
            "\n",
            "Processing columns: gender , flee\n",
            "p-value: 1.6779589531407737e-05\n",
            "flee    Car  Foot  Not fleeing  Other\n",
            "gender                               \n",
            "F        48     7          155     11\n",
            "M       771   635         2888    347\n",
            "\n",
            "\n",
            "\n",
            "\n",
            "Processing columns: race , signs_of_mental_illness\n",
            "p-value: 8.33497554528835e-25\n",
            "signs_of_mental_illness  False  True \n",
            "race                                 \n",
            "Asian                       69     24\n",
            "Black                     1112    183\n",
            "Hispanic                   744    157\n",
            "Native                      64     14\n",
            "Other                       37     11\n",
            "White                     1742    705\n",
            "\n",
            "\n",
            "\n",
            "\n",
            "Processing columns: race , body_camera\n",
            "p-value: 9.24186327146013e-07\n",
            "body_camera  False  True \n",
            "race                     \n",
            "Asian           77     16\n",
            "Black         1091    204\n",
            "Hispanic       795    106\n",
            "Native          66     12\n",
            "Other           42      6\n",
            "White         2216    231\n",
            "\n",
            "\n",
            "\n",
            "\n",
            "Processing columns: signs_of_mental_illness , threat_level\n",
            "p-value: 1.4182533013827412e-05\n",
            "threat_level             attack  other  undetermined\n",
            "signs_of_mental_illness                             \n",
            "False                      2474   1120           174\n",
            "True                        659    402            33\n",
            "\n",
            "\n",
            "\n",
            "\n",
            "Processing columns: signs_of_mental_illness , flee\n",
            "p-value: 1.1846578924098361e-48\n",
            "flee                     Car  Foot  Not fleeing  Other\n",
            "signs_of_mental_illness                               \n",
            "False                    737   570         2147    314\n",
            "True                      82    72          896     44\n",
            "\n",
            "\n",
            "\n",
            "\n",
            "Processing columns: signs_of_mental_illness , body_camera\n",
            "p-value: 0.0006356112170406348\n",
            "body_camera              False  True \n",
            "signs_of_mental_illness              \n",
            "False                     3355    413\n",
            "True                       932    162\n",
            "\n",
            "\n",
            "\n",
            "\n",
            "Processing columns: signs_of_mental_illness , year\n",
            "p-value: 1.64457603992514e-07\n",
            "year                     2015  2016  2017  2018  2019  2020\n",
            "signs_of_mental_illness                                    \n",
            "False                     715   669   679   694   684   327\n",
            "True                      244   230   221   187   167    45\n",
            "\n",
            "\n",
            "\n",
            "\n",
            "Processing columns: threat_level , flee\n",
            "p-value: 1.2656413881227764e-09\n",
            "flee          Car  Foot  Not fleeing  Other\n",
            "threat_level                               \n",
            "attack        532   414         1983    204\n",
            "other         253   194          961    114\n",
            "undetermined   34    34           99     40\n",
            "\n",
            "\n",
            "\n",
            "\n",
            "Processing columns: threat_level , year\n",
            "p-value: 1.1080403763463562e-13\n",
            "year          2015  2016  2017  2018  2019  2020\n",
            "threat_level                                    \n",
            "attack         705   509   548   538   581   252\n",
            "other          212   338   314   312   240   106\n",
            "undetermined    42    52    38    31    30    14\n",
            "\n",
            "\n",
            "\n",
            "\n",
            "Processing columns: threat_level , month\n",
            "p-value: 4.483822531416359e-06\n",
            "month          1    2    3    4    5    6    7    8    9    10   11   12\n",
            "threat_level                                                            \n",
            "attack        302  283  308  277  289  243  268  244  216  244  227  232\n",
            "other         190  157  175  139  118  132  123  108   86  108   97   89\n",
            "undetermined   12   16   16   10    9   19   22   18   21   12   29   23\n",
            "\n",
            "\n",
            "\n",
            "\n",
            "Processing columns: flee , body_camera\n",
            "p-value: 0.0022254738176115288\n",
            "body_camera  False  True \n",
            "flee                     \n",
            "Car            748     71\n",
            "Foot           545     97\n",
            "Not fleeing   2680    363\n",
            "Other          314     44\n",
            "\n",
            "\n",
            "\n",
            "\n",
            "Processing columns: flee , year\n",
            "p-value: 5.560815602618896e-12\n",
            "year         2015  2016  2017  2018  2019  2020\n",
            "flee                                           \n",
            "Car           143   135   169   145   151    76\n",
            "Foot          108   117   114   126   121    56\n",
            "Not fleeing   683   583   545   544   492   196\n",
            "Other          25    64    72    66    87    44\n",
            "\n",
            "\n",
            "\n",
            "\n",
            "Processing columns: body_camera , year\n",
            "p-value: 1.09645844057876e-05\n",
            "year         2015  2016  2017  2018  2019  2020\n",
            "body_camera                                    \n",
            "False         885   764   801   773   730   334\n",
            "True           74   135    99   108   121    38\n",
            "\n",
            "\n",
            "\n",
            "\n",
            "[('manner_of_death', 'signs_of_mental_illness'), ('manner_of_death', 'flee'), ('manner_of_death', 'year'), ('manner_of_death', 'month'), ('gender', 'signs_of_mental_illness'), ('gender', 'flee'), ('race', 'signs_of_mental_illness'), ('race', 'body_camera'), ('signs_of_mental_illness', 'threat_level'), ('signs_of_mental_illness', 'flee'), ('signs_of_mental_illness', 'body_camera'), ('signs_of_mental_illness', 'year'), ('threat_level', 'flee'), ('threat_level', 'year'), ('threat_level', 'month'), ('flee', 'body_camera'), ('flee', 'year'), ('body_camera', 'year')]\n"
          ],
          "name": "stdout"
        }
      ]
    },
    {
      "cell_type": "markdown",
      "metadata": {
        "id": "dLTh348OSCv5",
        "colab_type": "text"
      },
      "source": [
        "**As we can see from above result that the following pairs have some association(dependence) among them**\n",
        "\n",
        "[('manner_of_death', 'signs_of_mental_illness'), ('manner_of_death', 'flee'), ('manner_of_death', 'year'), ('manner_of_death', 'month'), ('gender', 'signs_of_mental_illness'), ('gender', 'flee'), ('race', 'signs_of_mental_illness'), ('race', 'body_camera'), ('signs_of_mental_illness', 'threat_level'), ('signs_of_mental_illness', 'flee'), ('signs_of_mental_illness', 'body_camera'), ('signs_of_mental_illness', 'year'), ('threat_level', 'flee'), ('threat_level', 'year'), ('threat_level', 'month'), ('flee', 'body_camera'), ('flee', 'year'), ('body_camera', 'year')]"
      ]
    },
    {
      "cell_type": "markdown",
      "metadata": {
        "id": "3wnaFpozRlZd",
        "colab_type": "text"
      },
      "source": [
        "**Analyzing the \"age\" variable with box plot**"
      ]
    },
    {
      "cell_type": "code",
      "metadata": {
        "id": "uRgL2yheRmBy",
        "colab_type": "code",
        "colab": {
          "base_uri": "https://localhost:8080/",
          "height": 542
        },
        "outputId": "81065014-9982-48eb-9024-f0f504aa453a"
      },
      "source": [
        "fig = px.box(data, y=\"age\")\n",
        "fig.show()"
      ],
      "execution_count": 63,
      "outputs": [
        {
          "output_type": "display_data",
          "data": {
            "text/html": [
              "<html>\n",
              "<head><meta charset=\"utf-8\" /></head>\n",
              "<body>\n",
              "    <div>\n",
              "            <script src=\"https://cdnjs.cloudflare.com/ajax/libs/mathjax/2.7.5/MathJax.js?config=TeX-AMS-MML_SVG\"></script><script type=\"text/javascript\">if (window.MathJax) {MathJax.Hub.Config({SVG: {font: \"STIX-Web\"}});}</script>\n",
              "                <script type=\"text/javascript\">window.PlotlyConfig = {MathJaxConfig: 'local'};</script>\n",
              "        <script src=\"https://cdn.plot.ly/plotly-latest.min.js\"></script>    \n",
              "            <div id=\"5b30d1cd-e85b-4f29-b6bb-39709a9ae659\" class=\"plotly-graph-div\" style=\"height:525px; width:100%;\"></div>\n",
              "            <script type=\"text/javascript\">\n",
              "                \n",
              "                    window.PLOTLYENV=window.PLOTLYENV || {};\n",
              "                    \n",
              "                if (document.getElementById(\"5b30d1cd-e85b-4f29-b6bb-39709a9ae659\")) {\n",
              "                    Plotly.newPlot(\n",
              "                        '5b30d1cd-e85b-4f29-b6bb-39709a9ae659',\n",
              "                        [{\"alignmentgroup\": \"True\", \"hoverlabel\": {\"namelength\": 0}, \"hovertemplate\": \"age=%{y}\", \"legendgroup\": \"\", \"marker\": {\"color\": \"#636efa\"}, \"name\": \"\", \"notched\": false, \"offsetgroup\": \"\", \"orientation\": \"v\", \"showlegend\": false, \"type\": \"box\", \"x0\": \" \", \"xaxis\": \"x\", \"y\": [53.0, 47.0, 23.0, 32.0, 39.0, 18.0, 22.0, 35.0, 34.0, 47.0, 25.0, 31.0, 41.0, 30.0, 37.0, 28.0, 42.0, 36.0, 49.0, 71.0, 33.0, 39.0, 23.0, 29.0, 34.0, 43.0, 24.0, 29.0, 34.0, 75.0, 68.0, 34.0, 27.0, 39.0, 24.0, 36.0, 33.0, 41.0, 48.0, 21.0, 24.0, 27.0, 32.0, 67.0, 49.0, 42.0, 36.0, 36.0, 19.0, 54.0, 25.0, 17.0, 29.0, 56.0, 61.0, 45.0, 26.0, 40.0, 26.0, 17.0, 68.0, 24.0, 34.0, 39.0, 26.0, 29.0, 33.0, 45.0, 26.0, 35.0, 31.0, 42.0, 48.0, 31.0, 54.0, 59.0, 42.0, 17.0, 23.0, 38.0, 29.0, 45.0, 28.0, 37.0, 28.0, 28.0, 51.0, 36.0, 59.0, 25.0, 26.0, 74.0, 33.0, 27.0, 57.0, 46.0, 41.0, 61.0, 45.0, 49.0, 45.0, 35.0, 23.0, 46.0, 23.0, 21.0, 35.0, 27.0, 37.0, 16.0, 51.0, 34.0, 34.0, 25.0, 56.0, 26.0, 24.0, 43.0, 31.0, 32.0, 30.0, 50.0, 20.0, 31.0, 38.0, 77.0, 37.11793090137039, 41.0, 51.0, 50.0, 47.0, 37.0, 41.0, 16.0, 42.0, 39.0, 30.0, 27.0, 43.0, 42.0, 21.0, 49.0, 34.0, 31.0, 27.0, 24.0, 34.0, 28.0, 28.0, 40.0, 37.0, 17.0, 35.0, 49.0, 43.0, 20.0, 25.0, 25.0, 26.0, 28.0, 45.0, 36.0, 34.0, 19.0, 37.0, 48.0, 29.0, 43.0, 40.0, 35.0, 27.0, 58.0, 46.0, 30.0, 64.0, 31.0, 23.0, 37.0, 37.0, 31.0, 39.0, 31.0, 54.0, 53.0, 25.0, 35.0, 41.0, 59.0, 36.0, 32.0, 53.0, 26.0, 29.0, 27.0, 28.0, 52.0, 49.0, 24.0, 24.0, 20.0, 22.0, 49.0, 64.0, 47.0, 39.0, 18.0, 31.0, 16.0, 20.0, 36.0, 63.0, 34.0, 24.0, 21.0, 44.0, 60.0, 42.0, 37.0, 36.0, 21.0, 24.0, 29.0, 57.0, 38.0, 23.0, 27.0, 28.0, 63.0, 53.0, 35.0, 26.0, 42.0, 41.0, 56.0, 39.0, 23.0, 40.0, 29.0, 26.0, 49.0, 36.0, 21.0, 27.0, 37.0, 36.0, 32.0, 44.0, 27.0, 63.0, 38.0, 17.0, 31.0, 34.0, 50.0, 51.0, 56.0, 23.0, 25.0, 31.0, 32.0, 60.0, 42.0, 39.0, 28.0, 22.0, 29.0, 31.0, 28.0, 21.0, 38.0, 66.0, 36.0, 83.0, 32.0, 27.0, 26.0, 31.0, 22.0, 41.0, 41.0, 51.0, 72.0, 52.0, 47.0, 18.0, 29.0, 23.0, 43.0, 45.0, 40.0, 44.0, 25.0, 37.0, 59.0, 35.0, 35.0, 18.0, 51.0, 30.0, 31.0, 39.0, 26.0, 51.0, 19.0, 46.0, 49.0, 63.0, 20.0, 25.0, 24.0, 58.0, 29.0, 76.0, 45.0, 20.0, 58.0, 21.0, 27.0, 26.0, 33.0, 27.0, 25.0, 53.0, 53.0, 42.0, 22.0, 52.0, 36.0, 30.0, 34.0, 44.0, 53.0, 36.0, 29.0, 32.0, 46.0, 18.0, 38.0, 21.0, 35.0, 58.0, 48.0, 31.0, 47.0, 34.0, 30.0, 28.0, 28.0, 40.0, 46.0, 37.0, 53.0, 41.0, 42.0, 45.0, 34.0, 18.0, 27.0, 54.0, 35.0, 17.0, 29.0, 38.0, 26.0, 52.0, 39.0, 22.0, 29.0, 43.0, 24.0, 32.0, 40.0, 47.0, 40.0, 25.0, 31.0, 36.0, 51.0, 24.0, 62.0, 39.0, 24.0, 57.0, 20.0, 33.0, 60.0, 32.0, 40.0, 18.0, 36.0, 35.0, 55.0, 19.0, 39.0, 47.0, 23.0, 26.0, 26.0, 18.0, 33.0, 56.0, 46.0, 36.0, 50.0, 45.0, 53.0, 45.0, 42.0, 27.0, 30.0, 36.0, 58.0, 30.0, 69.0, 30.0, 45.0, 22.0, 28.0, 19.0, 40.0, 46.0, 28.0, 22.0, 17.0, 46.0, 35.0, 35.0, 28.0, 15.0, 22.0, 28.0, 31.0, 40.0, 48.0, 58.0, 44.0, 21.0, 50.0, 23.0, 24.0, 49.0, 60.0, 35.0, 29.0, 20.0, 34.0, 22.0, 49.0, 32.0, 26.0, 41.0, 61.0, 49.0, 28.0, 35.0, 29.0, 51.0, 52.0, 24.0, 32.0, 45.0, 60.0, 23.0, 46.0, 33.0, 40.0, 27.0, 42.0, 37.0, 23.0, 36.0, 19.0, 35.0, 43.0, 25.0, 20.0, 42.0, 29.0, 42.0, 31.0, 18.0, 33.0, 59.0, 47.0, 39.0, 37.0, 35.0, 28.0, 59.0, 62.0, 50.0, 68.0, 27.0, 17.0, 21.0, 38.0, 54.0, 20.0, 25.0, 31.0, 35.0, 60.0, 24.0, 27.0, 36.0, 20.0, 24.0, 23.0, 41.0, 20.0, 43.0, 29.0, 35.0, 30.0, 24.0, 23.0, 29.0, 25.0, 27.0, 50.0, 19.0, 24.0, 23.0, 22.0, 46.0, 65.0, 43.0, 35.0, 47.0, 24.0, 35.0, 25.0, 27.0, 26.0, 34.0, 32.0, 47.0, 44.0, 31.0, 44.0, 30.0, 60.0, 50.0, 36.0, 59.0, 33.0, 19.0, 56.0, 45.0, 22.0, 34.0, 53.0, 48.0, 25.0, 30.0, 47.0, 33.0, 34.0, 29.0, 63.0, 49.0, 18.0, 71.0, 35.0, 55.0, 31.0, 18.0, 51.0, 39.0, 20.0, 29.0, 40.0, 42.0, 22.0, 19.0, 24.0, 30.0, 53.0, 25.0, 28.0, 24.0, 59.0, 46.0, 15.0, 41.0, 22.0, 24.0, 34.0, 48.0, 24.0, 27.0, 27.0, 27.0, 49.0, 30.0, 38.0, 26.0, 30.0, 53.0, 23.0, 34.0, 30.0, 43.0, 29.0, 47.0, 35.0, 40.0, 18.0, 24.0, 29.0, 44.0, 17.0, 19.0, 50.0, 57.0, 30.0, 38.0, 31.0, 29.0, 26.0, 64.0, 39.0, 57.0, 36.0, 36.0, 21.0, 53.0, 30.0, 34.0, 53.0, 45.0, 22.0, 22.0, 46.0, 27.0, 30.0, 54.0, 29.0, 42.0, 41.0, 28.0, 61.0, 23.0, 25.0, 37.11793090137039, 29.0, 20.0, 40.0, 45.0, 33.0, 76.0, 47.0, 45.0, 40.0, 37.0, 27.0, 36.0, 23.0, 49.0, 21.0, 32.0, 35.0, 28.0, 59.0, 28.0, 45.0, 45.0, 19.0, 25.0, 37.0, 33.0, 59.0, 31.0, 29.0, 32.0, 41.0, 31.0, 44.0, 23.0, 45.0, 39.0, 67.0, 29.0, 25.0, 28.0, 21.0, 32.0, 51.0, 39.0, 27.0, 31.0, 50.0, 37.11793090137039, 32.0, 47.0, 46.0, 57.0, 23.0, 56.0, 24.0, 27.0, 23.0, 26.0, 34.0, 21.0, 32.0, 33.0, 55.0, 48.0, 35.0, 19.0, 45.0, 28.0, 42.0, 17.0, 30.0, 21.0, 45.0, 33.0, 46.0, 23.0, 37.0, 43.0, 40.0, 59.0, 31.0, 46.0, 37.0, 28.0, 28.0, 55.0, 29.0, 26.0, 27.0, 31.0, 51.0, 50.0, 27.0, 18.0, 46.0, 19.0, 49.0, 31.0, 38.0, 40.0, 35.0, 34.0, 44.0, 23.0, 43.0, 37.11793090137039, 31.0, 27.0, 46.0, 18.0, 57.0, 15.0, 25.0, 50.0, 31.0, 35.0, 27.0, 20.0, 27.0, 33.0, 27.0, 22.0, 28.0, 31.0, 28.0, 53.0, 30.0, 39.0, 40.0, 30.0, 21.0, 35.0, 21.0, 47.0, 38.0, 36.0, 53.0, 34.0, 34.0, 30.0, 28.0, 47.0, 49.0, 36.0, 45.0, 21.0, 18.0, 25.0, 29.0, 57.0, 34.0, 35.0, 37.11793090137039, 18.0, 62.0, 29.0, 25.0, 30.0, 24.0, 52.0, 33.0, 56.0, 49.0, 20.0, 62.0, 62.0, 6.0, 30.0, 57.0, 18.0, 47.0, 48.0, 20.0, 30.0, 36.0, 51.0, 55.0, 48.0, 20.0, 25.0, 26.0, 45.0, 35.0, 34.0, 36.0, 22.0, 63.0, 31.0, 25.0, 57.0, 32.0, 42.0, 52.0, 25.0, 25.0, 31.0, 39.0, 16.0, 24.0, 32.0, 25.0, 28.0, 28.0, 21.0, 30.0, 58.0, 47.0, 41.0, 25.0, 44.0, 34.0, 27.0, 34.0, 29.0, 39.0, 24.0, 47.0, 45.0, 28.0, 50.0, 49.0, 45.0, 24.0, 32.0, 23.0, 52.0, 37.0, 26.0, 58.0, 50.0, 22.0, 53.0, 69.0, 23.0, 29.0, 25.0, 18.0, 31.0, 23.0, 18.0, 35.0, 27.0, 28.0, 26.0, 32.0, 36.0, 66.0, 21.0, 47.0, 24.0, 60.0, 61.0, 38.0, 51.0, 35.0, 46.0, 48.0, 36.0, 33.0, 66.0, 34.0, 55.0, 54.0, 36.0, 25.0, 24.0, 28.0, 36.0, 20.0, 49.0, 51.0, 21.0, 30.0, 32.0, 33.0, 56.0, 48.0, 39.0, 19.0, 45.0, 33.0, 52.0, 51.0, 37.11793090137039, 25.0, 24.0, 22.0, 32.0, 58.0, 24.0, 26.0, 30.0, 31.0, 34.0, 48.0, 37.11793090137039, 21.0, 39.0, 25.0, 30.0, 56.0, 29.0, 19.0, 35.0, 36.0, 24.0, 23.0, 31.0, 41.0, 55.0, 19.0, 38.0, 36.0, 34.0, 52.0, 28.0, 50.0, 37.11793090137039, 55.0, 23.0, 30.0, 54.0, 37.0, 37.0, 30.0, 27.0, 22.0, 29.0, 39.0, 33.0, 52.0, 28.0, 54.0, 38.0, 32.0, 34.0, 26.0, 50.0, 37.0, 45.0, 56.0, 45.0, 32.0, 12.0, 49.0, 58.0, 29.0, 60.0, 40.0, 39.0, 26.0, 24.0, 34.0, 27.0, 44.0, 25.0, 55.0, 19.0, 52.0, 31.0, 26.0, 24.0, 38.0, 33.0, 28.0, 27.0, 39.0, 29.0, 36.0, 55.0, 28.0, 40.0, 33.0, 37.0, 39.0, 43.0, 38.0, 55.0, 52.0, 32.0, 31.0, 27.0, 40.0, 31.0, 30.0, 26.0, 32.0, 33.0, 19.0, 33.0, 29.0, 41.0, 29.0, 38.0, 64.0, 42.0, 46.0, 42.0, 37.0, 25.0, 36.0, 21.0, 30.0, 53.0, 31.0, 22.0, 24.0, 36.0, 47.0, 54.0, 43.0, 38.0, 30.0, 51.0, 55.0, 16.0, 23.0, 36.0, 33.0, 17.0, 22.0, 22.0, 29.0, 41.0, 67.0, 36.0, 52.0, 56.0, 35.0, 45.0, 30.0, 29.0, 53.0, 32.0, 22.0, 24.0, 19.0, 29.0, 50.0, 29.0, 26.0, 39.0, 52.0, 51.0, 48.0, 30.0, 37.0, 30.0, 35.0, 32.0, 25.0, 35.0, 31.0, 30.0, 23.0, 41.0, 45.0, 46.0, 36.0, 31.0, 32.0, 38.0, 33.0, 45.0, 38.0, 22.0, 48.0, 36.0, 26.0, 39.0, 16.0, 58.0, 27.0, 26.0, 21.0, 37.0, 56.0, 19.0, 38.0, 18.0, 35.0, 23.0, 41.0, 44.0, 24.0, 39.0, 22.0, 37.0, 36.0, 41.0, 27.0, 30.0, 34.0, 22.0, 51.0, 42.0, 41.0, 49.0, 45.0, 45.0, 42.0, 41.0, 27.0, 37.0, 22.0, 21.0, 50.0, 23.0, 25.0, 51.0, 46.0, 23.0, 43.0, 37.0, 20.0, 45.0, 16.0, 30.0, 26.0, 24.0, 38.0, 28.0, 29.0, 34.0, 38.0, 43.0, 23.0, 33.0, 40.0, 38.0, 53.0, 29.0, 30.0, 60.0, 25.0, 24.0, 21.0, 23.0, 61.0, 54.0, 62.0, 16.0, 25.0, 28.0, 76.0, 25.0, 33.0, 51.0, 34.0, 30.0, 44.0, 24.0, 29.0, 48.0, 19.0, 22.0, 39.0, 36.0, 55.0, 46.0, 34.0, 27.0, 33.0, 18.0, 33.0, 51.0, 50.0, 46.0, 33.0, 25.0, 52.0, 18.0, 43.0, 34.0, 31.0, 65.0, 37.0, 30.0, 36.0, 25.0, 69.0, 48.0, 50.0, 52.0, 44.0, 60.0, 40.0, 20.0, 45.0, 44.0, 40.0, 25.0, 43.0, 27.0, 19.0, 39.0, 30.0, 28.0, 22.0, 16.0, 40.0, 38.0, 20.0, 35.0, 52.0, 26.0, 54.0, 38.0, 52.0, 26.0, 53.0, 35.0, 22.0, 31.0, 32.0, 37.0, 28.0, 18.0, 41.0, 15.0, 38.0, 41.0, 52.0, 48.0, 29.0, 51.0, 21.0, 24.0, 18.0, 30.0, 33.0, 60.0, 28.0, 26.0, 24.0, 44.0, 34.0, 21.0, 36.0, 37.0, 53.0, 24.0, 45.0, 48.0, 42.0, 33.0, 55.0, 28.0, 25.0, 28.0, 52.0, 59.0, 52.0, 39.0, 40.0, 36.0, 38.0, 26.0, 37.11793090137039, 29.0, 37.0, 29.0, 21.0, 33.0, 23.0, 26.0, 29.0, 33.0, 28.0, 35.0, 33.0, 24.0, 37.11793090137039, 28.0, 19.0, 43.0, 59.0, 34.0, 35.0, 23.0, 36.0, 46.0, 44.0, 20.0, 30.0, 29.0, 35.0, 36.0, 22.0, 31.0, 63.0, 38.0, 31.0, 27.0, 35.0, 22.0, 28.0, 26.0, 22.0, 31.0, 43.0, 24.0, 29.0, 43.0, 21.0, 19.0, 25.0, 59.0, 50.0, 58.0, 25.0, 32.0, 53.0, 38.0, 70.0, 33.0, 36.0, 21.0, 51.0, 43.0, 18.0, 33.0, 34.0, 31.0, 35.0, 31.0, 31.0, 23.0, 25.0, 25.0, 21.0, 49.0, 63.0, 43.0, 34.0, 38.0, 52.0, 68.0, 29.0, 32.0, 50.0, 31.0, 27.0, 31.0, 29.0, 23.0, 61.0, 33.0, 18.0, 80.0, 43.0, 50.0, 47.0, 54.0, 22.0, 43.0, 38.0, 36.0, 30.0, 59.0, 21.0, 34.0, 17.0, 37.0, 25.0, 23.0, 20.0, 19.0, 50.0, 24.0, 25.0, 20.0, 37.0, 44.0, 22.0, 31.0, 25.0, 37.11793090137039, 36.0, 50.0, 42.0, 42.0, 26.0, 19.0, 59.0, 36.0, 51.0, 27.0, 22.0, 30.0, 28.0, 63.0, 32.0, 26.0, 25.0, 27.0, 61.0, 30.0, 37.11793090137039, 37.0, 41.0, 25.0, 24.0, 44.0, 63.0, 58.0, 30.0, 35.0, 50.0, 40.0, 37.11793090137039, 19.0, 34.0, 18.0, 21.0, 29.0, 49.0, 24.0, 37.0, 32.0, 65.0, 37.0, 33.0, 63.0, 30.0, 40.0, 38.0, 50.0, 41.0, 41.0, 39.0, 44.0, 23.0, 32.0, 56.0, 33.0, 63.0, 31.0, 57.0, 26.0, 39.0, 42.0, 29.0, 43.0, 56.0, 31.0, 50.0, 36.0, 50.0, 49.0, 31.0, 34.0, 36.0, 29.0, 32.0, 18.0, 50.0, 36.0, 17.0, 19.0, 24.0, 24.0, 20.0, 33.0, 41.0, 47.0, 18.0, 31.0, 27.0, 36.0, 40.0, 59.0, 32.0, 38.0, 18.0, 23.0, 43.0, 67.0, 32.0, 22.0, 31.0, 43.0, 34.0, 51.0, 31.0, 54.0, 69.0, 58.0, 26.0, 59.0, 25.0, 20.0, 57.0, 56.0, 64.0, 34.0, 69.0, 45.0, 14.0, 44.0, 59.0, 33.0, 54.0, 22.0, 49.0, 23.0, 38.0, 53.0, 36.0, 29.0, 42.0, 36.0, 32.0, 53.0, 30.0, 25.0, 18.0, 55.0, 27.0, 37.0, 29.0, 40.0, 36.0, 38.0, 29.0, 59.0, 47.0, 22.0, 31.0, 29.0, 54.0, 71.0, 36.0, 34.0, 49.0, 36.0, 43.0, 53.0, 31.0, 32.0, 41.0, 26.0, 82.0, 37.0, 24.0, 35.0, 56.0, 22.0, 59.0, 36.0, 21.0, 38.0, 60.0, 18.0, 23.0, 37.11793090137039, 38.0, 22.0, 38.0, 25.0, 25.0, 36.0, 37.11793090137039, 44.0, 36.0, 35.0, 25.0, 31.0, 70.0, 25.0, 55.0, 35.0, 25.0, 32.0, 38.0, 32.0, 64.0, 55.0, 69.0, 37.0, 31.0, 25.0, 25.0, 13.0, 32.0, 69.0, 34.0, 29.0, 29.0, 40.0, 42.0, 25.0, 45.0, 55.0, 22.0, 61.0, 46.0, 30.0, 56.0, 35.0, 22.0, 23.0, 43.0, 43.0, 49.0, 23.0, 41.0, 33.0, 30.0, 25.0, 52.0, 32.0, 46.0, 48.0, 38.0, 26.0, 32.0, 28.0, 53.0, 38.0, 18.0, 32.0, 37.0, 18.0, 20.0, 28.0, 18.0, 16.0, 36.0, 57.0, 49.0, 31.0, 26.0, 51.0, 28.0, 35.0, 57.0, 36.0, 42.0, 37.11793090137039, 49.0, 21.0, 53.0, 62.0, 41.0, 40.0, 27.0, 19.0, 26.0, 44.0, 30.0, 31.0, 33.0, 22.0, 38.0, 46.0, 23.0, 24.0, 26.0, 26.0, 32.0, 50.0, 17.0, 39.0, 28.0, 66.0, 42.0, 34.0, 38.0, 28.0, 29.0, 23.0, 58.0, 21.0, 45.0, 38.0, 40.0, 19.0, 46.0, 25.0, 25.0, 37.0, 25.0, 36.0, 32.0, 33.0, 24.0, 37.0, 38.0, 45.0, 31.0, 34.0, 23.0, 39.0, 55.0, 31.0, 76.0, 59.0, 40.0, 23.0, 26.0, 35.0, 49.0, 36.0, 56.0, 34.0, 43.0, 31.0, 17.0, 32.0, 33.0, 43.0, 31.0, 23.0, 26.0, 45.0, 19.0, 36.0, 41.0, 53.0, 24.0, 37.11793090137039, 37.11793090137039, 40.0, 29.0, 22.0, 21.0, 25.0, 37.0, 37.0, 56.0, 25.0, 26.0, 35.0, 25.0, 29.0, 21.0, 15.0, 24.0, 18.0, 19.0, 27.0, 45.0, 36.0, 34.0, 23.0, 43.0, 19.0, 37.0, 23.0, 26.0, 20.0, 59.0, 33.0, 48.0, 50.0, 18.0, 23.0, 41.0, 41.0, 55.0, 29.0, 31.0, 25.0, 38.0, 37.11793090137039, 83.0, 22.0, 33.0, 36.0, 26.0, 29.0, 55.0, 47.0, 52.0, 49.0, 37.0, 37.0, 36.0, 31.0, 30.0, 37.11793090137039, 35.0, 35.0, 36.0, 39.0, 30.0, 44.0, 24.0, 53.0, 73.0, 31.0, 28.0, 18.0, 32.0, 60.0, 48.0, 33.0, 44.0, 20.0, 37.0, 72.0, 52.0, 46.0, 25.0, 38.0, 27.0, 24.0, 19.0, 31.0, 18.0, 53.0, 48.0, 29.0, 30.0, 61.0, 71.0, 41.0, 36.0, 28.0, 21.0, 46.0, 32.0, 33.0, 42.0, 17.0, 35.0, 23.0, 21.0, 44.0, 53.0, 63.0, 18.0, 51.0, 64.0, 45.0, 20.0, 41.0, 23.0, 32.0, 25.0, 42.0, 41.0, 31.0, 50.0, 38.0, 44.0, 38.0, 21.0, 32.0, 23.0, 41.0, 41.0, 38.0, 54.0, 20.0, 26.0, 29.0, 47.0, 28.0, 48.0, 34.0, 37.0, 33.0, 36.0, 43.0, 32.0, 29.0, 39.0, 40.0, 21.0, 50.0, 19.0, 28.0, 16.0, 49.0, 44.0, 25.0, 39.0, 44.0, 50.0, 57.0, 57.0, 33.0, 21.0, 52.0, 27.0, 60.0, 25.0, 34.0, 22.0, 26.0, 27.0, 29.0, 30.0, 32.0, 18.0, 37.0, 54.0, 50.0, 28.0, 59.0, 24.0, 34.0, 25.0, 25.0, 17.0, 48.0, 45.0, 18.0, 50.0, 36.0, 45.0, 42.0, 37.11793090137039, 23.0, 31.0, 26.0, 57.0, 18.0, 27.0, 41.0, 33.0, 22.0, 38.0, 26.0, 45.0, 68.0, 56.0, 23.0, 45.0, 41.0, 33.0, 22.0, 50.0, 52.0, 35.0, 18.0, 34.0, 51.0, 18.0, 29.0, 34.0, 25.0, 17.0, 26.0, 33.0, 25.0, 31.0, 25.0, 18.0, 45.0, 25.0, 23.0, 55.0, 37.0, 33.0, 27.0, 32.0, 31.0, 26.0, 32.0, 53.0, 19.0, 53.0, 35.0, 64.0, 24.0, 33.0, 55.0, 17.0, 48.0, 21.0, 22.0, 30.0, 34.0, 35.0, 32.0, 22.0, 46.0, 27.0, 18.0, 33.0, 26.0, 27.0, 26.0, 51.0, 63.0, 38.0, 25.0, 39.0, 41.0, 26.0, 30.0, 33.0, 38.0, 24.0, 47.0, 62.0, 30.0, 33.0, 23.0, 39.0, 41.0, 46.0, 36.0, 66.0, 27.0, 40.0, 25.0, 20.0, 43.0, 40.0, 33.0, 34.0, 27.0, 25.0, 37.0, 32.0, 25.0, 38.0, 50.0, 26.0, 70.0, 38.0, 41.0, 91.0, 25.0, 29.0, 24.0, 40.0, 51.0, 30.0, 28.0, 33.0, 23.0, 23.0, 20.0, 56.0, 36.0, 18.0, 43.0, 16.0, 29.0, 25.0, 34.0, 32.0, 58.0, 36.0, 32.0, 25.0, 59.0, 25.0, 25.0, 42.0, 36.0, 59.0, 21.0, 19.0, 45.0, 42.0, 27.0, 45.0, 51.0, 42.0, 24.0, 39.0, 18.0, 26.0, 35.0, 53.0, 54.0, 36.0, 56.0, 51.0, 45.0, 28.0, 36.0, 73.0, 26.0, 41.0, 59.0, 28.0, 45.0, 27.0, 46.0, 34.0, 30.0, 46.0, 47.0, 32.0, 65.0, 19.0, 22.0, 39.0, 38.0, 68.0, 49.0, 37.0, 33.0, 25.0, 36.0, 30.0, 39.0, 28.0, 28.0, 25.0, 57.0, 33.0, 24.0, 33.0, 56.0, 56.0, 16.0, 47.0, 33.0, 32.0, 21.0, 64.0, 19.0, 26.0, 25.0, 17.0, 55.0, 25.0, 43.0, 39.0, 24.0, 70.0, 79.0, 16.0, 35.0, 15.0, 23.0, 53.0, 20.0, 27.0, 53.0, 32.0, 57.0, 26.0, 53.0, 32.0, 25.0, 15.0, 59.0, 35.0, 33.0, 32.0, 49.0, 46.0, 25.0, 20.0, 48.0, 24.0, 18.0, 67.0, 26.0, 54.0, 15.0, 27.0, 26.0, 62.0, 24.0, 32.0, 29.0, 16.0, 25.0, 40.0, 39.0, 34.0, 36.0, 24.0, 50.0, 50.0, 37.11793090137039, 30.0, 35.0, 46.0, 51.0, 37.0, 41.0, 41.0, 48.0, 27.0, 29.0, 47.0, 34.0, 48.0, 41.0, 25.0, 24.0, 38.0, 28.0, 47.0, 65.0, 58.0, 33.0, 43.0, 24.0, 37.0, 31.0, 65.0, 59.0, 74.0, 21.0, 24.0, 37.11793090137039, 23.0, 59.0, 33.0, 34.0, 30.0, 22.0, 37.0, 20.0, 18.0, 24.0, 17.0, 27.0, 51.0, 29.0, 34.0, 18.0, 17.0, 55.0, 44.0, 27.0, 66.0, 45.0, 47.0, 34.0, 37.0, 54.0, 21.0, 21.0, 35.0, 75.0, 33.0, 45.0, 48.0, 58.0, 30.0, 44.0, 82.0, 29.0, 25.0, 53.0, 60.0, 19.0, 63.0, 50.0, 35.0, 45.0, 24.0, 36.0, 35.0, 33.0, 66.0, 54.0, 20.0, 40.0, 41.0, 30.0, 32.0, 24.0, 37.0, 28.0, 48.0, 30.0, 64.0, 21.0, 28.0, 36.0, 40.0, 32.0, 50.0, 28.0, 33.0, 37.0, 17.0, 20.0, 34.0, 37.0, 24.0, 47.0, 20.0, 56.0, 24.0, 47.0, 36.0, 35.0, 37.0, 45.0, 41.0, 23.0, 37.0, 23.0, 33.0, 23.0, 37.0, 19.0, 39.0, 53.0, 51.0, 25.0, 45.0, 28.0, 36.0, 32.0, 39.0, 46.0, 53.0, 42.0, 34.0, 29.0, 53.0, 45.0, 24.0, 51.0, 35.0, 27.0, 33.0, 16.0, 30.0, 22.0, 23.0, 50.0, 28.0, 34.0, 24.0, 54.0, 26.0, 39.0, 34.0, 27.0, 48.0, 47.0, 54.0, 33.0, 40.0, 58.0, 55.0, 47.0, 42.0, 29.0, 40.0, 23.0, 23.0, 25.0, 52.0, 43.0, 37.0, 32.0, 70.0, 24.0, 24.0, 38.0, 52.0, 27.0, 22.0, 42.0, 49.0, 59.0, 41.0, 34.0, 31.0, 23.0, 28.0, 33.0, 16.0, 35.0, 26.0, 62.0, 25.0, 25.0, 31.0, 35.0, 46.0, 39.0, 26.0, 37.0, 32.0, 31.0, 48.0, 29.0, 32.0, 28.0, 43.0, 39.0, 37.0, 39.0, 42.0, 33.0, 25.0, 29.0, 45.0, 27.0, 28.0, 57.0, 15.0, 33.0, 35.0, 47.0, 31.0, 36.0, 54.0, 24.0, 35.0, 32.0, 28.0, 45.0, 29.0, 36.0, 23.0, 17.0, 20.0, 33.0, 49.0, 31.0, 35.0, 24.0, 54.0, 41.0, 50.0, 46.0, 45.0, 20.0, 37.0, 34.0, 54.0, 65.0, 28.0, 26.0, 25.0, 32.0, 44.0, 32.0, 42.0, 66.0, 22.0, 51.0, 64.0, 30.0, 71.0, 30.0, 48.0, 56.0, 26.0, 28.0, 19.0, 24.0, 44.0, 28.0, 47.0, 18.0, 26.0, 33.0, 34.0, 62.0, 24.0, 55.0, 22.0, 46.0, 27.0, 32.0, 22.0, 54.0, 32.0, 45.0, 36.0, 37.0, 47.0, 30.0, 31.0, 44.0, 52.0, 16.0, 29.0, 42.0, 31.0, 41.0, 45.0, 50.0, 26.0, 22.0, 76.0, 58.0, 32.0, 19.0, 25.0, 48.0, 39.0, 31.0, 50.0, 15.0, 48.0, 32.0, 21.0, 37.0, 21.0, 40.0, 33.0, 25.0, 55.0, 53.0, 27.0, 35.0, 25.0, 31.0, 70.0, 40.0, 25.0, 38.0, 26.0, 27.0, 37.11793090137039, 28.0, 40.0, 44.0, 39.0, 24.0, 32.0, 31.0, 50.0, 31.0, 50.0, 45.0, 44.0, 48.0, 39.0, 30.0, 44.0, 28.0, 24.0, 27.0, 34.0, 41.0, 26.0, 38.0, 33.0, 22.0, 40.0, 34.0, 48.0, 37.0, 67.0, 35.0, 29.0, 28.0, 40.0, 31.0, 51.0, 47.0, 52.0, 28.0, 35.0, 25.0, 37.11793090137039, 34.0, 58.0, 24.0, 22.0, 46.0, 61.0, 43.0, 44.0, 35.0, 29.0, 57.0, 42.0, 44.0, 20.0, 32.0, 34.0, 18.0, 31.0, 24.0, 35.0, 34.0, 26.0, 55.0, 38.0, 23.0, 30.0, 44.0, 37.0, 27.0, 43.0, 25.0, 30.0, 35.0, 31.0, 35.0, 37.0, 25.0, 34.0, 33.0, 33.0, 32.0, 34.0, 46.0, 40.0, 27.0, 17.0, 46.0, 50.0, 41.0, 23.0, 33.0, 25.0, 27.0, 39.0, 22.0, 37.0, 27.0, 28.0, 56.0, 71.0, 53.0, 39.0, 56.0, 24.0, 35.0, 30.0, 31.0, 20.0, 35.0, 31.0, 49.0, 54.0, 48.0, 32.0, 35.0, 30.0, 32.0, 31.0, 14.0, 25.0, 32.0, 35.0, 27.0, 23.0, 55.0, 43.0, 62.0, 25.0, 37.11793090137039, 50.0, 19.0, 41.0, 55.0, 19.0, 67.0, 24.0, 44.0, 29.0, 48.0, 22.0, 37.11793090137039, 59.0, 68.0, 25.0, 23.0, 46.0, 25.0, 30.0, 56.0, 24.0, 18.0, 27.0, 26.0, 15.0, 26.0, 32.0, 17.0, 32.0, 43.0, 26.0, 51.0, 39.0, 43.0, 31.0, 22.0, 40.0, 64.0, 30.0, 59.0, 24.0, 32.0, 37.0, 33.0, 42.0, 37.0, 33.0, 62.0, 46.0, 69.0, 24.0, 42.0, 49.0, 35.0, 19.0, 40.0, 34.0, 22.0, 16.0, 69.0, 24.0, 28.0, 51.0, 20.0, 34.0, 27.0, 48.0, 33.0, 6.0, 26.0, 40.0, 46.0, 20.0, 28.0, 30.0, 36.0, 25.0, 28.0, 38.0, 30.0, 31.0, 36.0, 65.0, 42.0, 65.0, 30.0, 49.0, 66.0, 28.0, 27.0, 31.0, 46.0, 28.0, 35.0, 24.0, 17.0, 39.0, 21.0, 21.0, 57.0, 27.0, 62.0, 40.0, 38.0, 27.0, 54.0, 27.0, 51.0, 25.0, 46.0, 20.0, 32.0, 27.0, 21.0, 60.0, 44.0, 23.0, 31.0, 43.0, 39.0, 54.0, 22.0, 37.0, 42.0, 22.0, 42.0, 32.0, 30.0, 53.0, 27.0, 72.0, 29.0, 34.0, 26.0, 22.0, 16.0, 31.0, 58.0, 23.0, 44.0, 46.0, 61.0, 17.0, 46.0, 35.0, 36.0, 28.0, 37.0, 47.0, 35.0, 40.0, 24.0, 18.0, 38.0, 54.0, 27.0, 62.0, 66.0, 47.0, 19.0, 27.0, 23.0, 42.0, 43.0, 42.0, 45.0, 21.0, 43.0, 45.0, 33.0, 38.0, 33.0, 46.0, 52.0, 46.0, 40.0, 20.0, 39.0, 35.0, 31.0, 32.0, 56.0, 37.0, 32.0, 28.0, 26.0, 27.0, 37.11793090137039, 43.0, 49.0, 16.0, 35.0, 19.0, 59.0, 29.0, 37.0, 22.0, 40.0, 35.0, 39.0, 36.0, 78.0, 25.0, 41.0, 63.0, 48.0, 42.0, 39.0, 84.0, 33.0, 52.0, 48.0, 30.0, 29.0, 27.0, 41.0, 57.0, 27.0, 58.0, 59.0, 39.0, 28.0, 28.0, 23.0, 55.0, 33.0, 23.0, 45.0, 37.0, 21.0, 27.0, 39.0, 37.0, 22.0, 26.0, 27.0, 37.0, 58.0, 62.0, 25.0, 36.0, 37.11793090137039, 27.0, 37.0, 25.0, 40.0, 22.0, 29.0, 20.0, 33.0, 48.0, 47.0, 40.0, 29.0, 29.0, 44.0, 36.0, 48.0, 49.0, 38.0, 41.0, 37.11793090137039, 28.0, 33.0, 44.0, 65.0, 35.0, 25.0, 40.0, 36.0, 55.0, 19.0, 70.0, 37.0, 53.0, 84.0, 46.0, 29.0, 27.0, 32.0, 27.0, 38.0, 20.0, 45.0, 32.0, 48.0, 57.0, 34.0, 16.0, 47.0, 61.0, 32.0, 31.0, 46.0, 27.0, 31.0, 26.0, 31.0, 27.0, 49.0, 26.0, 28.0, 62.0, 50.0, 23.0, 40.0, 50.0, 50.0, 27.0, 35.0, 32.0, 56.0, 20.0, 56.0, 39.0, 47.0, 25.0, 21.0, 18.0, 36.0, 35.0, 29.0, 20.0, 30.0, 40.0, 48.0, 23.0, 42.0, 20.0, 25.0, 28.0, 34.0, 41.0, 24.0, 29.0, 33.0, 44.0, 31.0, 26.0, 51.0, 64.0, 29.0, 61.0, 44.0, 39.0, 35.0, 39.0, 60.0, 42.0, 27.0, 21.0, 33.0, 60.0, 24.0, 41.0, 41.0, 34.0, 23.0, 38.0, 58.0, 49.0, 27.0, 34.0, 34.0, 44.0, 30.0, 81.0, 40.0, 27.0, 26.0, 18.0, 59.0, 56.0, 22.0, 34.0, 23.0, 36.0, 48.0, 33.0, 24.0, 25.0, 20.0, 45.0, 29.0, 34.0, 23.0, 29.0, 44.0, 30.0, 28.0, 71.0, 25.0, 61.0, 39.0, 50.0, 37.11793090137039, 23.0, 39.0, 45.0, 34.0, 31.0, 55.0, 39.0, 32.0, 44.0, 24.0, 36.0, 41.0, 25.0, 39.0, 40.0, 32.0, 45.0, 31.0, 32.0, 48.0, 49.0, 48.0, 18.0, 48.0, 25.0, 27.0, 37.0, 44.0, 27.0, 41.0, 42.0, 36.0, 37.0, 56.0, 36.0, 46.0, 26.0, 41.0, 38.0, 42.0, 47.0, 26.0, 64.0, 49.0, 44.0, 48.0, 27.0, 67.0, 24.0, 26.0, 28.0, 21.0, 24.0, 21.0, 73.0, 39.0, 32.0, 38.0, 32.0, 26.0, 55.0, 50.0, 49.0, 48.0, 65.0, 37.0, 45.0, 33.0, 46.0, 33.0, 33.0, 51.0, 52.0, 24.0, 55.0, 28.0, 36.0, 24.0, 20.0, 54.0, 53.0, 36.0, 24.0, 34.0, 59.0, 34.0, 29.0, 24.0, 77.0, 30.0, 36.0, 36.0, 58.0, 47.0, 49.0, 31.0, 25.0, 37.11793090137039, 30.0, 33.0, 29.0, 31.0, 51.0, 42.0, 67.0, 23.0, 34.0, 51.0, 19.0, 29.0, 23.0, 46.0, 42.0, 21.0, 55.0, 37.11793090137039, 43.0, 32.0, 34.0, 40.0, 55.0, 20.0, 24.0, 43.0, 56.0, 47.0, 33.0, 20.0, 28.0, 50.0, 36.0, 47.0, 36.0, 49.0, 34.0, 41.0, 29.0, 34.0, 34.0, 22.0, 26.0, 32.0, 44.0, 21.0, 29.0, 18.0, 33.0, 28.0, 37.11793090137039, 40.0, 40.0, 37.0, 47.0, 33.0, 44.0, 65.0, 20.0, 17.0, 55.0, 33.0, 44.0, 37.0, 32.0, 31.0, 20.0, 30.0, 25.0, 47.0, 48.0, 32.0, 18.0, 29.0, 30.0, 39.0, 36.0, 36.0, 54.0, 27.0, 45.0, 19.0, 36.0, 33.0, 56.0, 33.0, 60.0, 26.0, 52.0, 40.0, 33.0, 41.0, 32.0, 34.0, 26.0, 62.0, 33.0, 55.0, 38.0, 43.0, 38.0, 27.0, 52.0, 37.0, 34.0, 41.0, 40.0, 53.0, 21.0, 34.0, 22.0, 25.0, 16.0, 37.0, 68.0, 25.0, 34.0, 23.0, 25.0, 57.0, 27.0, 51.0, 30.0, 33.0, 37.11793090137039, 19.0, 22.0, 37.0, 19.0, 33.0, 38.0, 45.0, 39.0, 21.0, 56.0, 27.0, 50.0, 16.0, 18.0, 38.0, 32.0, 33.0, 71.0, 30.0, 39.0, 19.0, 44.0, 54.0, 29.0, 37.11793090137039, 56.0, 64.0, 25.0, 18.0, 36.0, 24.0, 30.0, 53.0, 60.0, 32.0, 25.0, 44.0, 32.0, 33.0, 37.11793090137039, 35.0, 23.0, 27.0, 53.0, 35.0, 41.0, 18.0, 34.0, 49.0, 31.0, 29.0, 33.0, 38.0, 43.0, 29.0, 68.0, 62.0, 39.0, 59.0, 24.0, 70.0, 42.0, 26.0, 24.0, 48.0, 54.0, 48.0, 37.0, 40.0, 28.0, 43.0, 35.0, 21.0, 40.0, 32.0, 48.0, 31.0, 37.11793090137039, 58.0, 30.0, 21.0, 15.0, 30.0, 28.0, 21.0, 33.0, 37.11793090137039, 36.0, 38.0, 34.0, 23.0, 44.0, 20.0, 41.0, 18.0, 29.0, 37.0, 41.0, 25.0, 20.0, 34.0, 37.0, 18.0, 72.0, 17.0, 45.0, 49.0, 64.0, 36.0, 61.0, 24.0, 70.0, 40.0, 21.0, 27.0, 23.0, 33.0, 45.0, 19.0, 28.0, 63.0, 37.11793090137039, 39.0, 57.0, 32.0, 38.0, 46.0, 31.0, 40.0, 31.0, 50.0, 29.0, 25.0, 31.0, 23.0, 54.0, 44.0, 43.0, 37.0, 55.0, 40.0, 26.0, 29.0, 29.0, 42.0, 20.0, 34.0, 41.0, 29.0, 19.0, 32.0, 23.0, 41.0, 37.0, 24.0, 54.0, 58.0, 40.0, 27.0, 40.0, 23.0, 33.0, 26.0, 36.0, 38.0, 25.0, 31.0, 48.0, 43.0, 36.0, 39.0, 22.0, 24.0, 36.0, 25.0, 30.0, 76.0, 39.0, 49.0, 21.0, 31.0, 22.0, 27.0, 26.0, 84.0, 17.0, 17.0, 22.0, 41.0, 58.0, 29.0, 19.0, 18.0, 61.0, 18.0, 23.0, 38.0, 19.0, 63.0, 21.0, 25.0, 35.0, 50.0, 34.0, 37.11793090137039, 26.0, 61.0, 18.0, 37.0, 27.0, 24.0, 37.0, 28.0, 44.0, 30.0, 30.0, 34.0, 27.0, 28.0, 42.0, 32.0, 24.0, 17.0, 26.0, 35.0, 25.0, 33.0, 25.0, 29.0, 18.0, 19.0, 39.0, 61.0, 36.0, 72.0, 48.0, 34.0, 36.0, 33.0, 30.0, 61.0, 41.0, 52.0, 26.0, 37.11793090137039, 39.0, 36.0, 47.0, 37.11793090137039, 25.0, 63.0, 24.0, 38.0, 22.0, 59.0, 29.0, 18.0, 29.0, 25.0, 48.0, 60.0, 27.0, 65.0, 41.0, 33.0, 33.0, 22.0, 52.0, 42.0, 48.0, 24.0, 21.0, 20.0, 59.0, 46.0, 23.0, 32.0, 19.0, 64.0, 35.0, 41.0, 42.0, 35.0, 33.0, 32.0, 37.0, 37.0, 65.0, 30.0, 43.0, 18.0, 27.0, 41.0, 41.0, 33.0, 53.0, 42.0, 46.0, 51.0, 16.0, 41.0, 24.0, 23.0, 50.0, 41.0, 23.0, 33.0, 25.0, 30.0, 58.0, 47.0, 22.0, 27.0, 29.0, 43.0, 18.0, 19.0, 37.0, 42.0, 35.0, 50.0, 60.0, 35.0, 47.0, 37.11793090137039, 31.0, 24.0, 27.0, 27.0, 23.0, 57.0, 56.0, 36.0, 37.11793090137039, 37.11793090137039, 24.0, 34.0, 17.0, 21.0, 35.0, 34.0, 56.0, 35.0, 46.0, 42.0, 49.0, 44.0, 45.0, 36.0, 45.0, 34.0, 26.0, 28.0, 35.0, 20.0, 33.0, 39.0, 63.0, 27.0, 33.0, 27.0, 31.0, 33.0, 39.0, 27.0, 32.0, 29.0, 28.0, 50.0, 55.0, 42.0, 36.0, 38.0, 38.0, 35.0, 42.0, 70.0, 29.0, 26.0, 20.0, 30.0, 19.0, 48.0, 58.0, 38.0, 28.0, 34.0, 45.0, 18.0, 25.0, 38.0, 33.0, 39.0, 58.0, 48.0, 14.0, 18.0, 22.0, 46.0, 37.11793090137039, 37.11793090137039, 57.0, 32.0, 31.0, 64.0, 35.0, 42.0, 30.0, 26.0, 37.0, 21.0, 20.0, 46.0, 37.11793090137039, 20.0, 46.0, 24.0, 26.0, 60.0, 25.0, 29.0, 58.0, 59.0, 46.0, 55.0, 27.0, 30.0, 45.0, 51.0, 27.0, 47.0, 52.0, 45.0, 47.0, 68.0, 40.0, 18.0, 35.0, 80.0, 44.0, 31.0, 20.0, 43.0, 25.0, 38.0, 34.0, 58.0, 38.0, 29.0, 40.0, 49.0, 25.0, 21.0, 57.0, 28.0, 25.0, 58.0, 34.0, 34.0, 24.0, 32.0, 58.0, 20.0, 19.0, 46.0, 28.0, 47.0, 47.0, 34.0, 37.11793090137039, 45.0, 17.0, 34.0, 48.0, 32.0, 20.0, 31.0, 16.0, 24.0, 39.0, 26.0, 30.0, 36.0, 28.0, 21.0, 36.0, 28.0, 24.0, 29.0, 44.0, 41.0, 38.0, 40.0, 20.0, 27.0, 51.0, 48.0, 40.0, 29.0, 34.0, 20.0, 47.0, 29.0, 33.0, 46.0, 35.0, 36.0, 63.0, 27.0, 17.0, 22.0, 21.0, 31.0, 56.0, 32.0, 25.0, 47.0, 37.11793090137039, 23.0, 34.0, 51.0, 35.0, 46.0, 59.0, 30.0, 34.0, 44.0, 31.0, 51.0, 34.0, 45.0, 32.0, 31.0, 41.0, 29.0, 47.0, 30.0, 27.0, 38.0, 33.0, 25.0, 47.0, 49.0, 33.0, 36.0, 22.0, 29.0, 52.0, 61.0, 29.0, 37.0, 26.0, 19.0, 45.0, 22.0, 57.0, 46.0, 27.0, 26.0, 30.0, 18.0, 25.0, 51.0, 40.0, 47.0, 38.0, 39.0, 30.0, 42.0, 25.0, 22.0, 30.0, 33.0, 24.0, 31.0, 25.0, 28.0, 19.0, 31.0, 48.0, 53.0, 50.0, 55.0, 37.11793090137039, 37.0, 30.0, 36.0, 24.0, 35.0, 42.0, 37.0, 28.0, 32.0, 33.0, 27.0, 21.0, 47.0, 57.0, 34.0, 34.0, 30.0, 29.0, 28.0, 39.0, 54.0, 27.0, 32.0, 32.0, 47.0, 33.0, 42.0, 37.11793090137039, 24.0, 42.0, 34.0, 46.0, 40.0, 30.0, 42.0, 30.0, 63.0, 18.0, 29.0, 42.0, 32.0, 50.0, 29.0, 29.0, 51.0, 23.0, 47.0, 45.0, 42.0, 26.0, 29.0, 49.0, 17.0, 37.11793090137039, 45.0, 51.0, 37.0, 28.0, 52.0, 37.0, 37.0, 25.0, 35.0, 35.0, 61.0, 33.0, 34.0, 59.0, 32.0, 49.0, 31.0, 29.0, 25.0, 26.0, 37.11793090137039, 39.0, 26.0, 36.0, 45.0, 45.0, 54.0, 43.0, 37.11793090137039, 30.0, 37.11793090137039, 58.0, 39.0, 40.0, 36.0, 27.0, 20.0, 17.0, 59.0, 47.0, 45.0, 34.0, 46.0, 26.0, 21.0, 29.0, 33.0, 47.0, 22.0, 41.0, 28.0, 56.0, 41.0, 35.0, 59.0, 30.0, 49.0, 41.0, 21.0, 62.0, 32.0, 22.0, 58.0, 32.0, 26.0, 35.0, 27.0, 35.0, 23.0, 59.0, 23.0, 43.0, 41.0, 56.0, 45.0, 28.0, 37.11793090137039, 54.0, 39.0, 37.11793090137039, 41.0, 27.0, 70.0, 37.11793090137039, 35.0, 26.0, 58.0, 46.0, 39.0, 33.0, 20.0, 38.0, 41.0, 32.0, 37.11793090137039, 24.0, 19.0, 27.0, 40.0, 61.0, 20.0, 35.0, 17.0, 22.0, 45.0, 20.0, 18.0, 28.0, 38.0, 53.0, 31.0, 48.0, 20.0, 35.0, 22.0, 18.0, 74.0, 33.0, 38.0, 26.0, 41.0, 29.0, 19.0, 61.0, 34.0, 35.0, 43.0, 50.0, 32.0, 50.0, 54.0, 35.0, 33.0, 18.0, 50.0, 41.0, 37.0, 76.0, 19.0, 40.0, 61.0, 61.0, 22.0, 52.0, 23.0, 67.0, 44.0, 23.0, 39.0, 53.0, 39.0, 26.0, 38.0, 49.0, 34.0, 47.0, 34.0, 58.0, 17.0, 21.0, 37.0, 43.0, 61.0, 28.0, 41.0, 23.0, 36.0, 23.0, 26.0, 32.0, 62.0, 33.0, 32.0, 69.0, 35.0, 46.0, 46.0, 22.0, 20.0, 30.0, 49.0, 43.0, 52.0, 56.0, 36.0, 40.0, 52.0, 35.0, 35.0, 53.0, 23.0, 19.0, 41.0, 39.0, 28.0, 28.0, 37.11793090137039, 53.0, 27.0, 31.0, 38.0, 38.0, 41.0, 49.0, 56.0, 62.0, 31.0, 37.0, 37.11793090137039, 28.0, 46.0, 21.0, 30.0, 36.0, 48.0, 34.0, 45.0, 19.0, 32.0, 32.0, 24.0, 65.0, 29.0, 49.0, 19.0, 56.0, 39.0, 43.0, 57.0, 49.0, 18.0, 27.0, 52.0, 37.0, 45.0, 49.0, 38.0, 31.0, 51.0, 37.11793090137039, 51.0, 20.0, 26.0, 25.0, 37.11793090137039, 62.0, 27.0, 33.0, 39.0, 18.0, 27.0, 50.0, 57.0, 29.0, 39.0, 31.0, 34.0, 52.0, 33.0, 37.0, 52.0, 62.0, 30.0, 28.0, 51.0, 23.0, 36.0, 37.0, 49.0, 49.0, 35.0, 17.0, 30.0, 34.0, 46.0, 29.0, 28.0, 43.0, 42.0, 30.0, 24.0, 27.0, 41.0, 47.0, 26.0, 20.0, 18.0, 37.11793090137039, 29.0, 35.0, 77.0, 31.0, 54.0, 33.0, 76.0, 28.0, 31.0, 53.0, 33.0, 37.0, 57.0, 36.0, 39.0, 43.0, 44.0, 33.0, 49.0, 18.0, 21.0, 57.0, 29.0, 58.0, 74.0, 63.0, 28.0, 67.0, 64.0, 32.0, 49.0, 28.0, 31.0, 20.0, 27.0, 38.0, 37.0, 36.0, 35.0, 50.0, 75.0, 32.0, 34.0, 24.0, 37.0, 33.0, 37.0, 55.0, 31.0, 54.0, 37.0, 48.0, 28.0, 31.0, 48.0, 58.0, 19.0, 28.0, 21.0, 57.0, 17.0, 22.0, 26.0, 31.0, 61.0, 54.0, 28.0, 30.0, 30.0, 28.0, 26.0, 28.0, 21.0, 31.0, 27.0, 34.0, 22.0, 29.0, 38.0, 51.0, 34.0, 30.0, 33.0, 21.0, 39.0, 37.0, 34.0, 47.0, 29.0, 29.0, 44.0, 53.0, 45.0, 19.0, 40.0, 33.0, 45.0, 40.0, 27.0, 63.0, 50.0, 25.0, 39.0, 42.0, 25.0, 24.0, 37.11793090137039, 37.11793090137039, 62.0, 34.0, 33.0, 56.0, 22.0, 46.0, 41.0, 38.0, 22.0, 42.0, 29.0, 56.0, 32.0, 31.0, 21.0, 31.0, 48.0, 58.0, 32.0, 45.0, 37.0, 20.0, 34.0, 31.0, 26.0, 32.0, 66.0, 37.0, 38.0, 44.0, 28.0, 22.0, 59.0, 20.0, 39.0, 30.0, 27.0, 37.11793090137039, 37.0, 52.0, 35.0, 33.0, 27.0, 27.0, 41.0, 28.0, 26.0, 37.11793090137039, 34.0, 34.0, 38.0, 32.0, 50.0, 55.0, 51.0, 18.0, 42.0, 36.0, 37.0, 28.0, 24.0, 34.0, 22.0, 42.0, 48.0, 51.0, 40.0, 34.0, 30.0, 31.0, 54.0, 60.0, 40.0, 37.11793090137039, 40.0, 68.0, 68.0, 60.0, 16.0, 25.0, 20.0, 21.0, 38.0, 28.0, 18.0, 37.11793090137039, 26.0, 31.0, 58.0, 31.0, 41.0, 41.0, 41.0, 23.0, 17.0, 35.0, 65.0, 51.0, 47.0, 42.0, 42.0, 31.0, 23.0, 50.0, 47.0, 66.0, 55.0, 68.0, 31.0, 24.0, 30.0, 34.0, 23.0, 43.0, 22.0, 22.0, 42.0, 65.0, 18.0, 23.0, 52.0, 40.0, 27.0, 34.0, 25.0, 28.0, 37.11793090137039, 27.0, 41.0, 27.0, 38.0, 29.0, 47.0, 28.0, 38.0, 21.0, 44.0, 61.0, 25.0, 40.0, 26.0, 57.0, 57.0, 24.0, 46.0, 38.0, 24.0, 34.0, 65.0, 60.0, 59.0, 23.0, 35.0, 35.0, 16.0, 37.11793090137039, 42.0, 43.0, 52.0, 31.0, 27.0, 31.0, 34.0, 29.0, 34.0, 37.11793090137039, 18.0, 51.0, 25.0, 28.0, 37.0, 37.11793090137039, 23.0, 57.0, 49.0, 24.0, 20.0, 25.0, 26.0, 26.0, 41.0, 31.0, 30.0, 25.0, 57.0, 17.0, 27.0, 30.0, 18.0, 50.0, 21.0, 28.0, 28.0, 33.0, 59.0, 34.0, 37.0, 30.0, 47.0, 34.0, 24.0, 25.0, 37.11793090137039, 47.0, 49.0, 31.0, 47.0, 52.0, 29.0, 45.0, 51.0, 55.0, 35.0, 50.0, 31.0, 47.0, 35.0, 66.0, 19.0, 19.0, 43.0, 57.0, 31.0, 41.0, 39.0, 24.0, 20.0, 32.0, 31.0, 22.0, 60.0, 40.0, 37.0, 34.0, 22.0, 30.0, 26.0, 29.0, 32.0, 32.0, 27.0, 31.0, 35.0, 19.0, 34.0, 32.0, 43.0, 22.0, 43.0, 27.0, 39.0, 37.0, 20.0, 34.0, 32.0, 15.0, 52.0, 53.0, 24.0, 41.0, 17.0, 44.0, 56.0, 23.0, 32.0, 26.0, 41.0, 56.0, 33.0, 37.0, 41.0, 38.0, 67.0, 45.0, 48.0, 31.0, 47.0, 40.0, 40.0, 34.0, 51.0, 33.0, 25.0, 41.0, 19.0, 21.0, 58.0, 63.0, 37.11793090137039, 58.0, 16.0, 31.0, 33.0, 40.0, 34.0, 29.0, 27.0, 23.0, 38.0, 17.0, 75.0, 40.0, 36.0, 27.0, 28.0, 20.0, 38.0, 16.0, 30.0, 30.0, 30.0, 36.0, 33.0, 39.0, 22.0, 49.0, 45.0, 45.0, 30.0, 30.0, 31.0, 73.0, 39.0, 37.0, 37.11793090137039, 31.0, 25.0, 24.0, 27.0, 37.11793090137039, 32.0, 43.0, 84.0, 29.0, 31.0, 57.0, 37.0, 29.0, 47.0, 44.0, 38.0, 32.0, 26.0, 21.0, 47.0, 30.0, 62.0, 41.0, 50.0, 37.11793090137039, 31.0, 30.0, 32.0, 20.0, 38.0, 25.0, 47.0, 19.0, 35.0, 58.0, 18.0, 42.0, 39.0, 61.0, 51.0, 28.0, 33.0, 47.0, 39.0, 31.0, 18.0, 23.0, 46.0, 50.0, 34.0, 32.0, 45.0, 31.0, 19.0, 53.0, 55.0, 32.0, 46.0, 26.0, 46.0, 22.0, 38.0, 44.0, 37.0, 52.0, 29.0, 19.0, 66.0, 40.0, 30.0, 69.0, 27.0, 62.0, 37.11793090137039, 39.0, 67.0, 54.0, 29.0, 33.0, 31.0, 38.0, 28.0, 45.0, 59.0, 17.0, 19.0, 36.0, 39.0, 37.11793090137039, 33.0, 31.0, 29.0, 51.0, 35.0, 36.0, 31.0, 39.0, 58.0, 39.0, 24.0, 48.0, 31.0, 37.11793090137039, 43.0, 33.0, 24.0, 40.0, 28.0, 24.0, 27.0, 40.0, 35.0, 42.0, 42.0, 24.0, 59.0, 61.0, 26.0, 32.0, 50.0, 38.0, 29.0, 27.0, 43.0, 21.0, 36.0, 24.0, 32.0, 26.0, 54.0, 44.0, 69.0, 45.0, 26.0, 43.0, 38.0, 21.0, 23.0, 56.0, 33.0, 40.0, 21.0, 20.0, 21.0, 47.0, 38.0, 31.0, 51.0, 19.0, 21.0, 48.0, 42.0, 30.0, 47.0, 57.0, 27.0, 50.0, 37.0, 24.0, 24.0, 30.0, 49.0, 47.0, 31.0, 33.0, 29.0, 42.0, 38.0, 25.0, 39.0, 64.0, 28.0, 32.0, 69.0, 29.0, 45.0, 40.0, 60.0, 22.0, 28.0, 38.0, 28.0, 37.0, 22.0, 42.0, 18.0, 38.0, 58.0, 50.0, 31.0, 35.0, 53.0, 31.0, 35.0, 22.0, 37.11793090137039, 32.0, 39.0, 44.0, 46.0, 49.0, 32.0, 53.0, 25.0, 36.0, 22.0, 33.0, 39.0, 44.0, 25.0, 36.0, 42.0, 24.0, 22.0, 35.0, 38.0, 28.0, 26.0, 62.0, 27.0, 23.0, 25.0, 22.0, 31.0], \"y0\": \" \", \"yaxis\": \"y\"}],\n",
              "                        {\"boxmode\": \"group\", \"legend\": {\"tracegroupgap\": 0}, \"margin\": {\"t\": 60}, \"template\": {\"data\": {\"bar\": [{\"error_x\": {\"color\": \"#2a3f5f\"}, \"error_y\": {\"color\": \"#2a3f5f\"}, \"marker\": {\"line\": {\"color\": \"#E5ECF6\", \"width\": 0.5}}, \"type\": \"bar\"}], \"barpolar\": [{\"marker\": {\"line\": {\"color\": \"#E5ECF6\", \"width\": 0.5}}, \"type\": \"barpolar\"}], \"carpet\": [{\"aaxis\": {\"endlinecolor\": \"#2a3f5f\", \"gridcolor\": \"white\", \"linecolor\": \"white\", \"minorgridcolor\": \"white\", \"startlinecolor\": \"#2a3f5f\"}, \"baxis\": {\"endlinecolor\": \"#2a3f5f\", \"gridcolor\": \"white\", \"linecolor\": \"white\", \"minorgridcolor\": \"white\", \"startlinecolor\": \"#2a3f5f\"}, \"type\": \"carpet\"}], \"choropleth\": [{\"colorbar\": {\"outlinewidth\": 0, \"ticks\": \"\"}, \"type\": \"choropleth\"}], \"contour\": [{\"colorbar\": {\"outlinewidth\": 0, \"ticks\": \"\"}, \"colorscale\": [[0.0, \"#0d0887\"], [0.1111111111111111, \"#46039f\"], [0.2222222222222222, \"#7201a8\"], [0.3333333333333333, \"#9c179e\"], [0.4444444444444444, \"#bd3786\"], [0.5555555555555556, \"#d8576b\"], [0.6666666666666666, \"#ed7953\"], [0.7777777777777778, \"#fb9f3a\"], [0.8888888888888888, \"#fdca26\"], [1.0, \"#f0f921\"]], \"type\": \"contour\"}], \"contourcarpet\": [{\"colorbar\": {\"outlinewidth\": 0, \"ticks\": \"\"}, \"type\": \"contourcarpet\"}], \"heatmap\": [{\"colorbar\": {\"outlinewidth\": 0, \"ticks\": \"\"}, \"colorscale\": [[0.0, \"#0d0887\"], [0.1111111111111111, \"#46039f\"], [0.2222222222222222, \"#7201a8\"], [0.3333333333333333, \"#9c179e\"], [0.4444444444444444, \"#bd3786\"], [0.5555555555555556, \"#d8576b\"], [0.6666666666666666, \"#ed7953\"], [0.7777777777777778, \"#fb9f3a\"], [0.8888888888888888, \"#fdca26\"], [1.0, \"#f0f921\"]], \"type\": \"heatmap\"}], \"heatmapgl\": [{\"colorbar\": {\"outlinewidth\": 0, \"ticks\": \"\"}, \"colorscale\": [[0.0, \"#0d0887\"], [0.1111111111111111, \"#46039f\"], [0.2222222222222222, \"#7201a8\"], [0.3333333333333333, \"#9c179e\"], [0.4444444444444444, \"#bd3786\"], [0.5555555555555556, \"#d8576b\"], [0.6666666666666666, \"#ed7953\"], [0.7777777777777778, \"#fb9f3a\"], [0.8888888888888888, \"#fdca26\"], [1.0, \"#f0f921\"]], \"type\": \"heatmapgl\"}], \"histogram\": [{\"marker\": {\"colorbar\": {\"outlinewidth\": 0, \"ticks\": \"\"}}, \"type\": \"histogram\"}], \"histogram2d\": [{\"colorbar\": {\"outlinewidth\": 0, \"ticks\": \"\"}, \"colorscale\": [[0.0, \"#0d0887\"], [0.1111111111111111, \"#46039f\"], [0.2222222222222222, \"#7201a8\"], [0.3333333333333333, \"#9c179e\"], [0.4444444444444444, \"#bd3786\"], [0.5555555555555556, \"#d8576b\"], [0.6666666666666666, \"#ed7953\"], [0.7777777777777778, \"#fb9f3a\"], [0.8888888888888888, \"#fdca26\"], [1.0, \"#f0f921\"]], \"type\": \"histogram2d\"}], \"histogram2dcontour\": [{\"colorbar\": {\"outlinewidth\": 0, \"ticks\": \"\"}, \"colorscale\": [[0.0, \"#0d0887\"], [0.1111111111111111, \"#46039f\"], [0.2222222222222222, \"#7201a8\"], [0.3333333333333333, \"#9c179e\"], [0.4444444444444444, \"#bd3786\"], [0.5555555555555556, \"#d8576b\"], [0.6666666666666666, \"#ed7953\"], [0.7777777777777778, \"#fb9f3a\"], [0.8888888888888888, \"#fdca26\"], [1.0, \"#f0f921\"]], \"type\": \"histogram2dcontour\"}], \"mesh3d\": [{\"colorbar\": {\"outlinewidth\": 0, \"ticks\": \"\"}, \"type\": \"mesh3d\"}], \"parcoords\": [{\"line\": {\"colorbar\": {\"outlinewidth\": 0, \"ticks\": \"\"}}, \"type\": \"parcoords\"}], \"pie\": [{\"automargin\": true, \"type\": \"pie\"}], \"scatter\": [{\"marker\": {\"colorbar\": {\"outlinewidth\": 0, \"ticks\": \"\"}}, \"type\": \"scatter\"}], \"scatter3d\": [{\"line\": {\"colorbar\": {\"outlinewidth\": 0, \"ticks\": \"\"}}, \"marker\": {\"colorbar\": {\"outlinewidth\": 0, \"ticks\": \"\"}}, \"type\": \"scatter3d\"}], \"scattercarpet\": [{\"marker\": {\"colorbar\": {\"outlinewidth\": 0, \"ticks\": \"\"}}, \"type\": \"scattercarpet\"}], \"scattergeo\": [{\"marker\": {\"colorbar\": {\"outlinewidth\": 0, \"ticks\": \"\"}}, \"type\": \"scattergeo\"}], \"scattergl\": [{\"marker\": {\"colorbar\": {\"outlinewidth\": 0, \"ticks\": \"\"}}, \"type\": \"scattergl\"}], \"scattermapbox\": [{\"marker\": {\"colorbar\": {\"outlinewidth\": 0, \"ticks\": \"\"}}, \"type\": \"scattermapbox\"}], \"scatterpolar\": [{\"marker\": {\"colorbar\": {\"outlinewidth\": 0, \"ticks\": \"\"}}, \"type\": \"scatterpolar\"}], \"scatterpolargl\": [{\"marker\": {\"colorbar\": {\"outlinewidth\": 0, \"ticks\": \"\"}}, \"type\": \"scatterpolargl\"}], \"scatterternary\": [{\"marker\": {\"colorbar\": {\"outlinewidth\": 0, \"ticks\": \"\"}}, \"type\": \"scatterternary\"}], \"surface\": [{\"colorbar\": {\"outlinewidth\": 0, \"ticks\": \"\"}, \"colorscale\": [[0.0, \"#0d0887\"], [0.1111111111111111, \"#46039f\"], [0.2222222222222222, \"#7201a8\"], [0.3333333333333333, \"#9c179e\"], [0.4444444444444444, \"#bd3786\"], [0.5555555555555556, \"#d8576b\"], [0.6666666666666666, \"#ed7953\"], [0.7777777777777778, \"#fb9f3a\"], [0.8888888888888888, \"#fdca26\"], [1.0, \"#f0f921\"]], \"type\": \"surface\"}], \"table\": [{\"cells\": {\"fill\": {\"color\": \"#EBF0F8\"}, \"line\": {\"color\": \"white\"}}, \"header\": {\"fill\": {\"color\": \"#C8D4E3\"}, \"line\": {\"color\": \"white\"}}, \"type\": \"table\"}]}, \"layout\": {\"annotationdefaults\": {\"arrowcolor\": \"#2a3f5f\", \"arrowhead\": 0, \"arrowwidth\": 1}, \"coloraxis\": {\"colorbar\": {\"outlinewidth\": 0, \"ticks\": \"\"}}, \"colorscale\": {\"diverging\": [[0, \"#8e0152\"], [0.1, \"#c51b7d\"], [0.2, \"#de77ae\"], [0.3, \"#f1b6da\"], [0.4, \"#fde0ef\"], [0.5, \"#f7f7f7\"], [0.6, \"#e6f5d0\"], [0.7, \"#b8e186\"], [0.8, \"#7fbc41\"], [0.9, \"#4d9221\"], [1, \"#276419\"]], \"sequential\": [[0.0, \"#0d0887\"], [0.1111111111111111, \"#46039f\"], [0.2222222222222222, \"#7201a8\"], [0.3333333333333333, \"#9c179e\"], [0.4444444444444444, \"#bd3786\"], [0.5555555555555556, \"#d8576b\"], [0.6666666666666666, \"#ed7953\"], [0.7777777777777778, \"#fb9f3a\"], [0.8888888888888888, \"#fdca26\"], [1.0, \"#f0f921\"]], \"sequentialminus\": [[0.0, \"#0d0887\"], [0.1111111111111111, \"#46039f\"], [0.2222222222222222, \"#7201a8\"], [0.3333333333333333, \"#9c179e\"], [0.4444444444444444, \"#bd3786\"], [0.5555555555555556, \"#d8576b\"], [0.6666666666666666, \"#ed7953\"], [0.7777777777777778, \"#fb9f3a\"], [0.8888888888888888, \"#fdca26\"], [1.0, \"#f0f921\"]]}, \"colorway\": [\"#636efa\", \"#EF553B\", \"#00cc96\", \"#ab63fa\", \"#FFA15A\", \"#19d3f3\", \"#FF6692\", \"#B6E880\", \"#FF97FF\", \"#FECB52\"], \"font\": {\"color\": \"#2a3f5f\"}, \"geo\": {\"bgcolor\": \"white\", \"lakecolor\": \"white\", \"landcolor\": \"#E5ECF6\", \"showlakes\": true, \"showland\": true, \"subunitcolor\": \"white\"}, \"hoverlabel\": {\"align\": \"left\"}, \"hovermode\": \"closest\", \"mapbox\": {\"style\": \"light\"}, \"paper_bgcolor\": \"white\", \"plot_bgcolor\": \"#E5ECF6\", \"polar\": {\"angularaxis\": {\"gridcolor\": \"white\", \"linecolor\": \"white\", \"ticks\": \"\"}, \"bgcolor\": \"#E5ECF6\", \"radialaxis\": {\"gridcolor\": \"white\", \"linecolor\": \"white\", \"ticks\": \"\"}}, \"scene\": {\"xaxis\": {\"backgroundcolor\": \"#E5ECF6\", \"gridcolor\": \"white\", \"gridwidth\": 2, \"linecolor\": \"white\", \"showbackground\": true, \"ticks\": \"\", \"zerolinecolor\": \"white\"}, \"yaxis\": {\"backgroundcolor\": \"#E5ECF6\", \"gridcolor\": \"white\", \"gridwidth\": 2, \"linecolor\": \"white\", \"showbackground\": true, \"ticks\": \"\", \"zerolinecolor\": \"white\"}, \"zaxis\": {\"backgroundcolor\": \"#E5ECF6\", \"gridcolor\": \"white\", \"gridwidth\": 2, \"linecolor\": \"white\", \"showbackground\": true, \"ticks\": \"\", \"zerolinecolor\": \"white\"}}, \"shapedefaults\": {\"line\": {\"color\": \"#2a3f5f\"}}, \"ternary\": {\"aaxis\": {\"gridcolor\": \"white\", \"linecolor\": \"white\", \"ticks\": \"\"}, \"baxis\": {\"gridcolor\": \"white\", \"linecolor\": \"white\", \"ticks\": \"\"}, \"bgcolor\": \"#E5ECF6\", \"caxis\": {\"gridcolor\": \"white\", \"linecolor\": \"white\", \"ticks\": \"\"}}, \"title\": {\"x\": 0.05}, \"xaxis\": {\"automargin\": true, \"gridcolor\": \"white\", \"linecolor\": \"white\", \"ticks\": \"\", \"title\": {\"standoff\": 15}, \"zerolinecolor\": \"white\", \"zerolinewidth\": 2}, \"yaxis\": {\"automargin\": true, \"gridcolor\": \"white\", \"linecolor\": \"white\", \"ticks\": \"\", \"title\": {\"standoff\": 15}, \"zerolinecolor\": \"white\", \"zerolinewidth\": 2}}}, \"xaxis\": {\"anchor\": \"y\", \"domain\": [0.0, 1.0]}, \"yaxis\": {\"anchor\": \"x\", \"domain\": [0.0, 1.0], \"title\": {\"text\": \"age\"}}},\n",
              "                        {\"responsive\": true}\n",
              "                    ).then(function(){\n",
              "                            \n",
              "var gd = document.getElementById('5b30d1cd-e85b-4f29-b6bb-39709a9ae659');\n",
              "var x = new MutationObserver(function (mutations, observer) {{\n",
              "        var display = window.getComputedStyle(gd).display;\n",
              "        if (!display || display === 'none') {{\n",
              "            console.log([gd, 'removed!']);\n",
              "            Plotly.purge(gd);\n",
              "            observer.disconnect();\n",
              "        }}\n",
              "}});\n",
              "\n",
              "// Listen for the removal of the full notebook cells\n",
              "var notebookContainer = gd.closest('#notebook-container');\n",
              "if (notebookContainer) {{\n",
              "    x.observe(notebookContainer, {childList: true});\n",
              "}}\n",
              "\n",
              "// Listen for the clearing of the current output cell\n",
              "var outputEl = gd.closest('.output');\n",
              "if (outputEl) {{\n",
              "    x.observe(outputEl, {childList: true});\n",
              "}}\n",
              "\n",
              "                        })\n",
              "                };\n",
              "                \n",
              "            </script>\n",
              "        </div>\n",
              "</body>\n",
              "</html>"
            ]
          },
          "metadata": {
            "tags": []
          }
        }
      ]
    },
    {
      "cell_type": "markdown",
      "metadata": {
        "id": "BCC8eqK0RtvG",
        "colab_type": "text"
      },
      "source": [
        "So if age>73 then it can be considered as outliers and there are only 37 data points where age>37, so we can drop them"
      ]
    },
    {
      "cell_type": "markdown",
      "metadata": {
        "id": "hF6JBfYUR5nl",
        "colab_type": "text"
      },
      "source": [
        "**Prepare data for clustering**"
      ]
    },
    {
      "cell_type": "code",
      "metadata": {
        "id": "5SUN16UNcw_A",
        "colab_type": "code",
        "colab": {
          "base_uri": "https://localhost:8080/",
          "height": 85
        },
        "outputId": "39edf47a-7de2-495a-e24e-80cc82ac78c8"
      },
      "source": [
        "cluster_data = data[data[\"age\"]<=73]\n",
        "cluster_data.columns"
      ],
      "execution_count": 67,
      "outputs": [
        {
          "output_type": "execute_result",
          "data": {
            "text/plain": [
              "Index(['id', 'name', 'date', 'manner_of_death', 'armed', 'age', 'gender',\n",
              "       'race', 'city', 'state', 'signs_of_mental_illness', 'threat_level',\n",
              "       'flee', 'body_camera', 'arms_category', 'year', 'month'],\n",
              "      dtype='object')"
            ]
          },
          "metadata": {
            "tags": []
          },
          "execution_count": 67
        }
      ]
    },
    {
      "cell_type": "markdown",
      "metadata": {
        "id": "FJM5DXxcc1pY",
        "colab_type": "text"
      },
      "source": [
        "**Do binning on the age variable**"
      ]
    },
    {
      "cell_type": "markdown",
      "metadata": {
        "id": "AB6wo4bTcqmv",
        "colab_type": "text"
      },
      "source": [
        "a. Before binning the \"age\" distribution"
      ]
    },
    {
      "cell_type": "code",
      "metadata": {
        "id": "DDZP6iMac0Ab",
        "colab_type": "code",
        "colab": {
          "base_uri": "https://localhost:8080/",
          "height": 542
        },
        "outputId": "d032aa52-614d-4135-f10b-60d2ac4e9d0b"
      },
      "source": [
        "fig = px.histogram(cluster_data, x=\"age\")\n",
        "fig.show()"
      ],
      "execution_count": 69,
      "outputs": [
        {
          "output_type": "display_data",
          "data": {
            "text/html": [
              "<html>\n",
              "<head><meta charset=\"utf-8\" /></head>\n",
              "<body>\n",
              "    <div>\n",
              "            <script src=\"https://cdnjs.cloudflare.com/ajax/libs/mathjax/2.7.5/MathJax.js?config=TeX-AMS-MML_SVG\"></script><script type=\"text/javascript\">if (window.MathJax) {MathJax.Hub.Config({SVG: {font: \"STIX-Web\"}});}</script>\n",
              "                <script type=\"text/javascript\">window.PlotlyConfig = {MathJaxConfig: 'local'};</script>\n",
              "        <script src=\"https://cdn.plot.ly/plotly-latest.min.js\"></script>    \n",
              "            <div id=\"81779fc9-5119-49c1-a430-17ad46e90236\" class=\"plotly-graph-div\" style=\"height:525px; width:100%;\"></div>\n",
              "            <script type=\"text/javascript\">\n",
              "                \n",
              "                    window.PLOTLYENV=window.PLOTLYENV || {};\n",
              "                    \n",
              "                if (document.getElementById(\"81779fc9-5119-49c1-a430-17ad46e90236\")) {\n",
              "                    Plotly.newPlot(\n",
              "                        '81779fc9-5119-49c1-a430-17ad46e90236',\n",
              "                        [{\"alignmentgroup\": \"True\", \"bingroup\": \"x\", \"hoverlabel\": {\"namelength\": 0}, \"hovertemplate\": \"age=%{x}<br>count=%{y}\", \"legendgroup\": \"\", \"marker\": {\"color\": \"#636efa\"}, \"name\": \"\", \"offsetgroup\": \"\", \"orientation\": \"v\", \"showlegend\": false, \"type\": \"histogram\", \"x\": [53.0, 47.0, 23.0, 32.0, 39.0, 18.0, 22.0, 35.0, 34.0, 47.0, 25.0, 31.0, 41.0, 30.0, 37.0, 28.0, 42.0, 36.0, 49.0, 71.0, 33.0, 39.0, 23.0, 29.0, 34.0, 43.0, 24.0, 29.0, 34.0, 68.0, 34.0, 27.0, 39.0, 24.0, 36.0, 33.0, 41.0, 48.0, 21.0, 24.0, 27.0, 32.0, 67.0, 49.0, 42.0, 36.0, 36.0, 19.0, 54.0, 25.0, 17.0, 29.0, 56.0, 61.0, 45.0, 26.0, 40.0, 26.0, 17.0, 68.0, 24.0, 34.0, 39.0, 26.0, 29.0, 33.0, 45.0, 26.0, 35.0, 31.0, 42.0, 48.0, 31.0, 54.0, 59.0, 42.0, 17.0, 23.0, 38.0, 29.0, 45.0, 28.0, 37.0, 28.0, 28.0, 51.0, 36.0, 59.0, 25.0, 26.0, 33.0, 27.0, 57.0, 46.0, 41.0, 61.0, 45.0, 49.0, 45.0, 35.0, 23.0, 46.0, 23.0, 21.0, 35.0, 27.0, 37.0, 16.0, 51.0, 34.0, 34.0, 25.0, 56.0, 26.0, 24.0, 43.0, 31.0, 32.0, 30.0, 50.0, 20.0, 31.0, 38.0, 37.11793090137039, 41.0, 51.0, 50.0, 47.0, 37.0, 41.0, 16.0, 42.0, 39.0, 30.0, 27.0, 43.0, 42.0, 21.0, 49.0, 34.0, 31.0, 27.0, 24.0, 34.0, 28.0, 28.0, 40.0, 37.0, 17.0, 35.0, 49.0, 43.0, 20.0, 25.0, 25.0, 26.0, 28.0, 45.0, 36.0, 34.0, 19.0, 37.0, 48.0, 29.0, 43.0, 40.0, 35.0, 27.0, 58.0, 46.0, 30.0, 64.0, 31.0, 23.0, 37.0, 37.0, 31.0, 39.0, 31.0, 54.0, 53.0, 25.0, 35.0, 41.0, 59.0, 36.0, 32.0, 53.0, 26.0, 29.0, 27.0, 28.0, 52.0, 49.0, 24.0, 24.0, 20.0, 22.0, 49.0, 64.0, 47.0, 39.0, 18.0, 31.0, 16.0, 20.0, 36.0, 63.0, 34.0, 24.0, 21.0, 44.0, 60.0, 42.0, 37.0, 36.0, 21.0, 24.0, 29.0, 57.0, 38.0, 23.0, 27.0, 28.0, 63.0, 53.0, 35.0, 26.0, 42.0, 41.0, 56.0, 39.0, 23.0, 40.0, 29.0, 26.0, 49.0, 36.0, 21.0, 27.0, 37.0, 36.0, 32.0, 44.0, 27.0, 63.0, 38.0, 17.0, 31.0, 34.0, 50.0, 51.0, 56.0, 23.0, 25.0, 31.0, 32.0, 60.0, 42.0, 39.0, 28.0, 22.0, 29.0, 31.0, 28.0, 21.0, 38.0, 66.0, 36.0, 32.0, 27.0, 26.0, 31.0, 22.0, 41.0, 41.0, 51.0, 72.0, 52.0, 47.0, 18.0, 29.0, 23.0, 43.0, 45.0, 40.0, 44.0, 25.0, 37.0, 59.0, 35.0, 35.0, 18.0, 51.0, 30.0, 31.0, 39.0, 26.0, 51.0, 19.0, 46.0, 49.0, 63.0, 20.0, 25.0, 24.0, 58.0, 29.0, 45.0, 20.0, 58.0, 21.0, 27.0, 26.0, 33.0, 27.0, 25.0, 53.0, 53.0, 42.0, 22.0, 52.0, 36.0, 30.0, 34.0, 44.0, 53.0, 36.0, 29.0, 32.0, 46.0, 18.0, 38.0, 21.0, 35.0, 58.0, 48.0, 31.0, 47.0, 34.0, 30.0, 28.0, 28.0, 40.0, 46.0, 37.0, 53.0, 41.0, 42.0, 45.0, 34.0, 18.0, 27.0, 54.0, 35.0, 17.0, 29.0, 38.0, 26.0, 52.0, 39.0, 22.0, 29.0, 43.0, 24.0, 32.0, 40.0, 47.0, 40.0, 25.0, 31.0, 36.0, 51.0, 24.0, 62.0, 39.0, 24.0, 57.0, 20.0, 33.0, 60.0, 32.0, 40.0, 18.0, 36.0, 35.0, 55.0, 19.0, 39.0, 47.0, 23.0, 26.0, 26.0, 18.0, 33.0, 56.0, 46.0, 36.0, 50.0, 45.0, 53.0, 45.0, 42.0, 27.0, 30.0, 36.0, 58.0, 30.0, 69.0, 30.0, 45.0, 22.0, 28.0, 19.0, 40.0, 46.0, 28.0, 22.0, 17.0, 46.0, 35.0, 35.0, 28.0, 15.0, 22.0, 28.0, 31.0, 40.0, 48.0, 58.0, 44.0, 21.0, 50.0, 23.0, 24.0, 49.0, 60.0, 35.0, 29.0, 20.0, 34.0, 22.0, 49.0, 32.0, 26.0, 41.0, 61.0, 49.0, 28.0, 35.0, 29.0, 51.0, 52.0, 24.0, 32.0, 45.0, 60.0, 23.0, 46.0, 33.0, 40.0, 27.0, 42.0, 37.0, 23.0, 36.0, 19.0, 35.0, 43.0, 25.0, 20.0, 42.0, 29.0, 42.0, 31.0, 18.0, 33.0, 59.0, 47.0, 39.0, 37.0, 35.0, 28.0, 59.0, 62.0, 50.0, 68.0, 27.0, 17.0, 21.0, 38.0, 54.0, 20.0, 25.0, 31.0, 35.0, 60.0, 24.0, 27.0, 36.0, 20.0, 24.0, 23.0, 41.0, 20.0, 43.0, 29.0, 35.0, 30.0, 24.0, 23.0, 29.0, 25.0, 27.0, 50.0, 19.0, 24.0, 23.0, 22.0, 46.0, 65.0, 43.0, 35.0, 47.0, 24.0, 35.0, 25.0, 27.0, 26.0, 34.0, 32.0, 47.0, 44.0, 31.0, 44.0, 30.0, 60.0, 50.0, 36.0, 59.0, 33.0, 19.0, 56.0, 45.0, 22.0, 34.0, 53.0, 48.0, 25.0, 30.0, 47.0, 33.0, 34.0, 29.0, 63.0, 49.0, 18.0, 71.0, 35.0, 55.0, 31.0, 18.0, 51.0, 39.0, 20.0, 29.0, 40.0, 42.0, 22.0, 19.0, 24.0, 30.0, 53.0, 25.0, 28.0, 24.0, 59.0, 46.0, 15.0, 41.0, 22.0, 24.0, 34.0, 48.0, 24.0, 27.0, 27.0, 27.0, 49.0, 30.0, 38.0, 26.0, 30.0, 53.0, 23.0, 34.0, 30.0, 43.0, 29.0, 47.0, 35.0, 40.0, 18.0, 24.0, 29.0, 44.0, 17.0, 19.0, 50.0, 57.0, 30.0, 38.0, 31.0, 29.0, 26.0, 64.0, 39.0, 57.0, 36.0, 36.0, 21.0, 53.0, 30.0, 34.0, 53.0, 45.0, 22.0, 22.0, 46.0, 27.0, 30.0, 54.0, 29.0, 42.0, 41.0, 28.0, 61.0, 23.0, 25.0, 37.11793090137039, 29.0, 20.0, 40.0, 45.0, 33.0, 47.0, 45.0, 40.0, 37.0, 27.0, 36.0, 23.0, 49.0, 21.0, 32.0, 35.0, 28.0, 59.0, 28.0, 45.0, 45.0, 19.0, 25.0, 37.0, 33.0, 59.0, 31.0, 29.0, 32.0, 41.0, 31.0, 44.0, 23.0, 45.0, 39.0, 67.0, 29.0, 25.0, 28.0, 21.0, 32.0, 51.0, 39.0, 27.0, 31.0, 50.0, 37.11793090137039, 32.0, 47.0, 46.0, 57.0, 23.0, 56.0, 24.0, 27.0, 23.0, 26.0, 34.0, 21.0, 32.0, 33.0, 55.0, 48.0, 35.0, 19.0, 45.0, 28.0, 42.0, 17.0, 30.0, 21.0, 45.0, 33.0, 46.0, 23.0, 37.0, 43.0, 40.0, 59.0, 31.0, 46.0, 37.0, 28.0, 28.0, 55.0, 29.0, 26.0, 27.0, 31.0, 51.0, 50.0, 27.0, 18.0, 46.0, 19.0, 49.0, 31.0, 38.0, 40.0, 35.0, 34.0, 44.0, 23.0, 43.0, 37.11793090137039, 31.0, 27.0, 46.0, 18.0, 57.0, 15.0, 25.0, 50.0, 31.0, 35.0, 27.0, 20.0, 27.0, 33.0, 27.0, 22.0, 28.0, 31.0, 28.0, 53.0, 30.0, 39.0, 40.0, 30.0, 21.0, 35.0, 21.0, 47.0, 38.0, 36.0, 53.0, 34.0, 34.0, 30.0, 28.0, 47.0, 49.0, 36.0, 45.0, 21.0, 18.0, 25.0, 29.0, 57.0, 34.0, 35.0, 37.11793090137039, 18.0, 62.0, 29.0, 25.0, 30.0, 24.0, 52.0, 33.0, 56.0, 49.0, 20.0, 62.0, 62.0, 6.0, 30.0, 57.0, 18.0, 47.0, 48.0, 20.0, 30.0, 36.0, 51.0, 55.0, 48.0, 20.0, 25.0, 26.0, 45.0, 35.0, 34.0, 36.0, 22.0, 63.0, 31.0, 25.0, 57.0, 32.0, 42.0, 52.0, 25.0, 25.0, 31.0, 39.0, 16.0, 24.0, 32.0, 25.0, 28.0, 28.0, 21.0, 30.0, 58.0, 47.0, 41.0, 25.0, 44.0, 34.0, 27.0, 34.0, 29.0, 39.0, 24.0, 47.0, 45.0, 28.0, 50.0, 49.0, 45.0, 24.0, 32.0, 23.0, 52.0, 37.0, 26.0, 58.0, 50.0, 22.0, 53.0, 69.0, 23.0, 29.0, 25.0, 18.0, 31.0, 23.0, 18.0, 35.0, 27.0, 28.0, 26.0, 32.0, 36.0, 66.0, 21.0, 47.0, 24.0, 60.0, 61.0, 38.0, 51.0, 35.0, 46.0, 48.0, 36.0, 33.0, 66.0, 34.0, 55.0, 54.0, 36.0, 25.0, 24.0, 28.0, 36.0, 20.0, 49.0, 51.0, 21.0, 30.0, 32.0, 33.0, 56.0, 48.0, 39.0, 19.0, 45.0, 33.0, 52.0, 51.0, 37.11793090137039, 25.0, 24.0, 22.0, 32.0, 58.0, 24.0, 26.0, 30.0, 31.0, 34.0, 48.0, 37.11793090137039, 21.0, 39.0, 25.0, 30.0, 56.0, 29.0, 19.0, 35.0, 36.0, 24.0, 23.0, 31.0, 41.0, 55.0, 19.0, 38.0, 36.0, 34.0, 52.0, 28.0, 50.0, 37.11793090137039, 55.0, 23.0, 30.0, 54.0, 37.0, 37.0, 30.0, 27.0, 22.0, 29.0, 39.0, 33.0, 52.0, 28.0, 54.0, 38.0, 32.0, 34.0, 26.0, 50.0, 37.0, 45.0, 56.0, 45.0, 32.0, 12.0, 49.0, 58.0, 29.0, 60.0, 40.0, 39.0, 26.0, 24.0, 34.0, 27.0, 44.0, 25.0, 55.0, 19.0, 52.0, 31.0, 26.0, 24.0, 38.0, 33.0, 28.0, 27.0, 39.0, 29.0, 36.0, 55.0, 28.0, 40.0, 33.0, 37.0, 39.0, 43.0, 38.0, 55.0, 52.0, 32.0, 31.0, 27.0, 40.0, 31.0, 30.0, 26.0, 32.0, 33.0, 19.0, 33.0, 29.0, 41.0, 29.0, 38.0, 64.0, 42.0, 46.0, 42.0, 37.0, 25.0, 36.0, 21.0, 30.0, 53.0, 31.0, 22.0, 24.0, 36.0, 47.0, 54.0, 43.0, 38.0, 30.0, 51.0, 55.0, 16.0, 23.0, 36.0, 33.0, 17.0, 22.0, 22.0, 29.0, 41.0, 67.0, 36.0, 52.0, 56.0, 35.0, 45.0, 30.0, 29.0, 53.0, 32.0, 22.0, 24.0, 19.0, 29.0, 50.0, 29.0, 26.0, 39.0, 52.0, 51.0, 48.0, 30.0, 37.0, 30.0, 35.0, 32.0, 25.0, 35.0, 31.0, 30.0, 23.0, 41.0, 45.0, 46.0, 36.0, 31.0, 32.0, 38.0, 33.0, 45.0, 38.0, 22.0, 48.0, 36.0, 26.0, 39.0, 16.0, 58.0, 27.0, 26.0, 21.0, 37.0, 56.0, 19.0, 38.0, 18.0, 35.0, 23.0, 41.0, 44.0, 24.0, 39.0, 22.0, 37.0, 36.0, 41.0, 27.0, 30.0, 34.0, 22.0, 51.0, 42.0, 41.0, 49.0, 45.0, 45.0, 42.0, 41.0, 27.0, 37.0, 22.0, 21.0, 50.0, 23.0, 25.0, 51.0, 46.0, 23.0, 43.0, 37.0, 20.0, 45.0, 16.0, 30.0, 26.0, 24.0, 38.0, 28.0, 29.0, 34.0, 38.0, 43.0, 23.0, 33.0, 40.0, 38.0, 53.0, 29.0, 30.0, 60.0, 25.0, 24.0, 21.0, 23.0, 61.0, 54.0, 62.0, 16.0, 25.0, 28.0, 25.0, 33.0, 51.0, 34.0, 30.0, 44.0, 24.0, 29.0, 48.0, 19.0, 22.0, 39.0, 36.0, 55.0, 46.0, 34.0, 27.0, 33.0, 18.0, 33.0, 51.0, 50.0, 46.0, 33.0, 25.0, 52.0, 18.0, 43.0, 34.0, 31.0, 65.0, 37.0, 30.0, 36.0, 25.0, 69.0, 48.0, 50.0, 52.0, 44.0, 60.0, 40.0, 20.0, 45.0, 44.0, 40.0, 25.0, 43.0, 27.0, 19.0, 39.0, 30.0, 28.0, 22.0, 16.0, 40.0, 38.0, 20.0, 35.0, 52.0, 26.0, 54.0, 38.0, 52.0, 26.0, 53.0, 35.0, 22.0, 31.0, 32.0, 37.0, 28.0, 18.0, 41.0, 15.0, 38.0, 41.0, 52.0, 48.0, 29.0, 51.0, 21.0, 24.0, 18.0, 30.0, 33.0, 60.0, 28.0, 26.0, 24.0, 44.0, 34.0, 21.0, 36.0, 37.0, 53.0, 24.0, 45.0, 48.0, 42.0, 33.0, 55.0, 28.0, 25.0, 28.0, 52.0, 59.0, 52.0, 39.0, 40.0, 36.0, 38.0, 26.0, 37.11793090137039, 29.0, 37.0, 29.0, 21.0, 33.0, 23.0, 26.0, 29.0, 33.0, 28.0, 35.0, 33.0, 24.0, 37.11793090137039, 28.0, 19.0, 43.0, 59.0, 34.0, 35.0, 23.0, 36.0, 46.0, 44.0, 20.0, 30.0, 29.0, 35.0, 36.0, 22.0, 31.0, 63.0, 38.0, 31.0, 27.0, 35.0, 22.0, 28.0, 26.0, 22.0, 31.0, 43.0, 24.0, 29.0, 43.0, 21.0, 19.0, 25.0, 59.0, 50.0, 58.0, 25.0, 32.0, 53.0, 38.0, 70.0, 33.0, 36.0, 21.0, 51.0, 43.0, 18.0, 33.0, 34.0, 31.0, 35.0, 31.0, 31.0, 23.0, 25.0, 25.0, 21.0, 49.0, 63.0, 43.0, 34.0, 38.0, 52.0, 68.0, 29.0, 32.0, 50.0, 31.0, 27.0, 31.0, 29.0, 23.0, 61.0, 33.0, 18.0, 43.0, 50.0, 47.0, 54.0, 22.0, 43.0, 38.0, 36.0, 30.0, 59.0, 21.0, 34.0, 17.0, 37.0, 25.0, 23.0, 20.0, 19.0, 50.0, 24.0, 25.0, 20.0, 37.0, 44.0, 22.0, 31.0, 25.0, 37.11793090137039, 36.0, 50.0, 42.0, 42.0, 26.0, 19.0, 59.0, 36.0, 51.0, 27.0, 22.0, 30.0, 28.0, 63.0, 32.0, 26.0, 25.0, 27.0, 61.0, 30.0, 37.11793090137039, 37.0, 41.0, 25.0, 24.0, 44.0, 63.0, 58.0, 30.0, 35.0, 50.0, 40.0, 37.11793090137039, 19.0, 34.0, 18.0, 21.0, 29.0, 49.0, 24.0, 37.0, 32.0, 65.0, 37.0, 33.0, 63.0, 30.0, 40.0, 38.0, 50.0, 41.0, 41.0, 39.0, 44.0, 23.0, 32.0, 56.0, 33.0, 63.0, 31.0, 57.0, 26.0, 39.0, 42.0, 29.0, 43.0, 56.0, 31.0, 50.0, 36.0, 50.0, 49.0, 31.0, 34.0, 36.0, 29.0, 32.0, 18.0, 50.0, 36.0, 17.0, 19.0, 24.0, 24.0, 20.0, 33.0, 41.0, 47.0, 18.0, 31.0, 27.0, 36.0, 40.0, 59.0, 32.0, 38.0, 18.0, 23.0, 43.0, 67.0, 32.0, 22.0, 31.0, 43.0, 34.0, 51.0, 31.0, 54.0, 69.0, 58.0, 26.0, 59.0, 25.0, 20.0, 57.0, 56.0, 64.0, 34.0, 69.0, 45.0, 14.0, 44.0, 59.0, 33.0, 54.0, 22.0, 49.0, 23.0, 38.0, 53.0, 36.0, 29.0, 42.0, 36.0, 32.0, 53.0, 30.0, 25.0, 18.0, 55.0, 27.0, 37.0, 29.0, 40.0, 36.0, 38.0, 29.0, 59.0, 47.0, 22.0, 31.0, 29.0, 54.0, 71.0, 36.0, 34.0, 49.0, 36.0, 43.0, 53.0, 31.0, 32.0, 41.0, 26.0, 37.0, 24.0, 35.0, 56.0, 22.0, 59.0, 36.0, 21.0, 38.0, 60.0, 18.0, 23.0, 37.11793090137039, 38.0, 22.0, 38.0, 25.0, 25.0, 36.0, 37.11793090137039, 44.0, 36.0, 35.0, 25.0, 31.0, 70.0, 25.0, 55.0, 35.0, 25.0, 32.0, 38.0, 32.0, 64.0, 55.0, 69.0, 37.0, 31.0, 25.0, 25.0, 13.0, 32.0, 69.0, 34.0, 29.0, 29.0, 40.0, 42.0, 25.0, 45.0, 55.0, 22.0, 61.0, 46.0, 30.0, 56.0, 35.0, 22.0, 23.0, 43.0, 43.0, 49.0, 23.0, 41.0, 33.0, 30.0, 25.0, 52.0, 32.0, 46.0, 48.0, 38.0, 26.0, 32.0, 28.0, 53.0, 38.0, 18.0, 32.0, 37.0, 18.0, 20.0, 28.0, 18.0, 16.0, 36.0, 57.0, 49.0, 31.0, 26.0, 51.0, 28.0, 35.0, 57.0, 36.0, 42.0, 37.11793090137039, 49.0, 21.0, 53.0, 62.0, 41.0, 40.0, 27.0, 19.0, 26.0, 44.0, 30.0, 31.0, 33.0, 22.0, 38.0, 46.0, 23.0, 24.0, 26.0, 26.0, 32.0, 50.0, 17.0, 39.0, 28.0, 66.0, 42.0, 34.0, 38.0, 28.0, 29.0, 23.0, 58.0, 21.0, 45.0, 38.0, 40.0, 19.0, 46.0, 25.0, 25.0, 37.0, 25.0, 36.0, 32.0, 33.0, 24.0, 37.0, 38.0, 45.0, 31.0, 34.0, 23.0, 39.0, 55.0, 31.0, 59.0, 40.0, 23.0, 26.0, 35.0, 49.0, 36.0, 56.0, 34.0, 43.0, 31.0, 17.0, 32.0, 33.0, 43.0, 31.0, 23.0, 26.0, 45.0, 19.0, 36.0, 41.0, 53.0, 24.0, 37.11793090137039, 37.11793090137039, 40.0, 29.0, 22.0, 21.0, 25.0, 37.0, 37.0, 56.0, 25.0, 26.0, 35.0, 25.0, 29.0, 21.0, 15.0, 24.0, 18.0, 19.0, 27.0, 45.0, 36.0, 34.0, 23.0, 43.0, 19.0, 37.0, 23.0, 26.0, 20.0, 59.0, 33.0, 48.0, 50.0, 18.0, 23.0, 41.0, 41.0, 55.0, 29.0, 31.0, 25.0, 38.0, 37.11793090137039, 22.0, 33.0, 36.0, 26.0, 29.0, 55.0, 47.0, 52.0, 49.0, 37.0, 37.0, 36.0, 31.0, 30.0, 37.11793090137039, 35.0, 35.0, 36.0, 39.0, 30.0, 44.0, 24.0, 53.0, 73.0, 31.0, 28.0, 18.0, 32.0, 60.0, 48.0, 33.0, 44.0, 20.0, 37.0, 72.0, 52.0, 46.0, 25.0, 38.0, 27.0, 24.0, 19.0, 31.0, 18.0, 53.0, 48.0, 29.0, 30.0, 61.0, 71.0, 41.0, 36.0, 28.0, 21.0, 46.0, 32.0, 33.0, 42.0, 17.0, 35.0, 23.0, 21.0, 44.0, 53.0, 63.0, 18.0, 51.0, 64.0, 45.0, 20.0, 41.0, 23.0, 32.0, 25.0, 42.0, 41.0, 31.0, 50.0, 38.0, 44.0, 38.0, 21.0, 32.0, 23.0, 41.0, 41.0, 38.0, 54.0, 20.0, 26.0, 29.0, 47.0, 28.0, 48.0, 34.0, 37.0, 33.0, 36.0, 43.0, 32.0, 29.0, 39.0, 40.0, 21.0, 50.0, 19.0, 28.0, 16.0, 49.0, 44.0, 25.0, 39.0, 44.0, 50.0, 57.0, 57.0, 33.0, 21.0, 52.0, 27.0, 60.0, 25.0, 34.0, 22.0, 26.0, 27.0, 29.0, 30.0, 32.0, 18.0, 37.0, 54.0, 50.0, 28.0, 59.0, 24.0, 34.0, 25.0, 25.0, 17.0, 48.0, 45.0, 18.0, 50.0, 36.0, 45.0, 42.0, 37.11793090137039, 23.0, 31.0, 26.0, 57.0, 18.0, 27.0, 41.0, 33.0, 22.0, 38.0, 26.0, 45.0, 68.0, 56.0, 23.0, 45.0, 41.0, 33.0, 22.0, 50.0, 52.0, 35.0, 18.0, 34.0, 51.0, 18.0, 29.0, 34.0, 25.0, 17.0, 26.0, 33.0, 25.0, 31.0, 25.0, 18.0, 45.0, 25.0, 23.0, 55.0, 37.0, 33.0, 27.0, 32.0, 31.0, 26.0, 32.0, 53.0, 19.0, 53.0, 35.0, 64.0, 24.0, 33.0, 55.0, 17.0, 48.0, 21.0, 22.0, 30.0, 34.0, 35.0, 32.0, 22.0, 46.0, 27.0, 18.0, 33.0, 26.0, 27.0, 26.0, 51.0, 63.0, 38.0, 25.0, 39.0, 41.0, 26.0, 30.0, 33.0, 38.0, 24.0, 47.0, 62.0, 30.0, 33.0, 23.0, 39.0, 41.0, 46.0, 36.0, 66.0, 27.0, 40.0, 25.0, 20.0, 43.0, 40.0, 33.0, 34.0, 27.0, 25.0, 37.0, 32.0, 25.0, 38.0, 50.0, 26.0, 70.0, 38.0, 41.0, 25.0, 29.0, 24.0, 40.0, 51.0, 30.0, 28.0, 33.0, 23.0, 23.0, 20.0, 56.0, 36.0, 18.0, 43.0, 16.0, 29.0, 25.0, 34.0, 32.0, 58.0, 36.0, 32.0, 25.0, 59.0, 25.0, 25.0, 42.0, 36.0, 59.0, 21.0, 19.0, 45.0, 42.0, 27.0, 45.0, 51.0, 42.0, 24.0, 39.0, 18.0, 26.0, 35.0, 53.0, 54.0, 36.0, 56.0, 51.0, 45.0, 28.0, 36.0, 73.0, 26.0, 41.0, 59.0, 28.0, 45.0, 27.0, 46.0, 34.0, 30.0, 46.0, 47.0, 32.0, 65.0, 19.0, 22.0, 39.0, 38.0, 68.0, 49.0, 37.0, 33.0, 25.0, 36.0, 30.0, 39.0, 28.0, 28.0, 25.0, 57.0, 33.0, 24.0, 33.0, 56.0, 56.0, 16.0, 47.0, 33.0, 32.0, 21.0, 64.0, 19.0, 26.0, 25.0, 17.0, 55.0, 25.0, 43.0, 39.0, 24.0, 70.0, 16.0, 35.0, 15.0, 23.0, 53.0, 20.0, 27.0, 53.0, 32.0, 57.0, 26.0, 53.0, 32.0, 25.0, 15.0, 59.0, 35.0, 33.0, 32.0, 49.0, 46.0, 25.0, 20.0, 48.0, 24.0, 18.0, 67.0, 26.0, 54.0, 15.0, 27.0, 26.0, 62.0, 24.0, 32.0, 29.0, 16.0, 25.0, 40.0, 39.0, 34.0, 36.0, 24.0, 50.0, 50.0, 37.11793090137039, 30.0, 35.0, 46.0, 51.0, 37.0, 41.0, 41.0, 48.0, 27.0, 29.0, 47.0, 34.0, 48.0, 41.0, 25.0, 24.0, 38.0, 28.0, 47.0, 65.0, 58.0, 33.0, 43.0, 24.0, 37.0, 31.0, 65.0, 59.0, 21.0, 24.0, 37.11793090137039, 23.0, 59.0, 33.0, 34.0, 30.0, 22.0, 37.0, 20.0, 18.0, 24.0, 17.0, 27.0, 51.0, 29.0, 34.0, 18.0, 17.0, 55.0, 44.0, 27.0, 66.0, 45.0, 47.0, 34.0, 37.0, 54.0, 21.0, 21.0, 35.0, 33.0, 45.0, 48.0, 58.0, 30.0, 44.0, 29.0, 25.0, 53.0, 60.0, 19.0, 63.0, 50.0, 35.0, 45.0, 24.0, 36.0, 35.0, 33.0, 66.0, 54.0, 20.0, 40.0, 41.0, 30.0, 32.0, 24.0, 37.0, 28.0, 48.0, 30.0, 64.0, 21.0, 28.0, 36.0, 40.0, 32.0, 50.0, 28.0, 33.0, 37.0, 17.0, 20.0, 34.0, 37.0, 24.0, 47.0, 20.0, 56.0, 24.0, 47.0, 36.0, 35.0, 37.0, 45.0, 41.0, 23.0, 37.0, 23.0, 33.0, 23.0, 37.0, 19.0, 39.0, 53.0, 51.0, 25.0, 45.0, 28.0, 36.0, 32.0, 39.0, 46.0, 53.0, 42.0, 34.0, 29.0, 53.0, 45.0, 24.0, 51.0, 35.0, 27.0, 33.0, 16.0, 30.0, 22.0, 23.0, 50.0, 28.0, 34.0, 24.0, 54.0, 26.0, 39.0, 34.0, 27.0, 48.0, 47.0, 54.0, 33.0, 40.0, 58.0, 55.0, 47.0, 42.0, 29.0, 40.0, 23.0, 23.0, 25.0, 52.0, 43.0, 37.0, 32.0, 70.0, 24.0, 24.0, 38.0, 52.0, 27.0, 22.0, 42.0, 49.0, 59.0, 41.0, 34.0, 31.0, 23.0, 28.0, 33.0, 16.0, 35.0, 26.0, 62.0, 25.0, 25.0, 31.0, 35.0, 46.0, 39.0, 26.0, 37.0, 32.0, 31.0, 48.0, 29.0, 32.0, 28.0, 43.0, 39.0, 37.0, 39.0, 42.0, 33.0, 25.0, 29.0, 45.0, 27.0, 28.0, 57.0, 15.0, 33.0, 35.0, 47.0, 31.0, 36.0, 54.0, 24.0, 35.0, 32.0, 28.0, 45.0, 29.0, 36.0, 23.0, 17.0, 20.0, 33.0, 49.0, 31.0, 35.0, 24.0, 54.0, 41.0, 50.0, 46.0, 45.0, 20.0, 37.0, 34.0, 54.0, 65.0, 28.0, 26.0, 25.0, 32.0, 44.0, 32.0, 42.0, 66.0, 22.0, 51.0, 64.0, 30.0, 71.0, 30.0, 48.0, 56.0, 26.0, 28.0, 19.0, 24.0, 44.0, 28.0, 47.0, 18.0, 26.0, 33.0, 34.0, 62.0, 24.0, 55.0, 22.0, 46.0, 27.0, 32.0, 22.0, 54.0, 32.0, 45.0, 36.0, 37.0, 47.0, 30.0, 31.0, 44.0, 52.0, 16.0, 29.0, 42.0, 31.0, 41.0, 45.0, 50.0, 26.0, 22.0, 58.0, 32.0, 19.0, 25.0, 48.0, 39.0, 31.0, 50.0, 15.0, 48.0, 32.0, 21.0, 37.0, 21.0, 40.0, 33.0, 25.0, 55.0, 53.0, 27.0, 35.0, 25.0, 31.0, 70.0, 40.0, 25.0, 38.0, 26.0, 27.0, 37.11793090137039, 28.0, 40.0, 44.0, 39.0, 24.0, 32.0, 31.0, 50.0, 31.0, 50.0, 45.0, 44.0, 48.0, 39.0, 30.0, 44.0, 28.0, 24.0, 27.0, 34.0, 41.0, 26.0, 38.0, 33.0, 22.0, 40.0, 34.0, 48.0, 37.0, 67.0, 35.0, 29.0, 28.0, 40.0, 31.0, 51.0, 47.0, 52.0, 28.0, 35.0, 25.0, 37.11793090137039, 34.0, 58.0, 24.0, 22.0, 46.0, 61.0, 43.0, 44.0, 35.0, 29.0, 57.0, 42.0, 44.0, 20.0, 32.0, 34.0, 18.0, 31.0, 24.0, 35.0, 34.0, 26.0, 55.0, 38.0, 23.0, 30.0, 44.0, 37.0, 27.0, 43.0, 25.0, 30.0, 35.0, 31.0, 35.0, 37.0, 25.0, 34.0, 33.0, 33.0, 32.0, 34.0, 46.0, 40.0, 27.0, 17.0, 46.0, 50.0, 41.0, 23.0, 33.0, 25.0, 27.0, 39.0, 22.0, 37.0, 27.0, 28.0, 56.0, 71.0, 53.0, 39.0, 56.0, 24.0, 35.0, 30.0, 31.0, 20.0, 35.0, 31.0, 49.0, 54.0, 48.0, 32.0, 35.0, 30.0, 32.0, 31.0, 14.0, 25.0, 32.0, 35.0, 27.0, 23.0, 55.0, 43.0, 62.0, 25.0, 37.11793090137039, 50.0, 19.0, 41.0, 55.0, 19.0, 67.0, 24.0, 44.0, 29.0, 48.0, 22.0, 37.11793090137039, 59.0, 68.0, 25.0, 23.0, 46.0, 25.0, 30.0, 56.0, 24.0, 18.0, 27.0, 26.0, 15.0, 26.0, 32.0, 17.0, 32.0, 43.0, 26.0, 51.0, 39.0, 43.0, 31.0, 22.0, 40.0, 64.0, 30.0, 59.0, 24.0, 32.0, 37.0, 33.0, 42.0, 37.0, 33.0, 62.0, 46.0, 69.0, 24.0, 42.0, 49.0, 35.0, 19.0, 40.0, 34.0, 22.0, 16.0, 69.0, 24.0, 28.0, 51.0, 20.0, 34.0, 27.0, 48.0, 33.0, 6.0, 26.0, 40.0, 46.0, 20.0, 28.0, 30.0, 36.0, 25.0, 28.0, 38.0, 30.0, 31.0, 36.0, 65.0, 42.0, 65.0, 30.0, 49.0, 66.0, 28.0, 27.0, 31.0, 46.0, 28.0, 35.0, 24.0, 17.0, 39.0, 21.0, 21.0, 57.0, 27.0, 62.0, 40.0, 38.0, 27.0, 54.0, 27.0, 51.0, 25.0, 46.0, 20.0, 32.0, 27.0, 21.0, 60.0, 44.0, 23.0, 31.0, 43.0, 39.0, 54.0, 22.0, 37.0, 42.0, 22.0, 42.0, 32.0, 30.0, 53.0, 27.0, 72.0, 29.0, 34.0, 26.0, 22.0, 16.0, 31.0, 58.0, 23.0, 44.0, 46.0, 61.0, 17.0, 46.0, 35.0, 36.0, 28.0, 37.0, 47.0, 35.0, 40.0, 24.0, 18.0, 38.0, 54.0, 27.0, 62.0, 66.0, 47.0, 19.0, 27.0, 23.0, 42.0, 43.0, 42.0, 45.0, 21.0, 43.0, 45.0, 33.0, 38.0, 33.0, 46.0, 52.0, 46.0, 40.0, 20.0, 39.0, 35.0, 31.0, 32.0, 56.0, 37.0, 32.0, 28.0, 26.0, 27.0, 37.11793090137039, 43.0, 49.0, 16.0, 35.0, 19.0, 59.0, 29.0, 37.0, 22.0, 40.0, 35.0, 39.0, 36.0, 25.0, 41.0, 63.0, 48.0, 42.0, 39.0, 33.0, 52.0, 48.0, 30.0, 29.0, 27.0, 41.0, 57.0, 27.0, 58.0, 59.0, 39.0, 28.0, 28.0, 23.0, 55.0, 33.0, 23.0, 45.0, 37.0, 21.0, 27.0, 39.0, 37.0, 22.0, 26.0, 27.0, 37.0, 58.0, 62.0, 25.0, 36.0, 37.11793090137039, 27.0, 37.0, 25.0, 40.0, 22.0, 29.0, 20.0, 33.0, 48.0, 47.0, 40.0, 29.0, 29.0, 44.0, 36.0, 48.0, 49.0, 38.0, 41.0, 37.11793090137039, 28.0, 33.0, 44.0, 65.0, 35.0, 25.0, 40.0, 36.0, 55.0, 19.0, 70.0, 37.0, 53.0, 46.0, 29.0, 27.0, 32.0, 27.0, 38.0, 20.0, 45.0, 32.0, 48.0, 57.0, 34.0, 16.0, 47.0, 61.0, 32.0, 31.0, 46.0, 27.0, 31.0, 26.0, 31.0, 27.0, 49.0, 26.0, 28.0, 62.0, 50.0, 23.0, 40.0, 50.0, 50.0, 27.0, 35.0, 32.0, 56.0, 20.0, 56.0, 39.0, 47.0, 25.0, 21.0, 18.0, 36.0, 35.0, 29.0, 20.0, 30.0, 40.0, 48.0, 23.0, 42.0, 20.0, 25.0, 28.0, 34.0, 41.0, 24.0, 29.0, 33.0, 44.0, 31.0, 26.0, 51.0, 64.0, 29.0, 61.0, 44.0, 39.0, 35.0, 39.0, 60.0, 42.0, 27.0, 21.0, 33.0, 60.0, 24.0, 41.0, 41.0, 34.0, 23.0, 38.0, 58.0, 49.0, 27.0, 34.0, 34.0, 44.0, 30.0, 40.0, 27.0, 26.0, 18.0, 59.0, 56.0, 22.0, 34.0, 23.0, 36.0, 48.0, 33.0, 24.0, 25.0, 20.0, 45.0, 29.0, 34.0, 23.0, 29.0, 44.0, 30.0, 28.0, 71.0, 25.0, 61.0, 39.0, 50.0, 37.11793090137039, 23.0, 39.0, 45.0, 34.0, 31.0, 55.0, 39.0, 32.0, 44.0, 24.0, 36.0, 41.0, 25.0, 39.0, 40.0, 32.0, 45.0, 31.0, 32.0, 48.0, 49.0, 48.0, 18.0, 48.0, 25.0, 27.0, 37.0, 44.0, 27.0, 41.0, 42.0, 36.0, 37.0, 56.0, 36.0, 46.0, 26.0, 41.0, 38.0, 42.0, 47.0, 26.0, 64.0, 49.0, 44.0, 48.0, 27.0, 67.0, 24.0, 26.0, 28.0, 21.0, 24.0, 21.0, 73.0, 39.0, 32.0, 38.0, 32.0, 26.0, 55.0, 50.0, 49.0, 48.0, 65.0, 37.0, 45.0, 33.0, 46.0, 33.0, 33.0, 51.0, 52.0, 24.0, 55.0, 28.0, 36.0, 24.0, 20.0, 54.0, 53.0, 36.0, 24.0, 34.0, 59.0, 34.0, 29.0, 24.0, 30.0, 36.0, 36.0, 58.0, 47.0, 49.0, 31.0, 25.0, 37.11793090137039, 30.0, 33.0, 29.0, 31.0, 51.0, 42.0, 67.0, 23.0, 34.0, 51.0, 19.0, 29.0, 23.0, 46.0, 42.0, 21.0, 55.0, 37.11793090137039, 43.0, 32.0, 34.0, 40.0, 55.0, 20.0, 24.0, 43.0, 56.0, 47.0, 33.0, 20.0, 28.0, 50.0, 36.0, 47.0, 36.0, 49.0, 34.0, 41.0, 29.0, 34.0, 34.0, 22.0, 26.0, 32.0, 44.0, 21.0, 29.0, 18.0, 33.0, 28.0, 37.11793090137039, 40.0, 40.0, 37.0, 47.0, 33.0, 44.0, 65.0, 20.0, 17.0, 55.0, 33.0, 44.0, 37.0, 32.0, 31.0, 20.0, 30.0, 25.0, 47.0, 48.0, 32.0, 18.0, 29.0, 30.0, 39.0, 36.0, 36.0, 54.0, 27.0, 45.0, 19.0, 36.0, 33.0, 56.0, 33.0, 60.0, 26.0, 52.0, 40.0, 33.0, 41.0, 32.0, 34.0, 26.0, 62.0, 33.0, 55.0, 38.0, 43.0, 38.0, 27.0, 52.0, 37.0, 34.0, 41.0, 40.0, 53.0, 21.0, 34.0, 22.0, 25.0, 16.0, 37.0, 68.0, 25.0, 34.0, 23.0, 25.0, 57.0, 27.0, 51.0, 30.0, 33.0, 37.11793090137039, 19.0, 22.0, 37.0, 19.0, 33.0, 38.0, 45.0, 39.0, 21.0, 56.0, 27.0, 50.0, 16.0, 18.0, 38.0, 32.0, 33.0, 71.0, 30.0, 39.0, 19.0, 44.0, 54.0, 29.0, 37.11793090137039, 56.0, 64.0, 25.0, 18.0, 36.0, 24.0, 30.0, 53.0, 60.0, 32.0, 25.0, 44.0, 32.0, 33.0, 37.11793090137039, 35.0, 23.0, 27.0, 53.0, 35.0, 41.0, 18.0, 34.0, 49.0, 31.0, 29.0, 33.0, 38.0, 43.0, 29.0, 68.0, 62.0, 39.0, 59.0, 24.0, 70.0, 42.0, 26.0, 24.0, 48.0, 54.0, 48.0, 37.0, 40.0, 28.0, 43.0, 35.0, 21.0, 40.0, 32.0, 48.0, 31.0, 37.11793090137039, 58.0, 30.0, 21.0, 15.0, 30.0, 28.0, 21.0, 33.0, 37.11793090137039, 36.0, 38.0, 34.0, 23.0, 44.0, 20.0, 41.0, 18.0, 29.0, 37.0, 41.0, 25.0, 20.0, 34.0, 37.0, 18.0, 72.0, 17.0, 45.0, 49.0, 64.0, 36.0, 61.0, 24.0, 70.0, 40.0, 21.0, 27.0, 23.0, 33.0, 45.0, 19.0, 28.0, 63.0, 37.11793090137039, 39.0, 57.0, 32.0, 38.0, 46.0, 31.0, 40.0, 31.0, 50.0, 29.0, 25.0, 31.0, 23.0, 54.0, 44.0, 43.0, 37.0, 55.0, 40.0, 26.0, 29.0, 29.0, 42.0, 20.0, 34.0, 41.0, 29.0, 19.0, 32.0, 23.0, 41.0, 37.0, 24.0, 54.0, 58.0, 40.0, 27.0, 40.0, 23.0, 33.0, 26.0, 36.0, 38.0, 25.0, 31.0, 48.0, 43.0, 36.0, 39.0, 22.0, 24.0, 36.0, 25.0, 30.0, 39.0, 49.0, 21.0, 31.0, 22.0, 27.0, 26.0, 17.0, 17.0, 22.0, 41.0, 58.0, 29.0, 19.0, 18.0, 61.0, 18.0, 23.0, 38.0, 19.0, 63.0, 21.0, 25.0, 35.0, 50.0, 34.0, 37.11793090137039, 26.0, 61.0, 18.0, 37.0, 27.0, 24.0, 37.0, 28.0, 44.0, 30.0, 30.0, 34.0, 27.0, 28.0, 42.0, 32.0, 24.0, 17.0, 26.0, 35.0, 25.0, 33.0, 25.0, 29.0, 18.0, 19.0, 39.0, 61.0, 36.0, 72.0, 48.0, 34.0, 36.0, 33.0, 30.0, 61.0, 41.0, 52.0, 26.0, 37.11793090137039, 39.0, 36.0, 47.0, 37.11793090137039, 25.0, 63.0, 24.0, 38.0, 22.0, 59.0, 29.0, 18.0, 29.0, 25.0, 48.0, 60.0, 27.0, 65.0, 41.0, 33.0, 33.0, 22.0, 52.0, 42.0, 48.0, 24.0, 21.0, 20.0, 59.0, 46.0, 23.0, 32.0, 19.0, 64.0, 35.0, 41.0, 42.0, 35.0, 33.0, 32.0, 37.0, 37.0, 65.0, 30.0, 43.0, 18.0, 27.0, 41.0, 41.0, 33.0, 53.0, 42.0, 46.0, 51.0, 16.0, 41.0, 24.0, 23.0, 50.0, 41.0, 23.0, 33.0, 25.0, 30.0, 58.0, 47.0, 22.0, 27.0, 29.0, 43.0, 18.0, 19.0, 37.0, 42.0, 35.0, 50.0, 60.0, 35.0, 47.0, 37.11793090137039, 31.0, 24.0, 27.0, 27.0, 23.0, 57.0, 56.0, 36.0, 37.11793090137039, 37.11793090137039, 24.0, 34.0, 17.0, 21.0, 35.0, 34.0, 56.0, 35.0, 46.0, 42.0, 49.0, 44.0, 45.0, 36.0, 45.0, 34.0, 26.0, 28.0, 35.0, 20.0, 33.0, 39.0, 63.0, 27.0, 33.0, 27.0, 31.0, 33.0, 39.0, 27.0, 32.0, 29.0, 28.0, 50.0, 55.0, 42.0, 36.0, 38.0, 38.0, 35.0, 42.0, 70.0, 29.0, 26.0, 20.0, 30.0, 19.0, 48.0, 58.0, 38.0, 28.0, 34.0, 45.0, 18.0, 25.0, 38.0, 33.0, 39.0, 58.0, 48.0, 14.0, 18.0, 22.0, 46.0, 37.11793090137039, 37.11793090137039, 57.0, 32.0, 31.0, 64.0, 35.0, 42.0, 30.0, 26.0, 37.0, 21.0, 20.0, 46.0, 37.11793090137039, 20.0, 46.0, 24.0, 26.0, 60.0, 25.0, 29.0, 58.0, 59.0, 46.0, 55.0, 27.0, 30.0, 45.0, 51.0, 27.0, 47.0, 52.0, 45.0, 47.0, 68.0, 40.0, 18.0, 35.0, 44.0, 31.0, 20.0, 43.0, 25.0, 38.0, 34.0, 58.0, 38.0, 29.0, 40.0, 49.0, 25.0, 21.0, 57.0, 28.0, 25.0, 58.0, 34.0, 34.0, 24.0, 32.0, 58.0, 20.0, 19.0, 46.0, 28.0, 47.0, 47.0, 34.0, 37.11793090137039, 45.0, 17.0, 34.0, 48.0, 32.0, 20.0, 31.0, 16.0, 24.0, 39.0, 26.0, 30.0, 36.0, 28.0, 21.0, 36.0, 28.0, 24.0, 29.0, 44.0, 41.0, 38.0, 40.0, 20.0, 27.0, 51.0, 48.0, 40.0, 29.0, 34.0, 20.0, 47.0, 29.0, 33.0, 46.0, 35.0, 36.0, 63.0, 27.0, 17.0, 22.0, 21.0, 31.0, 56.0, 32.0, 25.0, 47.0, 37.11793090137039, 23.0, 34.0, 51.0, 35.0, 46.0, 59.0, 30.0, 34.0, 44.0, 31.0, 51.0, 34.0, 45.0, 32.0, 31.0, 41.0, 29.0, 47.0, 30.0, 27.0, 38.0, 33.0, 25.0, 47.0, 49.0, 33.0, 36.0, 22.0, 29.0, 52.0, 61.0, 29.0, 37.0, 26.0, 19.0, 45.0, 22.0, 57.0, 46.0, 27.0, 26.0, 30.0, 18.0, 25.0, 51.0, 40.0, 47.0, 38.0, 39.0, 30.0, 42.0, 25.0, 22.0, 30.0, 33.0, 24.0, 31.0, 25.0, 28.0, 19.0, 31.0, 48.0, 53.0, 50.0, 55.0, 37.11793090137039, 37.0, 30.0, 36.0, 24.0, 35.0, 42.0, 37.0, 28.0, 32.0, 33.0, 27.0, 21.0, 47.0, 57.0, 34.0, 34.0, 30.0, 29.0, 28.0, 39.0, 54.0, 27.0, 32.0, 32.0, 47.0, 33.0, 42.0, 37.11793090137039, 24.0, 42.0, 34.0, 46.0, 40.0, 30.0, 42.0, 30.0, 63.0, 18.0, 29.0, 42.0, 32.0, 50.0, 29.0, 29.0, 51.0, 23.0, 47.0, 45.0, 42.0, 26.0, 29.0, 49.0, 17.0, 37.11793090137039, 45.0, 51.0, 37.0, 28.0, 52.0, 37.0, 37.0, 25.0, 35.0, 35.0, 61.0, 33.0, 34.0, 59.0, 32.0, 49.0, 31.0, 29.0, 25.0, 26.0, 37.11793090137039, 39.0, 26.0, 36.0, 45.0, 45.0, 54.0, 43.0, 37.11793090137039, 30.0, 37.11793090137039, 58.0, 39.0, 40.0, 36.0, 27.0, 20.0, 17.0, 59.0, 47.0, 45.0, 34.0, 46.0, 26.0, 21.0, 29.0, 33.0, 47.0, 22.0, 41.0, 28.0, 56.0, 41.0, 35.0, 59.0, 30.0, 49.0, 41.0, 21.0, 62.0, 32.0, 22.0, 58.0, 32.0, 26.0, 35.0, 27.0, 35.0, 23.0, 59.0, 23.0, 43.0, 41.0, 56.0, 45.0, 28.0, 37.11793090137039, 54.0, 39.0, 37.11793090137039, 41.0, 27.0, 70.0, 37.11793090137039, 35.0, 26.0, 58.0, 46.0, 39.0, 33.0, 20.0, 38.0, 41.0, 32.0, 37.11793090137039, 24.0, 19.0, 27.0, 40.0, 61.0, 20.0, 35.0, 17.0, 22.0, 45.0, 20.0, 18.0, 28.0, 38.0, 53.0, 31.0, 48.0, 20.0, 35.0, 22.0, 18.0, 33.0, 38.0, 26.0, 41.0, 29.0, 19.0, 61.0, 34.0, 35.0, 43.0, 50.0, 32.0, 50.0, 54.0, 35.0, 33.0, 18.0, 50.0, 41.0, 37.0, 19.0, 40.0, 61.0, 61.0, 22.0, 52.0, 23.0, 67.0, 44.0, 23.0, 39.0, 53.0, 39.0, 26.0, 38.0, 49.0, 34.0, 47.0, 34.0, 58.0, 17.0, 21.0, 37.0, 43.0, 61.0, 28.0, 41.0, 23.0, 36.0, 23.0, 26.0, 32.0, 62.0, 33.0, 32.0, 69.0, 35.0, 46.0, 46.0, 22.0, 20.0, 30.0, 49.0, 43.0, 52.0, 56.0, 36.0, 40.0, 52.0, 35.0, 35.0, 53.0, 23.0, 19.0, 41.0, 39.0, 28.0, 28.0, 37.11793090137039, 53.0, 27.0, 31.0, 38.0, 38.0, 41.0, 49.0, 56.0, 62.0, 31.0, 37.0, 37.11793090137039, 28.0, 46.0, 21.0, 30.0, 36.0, 48.0, 34.0, 45.0, 19.0, 32.0, 32.0, 24.0, 65.0, 29.0, 49.0, 19.0, 56.0, 39.0, 43.0, 57.0, 49.0, 18.0, 27.0, 52.0, 37.0, 45.0, 49.0, 38.0, 31.0, 51.0, 37.11793090137039, 51.0, 20.0, 26.0, 25.0, 37.11793090137039, 62.0, 27.0, 33.0, 39.0, 18.0, 27.0, 50.0, 57.0, 29.0, 39.0, 31.0, 34.0, 52.0, 33.0, 37.0, 52.0, 62.0, 30.0, 28.0, 51.0, 23.0, 36.0, 37.0, 49.0, 49.0, 35.0, 17.0, 30.0, 34.0, 46.0, 29.0, 28.0, 43.0, 42.0, 30.0, 24.0, 27.0, 41.0, 47.0, 26.0, 20.0, 18.0, 37.11793090137039, 29.0, 35.0, 31.0, 54.0, 33.0, 28.0, 31.0, 53.0, 33.0, 37.0, 57.0, 36.0, 39.0, 43.0, 44.0, 33.0, 49.0, 18.0, 21.0, 57.0, 29.0, 58.0, 63.0, 28.0, 67.0, 64.0, 32.0, 49.0, 28.0, 31.0, 20.0, 27.0, 38.0, 37.0, 36.0, 35.0, 50.0, 32.0, 34.0, 24.0, 37.0, 33.0, 37.0, 55.0, 31.0, 54.0, 37.0, 48.0, 28.0, 31.0, 48.0, 58.0, 19.0, 28.0, 21.0, 57.0, 17.0, 22.0, 26.0, 31.0, 61.0, 54.0, 28.0, 30.0, 30.0, 28.0, 26.0, 28.0, 21.0, 31.0, 27.0, 34.0, 22.0, 29.0, 38.0, 51.0, 34.0, 30.0, 33.0, 21.0, 39.0, 37.0, 34.0, 47.0, 29.0, 29.0, 44.0, 53.0, 45.0, 19.0, 40.0, 33.0, 45.0, 40.0, 27.0, 63.0, 50.0, 25.0, 39.0, 42.0, 25.0, 24.0, 37.11793090137039, 37.11793090137039, 62.0, 34.0, 33.0, 56.0, 22.0, 46.0, 41.0, 38.0, 22.0, 42.0, 29.0, 56.0, 32.0, 31.0, 21.0, 31.0, 48.0, 58.0, 32.0, 45.0, 37.0, 20.0, 34.0, 31.0, 26.0, 32.0, 66.0, 37.0, 38.0, 44.0, 28.0, 22.0, 59.0, 20.0, 39.0, 30.0, 27.0, 37.11793090137039, 37.0, 52.0, 35.0, 33.0, 27.0, 27.0, 41.0, 28.0, 26.0, 37.11793090137039, 34.0, 34.0, 38.0, 32.0, 50.0, 55.0, 51.0, 18.0, 42.0, 36.0, 37.0, 28.0, 24.0, 34.0, 22.0, 42.0, 48.0, 51.0, 40.0, 34.0, 30.0, 31.0, 54.0, 60.0, 40.0, 37.11793090137039, 40.0, 68.0, 68.0, 60.0, 16.0, 25.0, 20.0, 21.0, 38.0, 28.0, 18.0, 37.11793090137039, 26.0, 31.0, 58.0, 31.0, 41.0, 41.0, 41.0, 23.0, 17.0, 35.0, 65.0, 51.0, 47.0, 42.0, 42.0, 31.0, 23.0, 50.0, 47.0, 66.0, 55.0, 68.0, 31.0, 24.0, 30.0, 34.0, 23.0, 43.0, 22.0, 22.0, 42.0, 65.0, 18.0, 23.0, 52.0, 40.0, 27.0, 34.0, 25.0, 28.0, 37.11793090137039, 27.0, 41.0, 27.0, 38.0, 29.0, 47.0, 28.0, 38.0, 21.0, 44.0, 61.0, 25.0, 40.0, 26.0, 57.0, 57.0, 24.0, 46.0, 38.0, 24.0, 34.0, 65.0, 60.0, 59.0, 23.0, 35.0, 35.0, 16.0, 37.11793090137039, 42.0, 43.0, 52.0, 31.0, 27.0, 31.0, 34.0, 29.0, 34.0, 37.11793090137039, 18.0, 51.0, 25.0, 28.0, 37.0, 37.11793090137039, 23.0, 57.0, 49.0, 24.0, 20.0, 25.0, 26.0, 26.0, 41.0, 31.0, 30.0, 25.0, 57.0, 17.0, 27.0, 30.0, 18.0, 50.0, 21.0, 28.0, 28.0, 33.0, 59.0, 34.0, 37.0, 30.0, 47.0, 34.0, 24.0, 25.0, 37.11793090137039, 47.0, 49.0, 31.0, 47.0, 52.0, 29.0, 45.0, 51.0, 55.0, 35.0, 50.0, 31.0, 47.0, 35.0, 66.0, 19.0, 19.0, 43.0, 57.0, 31.0, 41.0, 39.0, 24.0, 20.0, 32.0, 31.0, 22.0, 60.0, 40.0, 37.0, 34.0, 22.0, 30.0, 26.0, 29.0, 32.0, 32.0, 27.0, 31.0, 35.0, 19.0, 34.0, 32.0, 43.0, 22.0, 43.0, 27.0, 39.0, 37.0, 20.0, 34.0, 32.0, 15.0, 52.0, 53.0, 24.0, 41.0, 17.0, 44.0, 56.0, 23.0, 32.0, 26.0, 41.0, 56.0, 33.0, 37.0, 41.0, 38.0, 67.0, 45.0, 48.0, 31.0, 47.0, 40.0, 40.0, 34.0, 51.0, 33.0, 25.0, 41.0, 19.0, 21.0, 58.0, 63.0, 37.11793090137039, 58.0, 16.0, 31.0, 33.0, 40.0, 34.0, 29.0, 27.0, 23.0, 38.0, 17.0, 40.0, 36.0, 27.0, 28.0, 20.0, 38.0, 16.0, 30.0, 30.0, 30.0, 36.0, 33.0, 39.0, 22.0, 49.0, 45.0, 45.0, 30.0, 30.0, 31.0, 73.0, 39.0, 37.0, 37.11793090137039, 31.0, 25.0, 24.0, 27.0, 37.11793090137039, 32.0, 43.0, 29.0, 31.0, 57.0, 37.0, 29.0, 47.0, 44.0, 38.0, 32.0, 26.0, 21.0, 47.0, 30.0, 62.0, 41.0, 50.0, 37.11793090137039, 31.0, 30.0, 32.0, 20.0, 38.0, 25.0, 47.0, 19.0, 35.0, 58.0, 18.0, 42.0, 39.0, 61.0, 51.0, 28.0, 33.0, 47.0, 39.0, 31.0, 18.0, 23.0, 46.0, 50.0, 34.0, 32.0, 45.0, 31.0, 19.0, 53.0, 55.0, 32.0, 46.0, 26.0, 46.0, 22.0, 38.0, 44.0, 37.0, 52.0, 29.0, 19.0, 66.0, 40.0, 30.0, 69.0, 27.0, 62.0, 37.11793090137039, 39.0, 67.0, 54.0, 29.0, 33.0, 31.0, 38.0, 28.0, 45.0, 59.0, 17.0, 19.0, 36.0, 39.0, 37.11793090137039, 33.0, 31.0, 29.0, 51.0, 35.0, 36.0, 31.0, 39.0, 58.0, 39.0, 24.0, 48.0, 31.0, 37.11793090137039, 43.0, 33.0, 24.0, 40.0, 28.0, 24.0, 27.0, 40.0, 35.0, 42.0, 42.0, 24.0, 59.0, 61.0, 26.0, 32.0, 50.0, 38.0, 29.0, 27.0, 43.0, 21.0, 36.0, 24.0, 32.0, 26.0, 54.0, 44.0, 69.0, 45.0, 26.0, 43.0, 38.0, 21.0, 23.0, 56.0, 33.0, 40.0, 21.0, 20.0, 21.0, 47.0, 38.0, 31.0, 51.0, 19.0, 21.0, 48.0, 42.0, 30.0, 47.0, 57.0, 27.0, 50.0, 37.0, 24.0, 24.0, 30.0, 49.0, 47.0, 31.0, 33.0, 29.0, 42.0, 38.0, 25.0, 39.0, 64.0, 28.0, 32.0, 69.0, 29.0, 45.0, 40.0, 60.0, 22.0, 28.0, 38.0, 28.0, 37.0, 22.0, 42.0, 18.0, 38.0, 58.0, 50.0, 31.0, 35.0, 53.0, 31.0, 35.0, 22.0, 37.11793090137039, 32.0, 39.0, 44.0, 46.0, 49.0, 32.0, 53.0, 25.0, 36.0, 22.0, 33.0, 39.0, 44.0, 25.0, 36.0, 42.0, 24.0, 22.0, 35.0, 38.0, 28.0, 26.0, 62.0, 27.0, 23.0, 25.0, 22.0, 31.0], \"xaxis\": \"x\", \"yaxis\": \"y\"}],\n",
              "                        {\"barmode\": \"relative\", \"legend\": {\"tracegroupgap\": 0}, \"margin\": {\"t\": 60}, \"template\": {\"data\": {\"bar\": [{\"error_x\": {\"color\": \"#2a3f5f\"}, \"error_y\": {\"color\": \"#2a3f5f\"}, \"marker\": {\"line\": {\"color\": \"#E5ECF6\", \"width\": 0.5}}, \"type\": \"bar\"}], \"barpolar\": [{\"marker\": {\"line\": {\"color\": \"#E5ECF6\", \"width\": 0.5}}, \"type\": \"barpolar\"}], \"carpet\": [{\"aaxis\": {\"endlinecolor\": \"#2a3f5f\", \"gridcolor\": \"white\", \"linecolor\": \"white\", \"minorgridcolor\": \"white\", \"startlinecolor\": \"#2a3f5f\"}, \"baxis\": {\"endlinecolor\": \"#2a3f5f\", \"gridcolor\": \"white\", \"linecolor\": \"white\", \"minorgridcolor\": \"white\", \"startlinecolor\": \"#2a3f5f\"}, \"type\": \"carpet\"}], \"choropleth\": [{\"colorbar\": {\"outlinewidth\": 0, \"ticks\": \"\"}, \"type\": \"choropleth\"}], \"contour\": [{\"colorbar\": {\"outlinewidth\": 0, \"ticks\": \"\"}, \"colorscale\": [[0.0, \"#0d0887\"], [0.1111111111111111, \"#46039f\"], [0.2222222222222222, \"#7201a8\"], [0.3333333333333333, \"#9c179e\"], [0.4444444444444444, \"#bd3786\"], [0.5555555555555556, \"#d8576b\"], [0.6666666666666666, \"#ed7953\"], [0.7777777777777778, \"#fb9f3a\"], [0.8888888888888888, \"#fdca26\"], [1.0, \"#f0f921\"]], \"type\": \"contour\"}], \"contourcarpet\": [{\"colorbar\": {\"outlinewidth\": 0, \"ticks\": \"\"}, \"type\": \"contourcarpet\"}], \"heatmap\": [{\"colorbar\": {\"outlinewidth\": 0, \"ticks\": \"\"}, \"colorscale\": [[0.0, \"#0d0887\"], [0.1111111111111111, \"#46039f\"], [0.2222222222222222, \"#7201a8\"], [0.3333333333333333, \"#9c179e\"], [0.4444444444444444, \"#bd3786\"], [0.5555555555555556, \"#d8576b\"], [0.6666666666666666, \"#ed7953\"], [0.7777777777777778, \"#fb9f3a\"], [0.8888888888888888, \"#fdca26\"], [1.0, \"#f0f921\"]], \"type\": \"heatmap\"}], \"heatmapgl\": [{\"colorbar\": {\"outlinewidth\": 0, \"ticks\": \"\"}, \"colorscale\": [[0.0, \"#0d0887\"], [0.1111111111111111, \"#46039f\"], [0.2222222222222222, \"#7201a8\"], [0.3333333333333333, \"#9c179e\"], [0.4444444444444444, \"#bd3786\"], [0.5555555555555556, \"#d8576b\"], [0.6666666666666666, \"#ed7953\"], [0.7777777777777778, \"#fb9f3a\"], [0.8888888888888888, \"#fdca26\"], [1.0, \"#f0f921\"]], \"type\": \"heatmapgl\"}], \"histogram\": [{\"marker\": {\"colorbar\": {\"outlinewidth\": 0, \"ticks\": \"\"}}, \"type\": \"histogram\"}], \"histogram2d\": [{\"colorbar\": {\"outlinewidth\": 0, \"ticks\": \"\"}, \"colorscale\": [[0.0, \"#0d0887\"], [0.1111111111111111, \"#46039f\"], [0.2222222222222222, \"#7201a8\"], [0.3333333333333333, \"#9c179e\"], [0.4444444444444444, \"#bd3786\"], [0.5555555555555556, \"#d8576b\"], [0.6666666666666666, \"#ed7953\"], [0.7777777777777778, \"#fb9f3a\"], [0.8888888888888888, \"#fdca26\"], [1.0, \"#f0f921\"]], \"type\": \"histogram2d\"}], \"histogram2dcontour\": [{\"colorbar\": {\"outlinewidth\": 0, \"ticks\": \"\"}, \"colorscale\": [[0.0, \"#0d0887\"], [0.1111111111111111, \"#46039f\"], [0.2222222222222222, \"#7201a8\"], [0.3333333333333333, \"#9c179e\"], [0.4444444444444444, \"#bd3786\"], [0.5555555555555556, \"#d8576b\"], [0.6666666666666666, \"#ed7953\"], [0.7777777777777778, \"#fb9f3a\"], [0.8888888888888888, \"#fdca26\"], [1.0, \"#f0f921\"]], \"type\": \"histogram2dcontour\"}], \"mesh3d\": [{\"colorbar\": {\"outlinewidth\": 0, \"ticks\": \"\"}, \"type\": \"mesh3d\"}], \"parcoords\": [{\"line\": {\"colorbar\": {\"outlinewidth\": 0, \"ticks\": \"\"}}, \"type\": \"parcoords\"}], \"pie\": [{\"automargin\": true, \"type\": \"pie\"}], \"scatter\": [{\"marker\": {\"colorbar\": {\"outlinewidth\": 0, \"ticks\": \"\"}}, \"type\": \"scatter\"}], \"scatter3d\": [{\"line\": {\"colorbar\": {\"outlinewidth\": 0, \"ticks\": \"\"}}, \"marker\": {\"colorbar\": {\"outlinewidth\": 0, \"ticks\": \"\"}}, \"type\": \"scatter3d\"}], \"scattercarpet\": [{\"marker\": {\"colorbar\": {\"outlinewidth\": 0, \"ticks\": \"\"}}, \"type\": \"scattercarpet\"}], \"scattergeo\": [{\"marker\": {\"colorbar\": {\"outlinewidth\": 0, \"ticks\": \"\"}}, \"type\": \"scattergeo\"}], \"scattergl\": [{\"marker\": {\"colorbar\": {\"outlinewidth\": 0, \"ticks\": \"\"}}, \"type\": \"scattergl\"}], \"scattermapbox\": [{\"marker\": {\"colorbar\": {\"outlinewidth\": 0, \"ticks\": \"\"}}, \"type\": \"scattermapbox\"}], \"scatterpolar\": [{\"marker\": {\"colorbar\": {\"outlinewidth\": 0, \"ticks\": \"\"}}, \"type\": \"scatterpolar\"}], \"scatterpolargl\": [{\"marker\": {\"colorbar\": {\"outlinewidth\": 0, \"ticks\": \"\"}}, \"type\": \"scatterpolargl\"}], \"scatterternary\": [{\"marker\": {\"colorbar\": {\"outlinewidth\": 0, \"ticks\": \"\"}}, \"type\": \"scatterternary\"}], \"surface\": [{\"colorbar\": {\"outlinewidth\": 0, \"ticks\": \"\"}, \"colorscale\": [[0.0, \"#0d0887\"], [0.1111111111111111, \"#46039f\"], [0.2222222222222222, \"#7201a8\"], [0.3333333333333333, \"#9c179e\"], [0.4444444444444444, \"#bd3786\"], [0.5555555555555556, \"#d8576b\"], [0.6666666666666666, \"#ed7953\"], [0.7777777777777778, \"#fb9f3a\"], [0.8888888888888888, \"#fdca26\"], [1.0, \"#f0f921\"]], \"type\": \"surface\"}], \"table\": [{\"cells\": {\"fill\": {\"color\": \"#EBF0F8\"}, \"line\": {\"color\": \"white\"}}, \"header\": {\"fill\": {\"color\": \"#C8D4E3\"}, \"line\": {\"color\": \"white\"}}, \"type\": \"table\"}]}, \"layout\": {\"annotationdefaults\": {\"arrowcolor\": \"#2a3f5f\", \"arrowhead\": 0, \"arrowwidth\": 1}, \"coloraxis\": {\"colorbar\": {\"outlinewidth\": 0, \"ticks\": \"\"}}, \"colorscale\": {\"diverging\": [[0, \"#8e0152\"], [0.1, \"#c51b7d\"], [0.2, \"#de77ae\"], [0.3, \"#f1b6da\"], [0.4, \"#fde0ef\"], [0.5, \"#f7f7f7\"], [0.6, \"#e6f5d0\"], [0.7, \"#b8e186\"], [0.8, \"#7fbc41\"], [0.9, \"#4d9221\"], [1, \"#276419\"]], \"sequential\": [[0.0, \"#0d0887\"], [0.1111111111111111, \"#46039f\"], [0.2222222222222222, \"#7201a8\"], [0.3333333333333333, \"#9c179e\"], [0.4444444444444444, \"#bd3786\"], [0.5555555555555556, \"#d8576b\"], [0.6666666666666666, \"#ed7953\"], [0.7777777777777778, \"#fb9f3a\"], [0.8888888888888888, \"#fdca26\"], [1.0, \"#f0f921\"]], \"sequentialminus\": [[0.0, \"#0d0887\"], [0.1111111111111111, \"#46039f\"], [0.2222222222222222, \"#7201a8\"], [0.3333333333333333, \"#9c179e\"], [0.4444444444444444, \"#bd3786\"], [0.5555555555555556, \"#d8576b\"], [0.6666666666666666, \"#ed7953\"], [0.7777777777777778, \"#fb9f3a\"], [0.8888888888888888, \"#fdca26\"], [1.0, \"#f0f921\"]]}, \"colorway\": [\"#636efa\", \"#EF553B\", \"#00cc96\", \"#ab63fa\", \"#FFA15A\", \"#19d3f3\", \"#FF6692\", \"#B6E880\", \"#FF97FF\", \"#FECB52\"], \"font\": {\"color\": \"#2a3f5f\"}, \"geo\": {\"bgcolor\": \"white\", \"lakecolor\": \"white\", \"landcolor\": \"#E5ECF6\", \"showlakes\": true, \"showland\": true, \"subunitcolor\": \"white\"}, \"hoverlabel\": {\"align\": \"left\"}, \"hovermode\": \"closest\", \"mapbox\": {\"style\": \"light\"}, \"paper_bgcolor\": \"white\", \"plot_bgcolor\": \"#E5ECF6\", \"polar\": {\"angularaxis\": {\"gridcolor\": \"white\", \"linecolor\": \"white\", \"ticks\": \"\"}, \"bgcolor\": \"#E5ECF6\", \"radialaxis\": {\"gridcolor\": \"white\", \"linecolor\": \"white\", \"ticks\": \"\"}}, \"scene\": {\"xaxis\": {\"backgroundcolor\": \"#E5ECF6\", \"gridcolor\": \"white\", \"gridwidth\": 2, \"linecolor\": \"white\", \"showbackground\": true, \"ticks\": \"\", \"zerolinecolor\": \"white\"}, \"yaxis\": {\"backgroundcolor\": \"#E5ECF6\", \"gridcolor\": \"white\", \"gridwidth\": 2, \"linecolor\": \"white\", \"showbackground\": true, \"ticks\": \"\", \"zerolinecolor\": \"white\"}, \"zaxis\": {\"backgroundcolor\": \"#E5ECF6\", \"gridcolor\": \"white\", \"gridwidth\": 2, \"linecolor\": \"white\", \"showbackground\": true, \"ticks\": \"\", \"zerolinecolor\": \"white\"}}, \"shapedefaults\": {\"line\": {\"color\": \"#2a3f5f\"}}, \"ternary\": {\"aaxis\": {\"gridcolor\": \"white\", \"linecolor\": \"white\", \"ticks\": \"\"}, \"baxis\": {\"gridcolor\": \"white\", \"linecolor\": \"white\", \"ticks\": \"\"}, \"bgcolor\": \"#E5ECF6\", \"caxis\": {\"gridcolor\": \"white\", \"linecolor\": \"white\", \"ticks\": \"\"}}, \"title\": {\"x\": 0.05}, \"xaxis\": {\"automargin\": true, \"gridcolor\": \"white\", \"linecolor\": \"white\", \"ticks\": \"\", \"title\": {\"standoff\": 15}, \"zerolinecolor\": \"white\", \"zerolinewidth\": 2}, \"yaxis\": {\"automargin\": true, \"gridcolor\": \"white\", \"linecolor\": \"white\", \"ticks\": \"\", \"title\": {\"standoff\": 15}, \"zerolinecolor\": \"white\", \"zerolinewidth\": 2}}}, \"xaxis\": {\"anchor\": \"y\", \"domain\": [0.0, 1.0], \"title\": {\"text\": \"age\"}}, \"yaxis\": {\"anchor\": \"x\", \"domain\": [0.0, 1.0], \"title\": {\"text\": \"count\"}}},\n",
              "                        {\"responsive\": true}\n",
              "                    ).then(function(){\n",
              "                            \n",
              "var gd = document.getElementById('81779fc9-5119-49c1-a430-17ad46e90236');\n",
              "var x = new MutationObserver(function (mutations, observer) {{\n",
              "        var display = window.getComputedStyle(gd).display;\n",
              "        if (!display || display === 'none') {{\n",
              "            console.log([gd, 'removed!']);\n",
              "            Plotly.purge(gd);\n",
              "            observer.disconnect();\n",
              "        }}\n",
              "}});\n",
              "\n",
              "// Listen for the removal of the full notebook cells\n",
              "var notebookContainer = gd.closest('#notebook-container');\n",
              "if (notebookContainer) {{\n",
              "    x.observe(notebookContainer, {childList: true});\n",
              "}}\n",
              "\n",
              "// Listen for the clearing of the current output cell\n",
              "var outputEl = gd.closest('.output');\n",
              "if (outputEl) {{\n",
              "    x.observe(outputEl, {childList: true});\n",
              "}}\n",
              "\n",
              "                        })\n",
              "                };\n",
              "                \n",
              "            </script>\n",
              "        </div>\n",
              "</body>\n",
              "</html>"
            ]
          },
          "metadata": {
            "tags": []
          }
        }
      ]
    },
    {
      "cell_type": "markdown",
      "metadata": {
        "id": "hPZLJDMqc5Rh",
        "colab_type": "text"
      },
      "source": [
        "b. After binning \"age\" distribution"
      ]
    },
    {
      "cell_type": "code",
      "metadata": {
        "id": "m_IY41OBc6ge",
        "colab_type": "code",
        "colab": {
          "base_uri": "https://localhost:8080/",
          "height": 678
        },
        "outputId": "8d02da6d-e2f8-42c4-c0b1-51a93755f62f"
      },
      "source": [
        "cluster_data['age_bin'] = pd.cut(cluster_data['age'], [0, 20, 40, 50, 60, 73], labels=['0-20', '20-40','40-50','50-60','60-73'])\n",
        "\n",
        "fig = px.histogram(cluster_data, x=\"age_bin\")\n",
        "fig.show()"
      ],
      "execution_count": 71,
      "outputs": [
        {
          "output_type": "stream",
          "text": [
            "/usr/local/lib/python3.6/dist-packages/ipykernel_launcher.py:1: SettingWithCopyWarning:\n",
            "\n",
            "\n",
            "A value is trying to be set on a copy of a slice from a DataFrame.\n",
            "Try using .loc[row_indexer,col_indexer] = value instead\n",
            "\n",
            "See the caveats in the documentation: https://pandas.pydata.org/pandas-docs/stable/user_guide/indexing.html#returning-a-view-versus-a-copy\n",
            "\n"
          ],
          "name": "stderr"
        },
        {
          "output_type": "display_data",
          "data": {
            "text/html": [
              "<html>\n",
              "<head><meta charset=\"utf-8\" /></head>\n",
              "<body>\n",
              "    <div>\n",
              "            <script src=\"https://cdnjs.cloudflare.com/ajax/libs/mathjax/2.7.5/MathJax.js?config=TeX-AMS-MML_SVG\"></script><script type=\"text/javascript\">if (window.MathJax) {MathJax.Hub.Config({SVG: {font: \"STIX-Web\"}});}</script>\n",
              "                <script type=\"text/javascript\">window.PlotlyConfig = {MathJaxConfig: 'local'};</script>\n",
              "        <script src=\"https://cdn.plot.ly/plotly-latest.min.js\"></script>    \n",
              "            <div id=\"18250d95-04da-4441-a045-360b20f20355\" class=\"plotly-graph-div\" style=\"height:525px; width:100%;\"></div>\n",
              "            <script type=\"text/javascript\">\n",
              "                \n",
              "                    window.PLOTLYENV=window.PLOTLYENV || {};\n",
              "                    \n",
              "                if (document.getElementById(\"18250d95-04da-4441-a045-360b20f20355\")) {\n",
              "                    Plotly.newPlot(\n",
              "                        '18250d95-04da-4441-a045-360b20f20355',\n",
              "                        [{\"alignmentgroup\": \"True\", \"bingroup\": \"x\", \"hoverlabel\": {\"namelength\": 0}, \"hovertemplate\": \"age_bin=%{x}<br>count=%{y}\", \"legendgroup\": \"\", \"marker\": {\"color\": \"#636efa\"}, \"name\": \"\", \"offsetgroup\": \"\", \"orientation\": \"v\", \"showlegend\": false, \"type\": \"histogram\", \"x\": [\"50-60\", \"40-50\", \"20-40\", \"20-40\", \"20-40\", \"0-20\", \"20-40\", \"20-40\", \"20-40\", \"40-50\", \"20-40\", \"20-40\", \"40-50\", \"20-40\", \"20-40\", \"20-40\", \"40-50\", \"20-40\", \"40-50\", \"60-73\", \"20-40\", \"20-40\", \"20-40\", \"20-40\", \"20-40\", \"40-50\", \"20-40\", \"20-40\", \"20-40\", \"60-73\", \"20-40\", \"20-40\", \"20-40\", \"20-40\", \"20-40\", \"20-40\", \"40-50\", \"40-50\", \"20-40\", \"20-40\", \"20-40\", \"20-40\", \"60-73\", \"40-50\", \"40-50\", \"20-40\", \"20-40\", \"0-20\", \"50-60\", \"20-40\", \"0-20\", \"20-40\", \"50-60\", \"60-73\", \"40-50\", \"20-40\", \"20-40\", \"20-40\", \"0-20\", \"60-73\", \"20-40\", \"20-40\", \"20-40\", \"20-40\", \"20-40\", \"20-40\", \"40-50\", \"20-40\", \"20-40\", \"20-40\", \"40-50\", \"40-50\", \"20-40\", \"50-60\", \"50-60\", \"40-50\", \"0-20\", \"20-40\", \"20-40\", \"20-40\", \"40-50\", \"20-40\", \"20-40\", \"20-40\", \"20-40\", \"50-60\", \"20-40\", \"50-60\", \"20-40\", \"20-40\", \"20-40\", \"20-40\", \"50-60\", \"40-50\", \"40-50\", \"60-73\", \"40-50\", \"40-50\", \"40-50\", \"20-40\", \"20-40\", \"40-50\", \"20-40\", \"20-40\", \"20-40\", \"20-40\", \"20-40\", \"0-20\", \"50-60\", \"20-40\", \"20-40\", \"20-40\", \"50-60\", \"20-40\", \"20-40\", \"40-50\", \"20-40\", \"20-40\", \"20-40\", \"40-50\", \"0-20\", \"20-40\", \"20-40\", \"20-40\", \"40-50\", \"50-60\", \"40-50\", \"40-50\", \"20-40\", \"40-50\", \"0-20\", \"40-50\", \"20-40\", \"20-40\", \"20-40\", \"40-50\", \"40-50\", \"20-40\", \"40-50\", \"20-40\", \"20-40\", \"20-40\", \"20-40\", \"20-40\", \"20-40\", \"20-40\", \"20-40\", \"20-40\", \"0-20\", \"20-40\", \"40-50\", \"40-50\", \"0-20\", \"20-40\", \"20-40\", \"20-40\", \"20-40\", \"40-50\", \"20-40\", \"20-40\", \"0-20\", \"20-40\", \"40-50\", \"20-40\", \"40-50\", \"20-40\", \"20-40\", \"20-40\", \"50-60\", \"40-50\", \"20-40\", \"60-73\", \"20-40\", \"20-40\", \"20-40\", \"20-40\", \"20-40\", \"20-40\", \"20-40\", \"50-60\", \"50-60\", \"20-40\", \"20-40\", \"40-50\", \"50-60\", \"20-40\", \"20-40\", \"50-60\", \"20-40\", \"20-40\", \"20-40\", \"20-40\", \"50-60\", \"40-50\", \"20-40\", \"20-40\", \"0-20\", \"20-40\", \"40-50\", \"60-73\", \"40-50\", \"20-40\", \"0-20\", \"20-40\", \"0-20\", \"0-20\", \"20-40\", \"60-73\", \"20-40\", \"20-40\", \"20-40\", \"40-50\", \"50-60\", \"40-50\", \"20-40\", \"20-40\", \"20-40\", \"20-40\", \"20-40\", \"50-60\", \"20-40\", \"20-40\", \"20-40\", \"20-40\", \"60-73\", \"50-60\", \"20-40\", \"20-40\", \"40-50\", \"40-50\", \"50-60\", \"20-40\", \"20-40\", \"20-40\", \"20-40\", \"20-40\", \"40-50\", \"20-40\", \"20-40\", \"20-40\", \"20-40\", \"20-40\", \"20-40\", \"40-50\", \"20-40\", \"60-73\", \"20-40\", \"0-20\", \"20-40\", \"20-40\", \"40-50\", \"50-60\", \"50-60\", \"20-40\", \"20-40\", \"20-40\", \"20-40\", \"50-60\", \"40-50\", \"20-40\", \"20-40\", \"20-40\", \"20-40\", \"20-40\", \"20-40\", \"20-40\", \"20-40\", \"60-73\", \"20-40\", \"20-40\", \"20-40\", \"20-40\", \"20-40\", \"20-40\", \"40-50\", \"40-50\", \"50-60\", \"60-73\", \"50-60\", \"40-50\", \"0-20\", \"20-40\", \"20-40\", \"40-50\", \"40-50\", \"20-40\", \"40-50\", \"20-40\", \"20-40\", \"50-60\", \"20-40\", \"20-40\", \"0-20\", \"50-60\", \"20-40\", \"20-40\", \"20-40\", \"20-40\", \"50-60\", \"0-20\", \"40-50\", \"40-50\", \"60-73\", \"0-20\", \"20-40\", \"20-40\", \"50-60\", \"20-40\", \"40-50\", \"0-20\", \"50-60\", \"20-40\", \"20-40\", \"20-40\", \"20-40\", \"20-40\", \"20-40\", \"50-60\", \"50-60\", \"40-50\", \"20-40\", \"50-60\", \"20-40\", \"20-40\", \"20-40\", \"40-50\", \"50-60\", \"20-40\", \"20-40\", \"20-40\", \"40-50\", \"0-20\", \"20-40\", \"20-40\", \"20-40\", \"50-60\", \"40-50\", \"20-40\", \"40-50\", \"20-40\", \"20-40\", \"20-40\", \"20-40\", \"20-40\", \"40-50\", \"20-40\", \"50-60\", \"40-50\", \"40-50\", \"40-50\", \"20-40\", \"0-20\", \"20-40\", \"50-60\", \"20-40\", \"0-20\", \"20-40\", \"20-40\", \"20-40\", \"50-60\", \"20-40\", \"20-40\", \"20-40\", \"40-50\", \"20-40\", \"20-40\", \"20-40\", \"40-50\", \"20-40\", \"20-40\", \"20-40\", \"20-40\", \"50-60\", \"20-40\", \"60-73\", \"20-40\", \"20-40\", \"50-60\", \"0-20\", \"20-40\", \"50-60\", \"20-40\", \"20-40\", \"0-20\", \"20-40\", \"20-40\", \"50-60\", \"0-20\", \"20-40\", \"40-50\", \"20-40\", \"20-40\", \"20-40\", \"0-20\", \"20-40\", \"50-60\", \"40-50\", \"20-40\", \"40-50\", \"40-50\", \"50-60\", \"40-50\", \"40-50\", \"20-40\", \"20-40\", \"20-40\", \"50-60\", \"20-40\", \"60-73\", \"20-40\", \"40-50\", \"20-40\", \"20-40\", \"0-20\", \"20-40\", \"40-50\", \"20-40\", \"20-40\", \"0-20\", \"40-50\", \"20-40\", \"20-40\", \"20-40\", \"0-20\", \"20-40\", \"20-40\", \"20-40\", \"20-40\", \"40-50\", \"50-60\", \"40-50\", \"20-40\", \"40-50\", \"20-40\", \"20-40\", \"40-50\", \"50-60\", \"20-40\", \"20-40\", \"0-20\", \"20-40\", \"20-40\", \"40-50\", \"20-40\", \"20-40\", \"40-50\", \"60-73\", \"40-50\", \"20-40\", \"20-40\", \"20-40\", \"50-60\", \"50-60\", \"20-40\", \"20-40\", \"40-50\", \"50-60\", \"20-40\", \"40-50\", \"20-40\", \"20-40\", \"20-40\", \"40-50\", \"20-40\", \"20-40\", \"20-40\", \"0-20\", \"20-40\", \"40-50\", \"20-40\", \"0-20\", \"40-50\", \"20-40\", \"40-50\", \"20-40\", \"0-20\", \"20-40\", \"50-60\", \"40-50\", \"20-40\", \"20-40\", \"20-40\", \"20-40\", \"50-60\", \"60-73\", \"40-50\", \"60-73\", \"20-40\", \"0-20\", \"20-40\", \"20-40\", \"50-60\", \"0-20\", \"20-40\", \"20-40\", \"20-40\", \"50-60\", \"20-40\", \"20-40\", \"20-40\", \"0-20\", \"20-40\", \"20-40\", \"40-50\", \"0-20\", \"40-50\", \"20-40\", \"20-40\", \"20-40\", \"20-40\", \"20-40\", \"20-40\", \"20-40\", \"20-40\", \"40-50\", \"0-20\", \"20-40\", \"20-40\", \"20-40\", \"40-50\", \"60-73\", \"40-50\", \"20-40\", \"40-50\", \"20-40\", \"20-40\", \"20-40\", \"20-40\", \"20-40\", \"20-40\", \"20-40\", \"40-50\", \"40-50\", \"20-40\", \"40-50\", \"20-40\", \"50-60\", \"40-50\", \"20-40\", \"50-60\", \"20-40\", \"0-20\", \"50-60\", \"40-50\", \"20-40\", \"20-40\", \"50-60\", \"40-50\", \"20-40\", \"20-40\", \"40-50\", \"20-40\", \"20-40\", \"20-40\", \"60-73\", \"40-50\", \"0-20\", \"60-73\", \"20-40\", \"50-60\", \"20-40\", \"0-20\", \"50-60\", \"20-40\", \"0-20\", \"20-40\", \"20-40\", \"40-50\", \"20-40\", \"0-20\", \"20-40\", \"20-40\", \"50-60\", \"20-40\", \"20-40\", \"20-40\", \"50-60\", \"40-50\", \"0-20\", \"40-50\", \"20-40\", \"20-40\", \"20-40\", \"40-50\", \"20-40\", \"20-40\", \"20-40\", \"20-40\", \"40-50\", \"20-40\", \"20-40\", \"20-40\", \"20-40\", \"50-60\", \"20-40\", \"20-40\", \"20-40\", \"40-50\", \"20-40\", \"40-50\", \"20-40\", \"20-40\", \"0-20\", \"20-40\", \"20-40\", \"40-50\", \"0-20\", \"0-20\", \"40-50\", \"50-60\", \"20-40\", \"20-40\", \"20-40\", \"20-40\", \"20-40\", \"60-73\", \"20-40\", \"50-60\", \"20-40\", \"20-40\", \"20-40\", \"50-60\", \"20-40\", \"20-40\", \"50-60\", \"40-50\", \"20-40\", \"20-40\", \"40-50\", \"20-40\", \"20-40\", \"50-60\", \"20-40\", \"40-50\", \"40-50\", \"20-40\", \"60-73\", \"20-40\", \"20-40\", \"20-40\", \"20-40\", \"0-20\", \"20-40\", \"40-50\", \"20-40\", \"40-50\", \"40-50\", \"20-40\", \"20-40\", \"20-40\", \"20-40\", \"20-40\", \"40-50\", \"20-40\", \"20-40\", \"20-40\", \"20-40\", \"50-60\", \"20-40\", \"40-50\", \"40-50\", \"0-20\", \"20-40\", \"20-40\", \"20-40\", \"50-60\", \"20-40\", \"20-40\", \"20-40\", \"40-50\", \"20-40\", \"40-50\", \"20-40\", \"40-50\", \"20-40\", \"60-73\", \"20-40\", \"20-40\", \"20-40\", \"20-40\", \"20-40\", \"50-60\", \"20-40\", \"20-40\", \"20-40\", \"40-50\", \"20-40\", \"20-40\", \"40-50\", \"40-50\", \"50-60\", \"20-40\", \"50-60\", \"20-40\", \"20-40\", \"20-40\", \"20-40\", \"20-40\", \"20-40\", \"20-40\", \"20-40\", \"50-60\", \"40-50\", \"20-40\", \"0-20\", \"40-50\", \"20-40\", \"40-50\", \"0-20\", \"20-40\", \"20-40\", \"40-50\", \"20-40\", \"40-50\", \"20-40\", \"20-40\", \"40-50\", \"20-40\", \"50-60\", \"20-40\", \"40-50\", \"20-40\", \"20-40\", \"20-40\", \"50-60\", \"20-40\", \"20-40\", \"20-40\", \"20-40\", \"50-60\", \"40-50\", \"20-40\", \"0-20\", \"40-50\", \"0-20\", \"40-50\", \"20-40\", \"20-40\", \"20-40\", \"20-40\", \"20-40\", \"40-50\", \"20-40\", \"40-50\", \"20-40\", \"20-40\", \"20-40\", \"40-50\", \"0-20\", \"50-60\", \"0-20\", \"20-40\", \"40-50\", \"20-40\", \"20-40\", \"20-40\", \"0-20\", \"20-40\", \"20-40\", \"20-40\", \"20-40\", \"20-40\", \"20-40\", \"20-40\", \"50-60\", \"20-40\", \"20-40\", \"20-40\", \"20-40\", \"20-40\", \"20-40\", \"20-40\", \"40-50\", \"20-40\", \"20-40\", \"50-60\", \"20-40\", \"20-40\", \"20-40\", \"20-40\", \"40-50\", \"40-50\", \"20-40\", \"40-50\", \"20-40\", \"0-20\", \"20-40\", \"20-40\", \"50-60\", \"20-40\", \"20-40\", \"20-40\", \"0-20\", \"60-73\", \"20-40\", \"20-40\", \"20-40\", \"20-40\", \"50-60\", \"20-40\", \"50-60\", \"40-50\", \"0-20\", \"60-73\", \"60-73\", \"0-20\", \"20-40\", \"50-60\", \"0-20\", \"40-50\", \"40-50\", \"0-20\", \"20-40\", \"20-40\", \"50-60\", \"50-60\", \"40-50\", \"0-20\", \"20-40\", \"20-40\", \"40-50\", \"20-40\", \"20-40\", \"20-40\", \"20-40\", \"60-73\", \"20-40\", \"20-40\", \"50-60\", \"20-40\", \"40-50\", \"50-60\", \"20-40\", \"20-40\", \"20-40\", \"20-40\", \"0-20\", \"20-40\", \"20-40\", \"20-40\", \"20-40\", \"20-40\", \"20-40\", \"20-40\", \"50-60\", \"40-50\", \"40-50\", \"20-40\", \"40-50\", \"20-40\", \"20-40\", \"20-40\", \"20-40\", \"20-40\", \"20-40\", \"40-50\", \"40-50\", \"20-40\", \"40-50\", \"40-50\", \"40-50\", \"20-40\", \"20-40\", \"20-40\", \"50-60\", \"20-40\", \"20-40\", \"50-60\", \"40-50\", \"20-40\", \"50-60\", \"60-73\", \"20-40\", \"20-40\", \"20-40\", \"0-20\", \"20-40\", \"20-40\", \"0-20\", \"20-40\", \"20-40\", \"20-40\", \"20-40\", \"20-40\", \"20-40\", \"60-73\", \"20-40\", \"40-50\", \"20-40\", \"50-60\", \"60-73\", \"20-40\", \"50-60\", \"20-40\", \"40-50\", \"40-50\", \"20-40\", \"20-40\", \"60-73\", \"20-40\", \"50-60\", \"50-60\", \"20-40\", \"20-40\", \"20-40\", \"20-40\", \"20-40\", \"0-20\", \"40-50\", \"50-60\", \"20-40\", \"20-40\", \"20-40\", \"20-40\", \"50-60\", \"40-50\", \"20-40\", \"0-20\", \"40-50\", \"20-40\", \"50-60\", \"50-60\", \"20-40\", \"20-40\", \"20-40\", \"20-40\", \"20-40\", \"50-60\", \"20-40\", \"20-40\", \"20-40\", \"20-40\", \"20-40\", \"40-50\", \"20-40\", \"20-40\", \"20-40\", \"20-40\", \"20-40\", \"50-60\", \"20-40\", \"0-20\", \"20-40\", \"20-40\", \"20-40\", \"20-40\", \"20-40\", \"40-50\", \"50-60\", \"0-20\", \"20-40\", \"20-40\", \"20-40\", \"50-60\", \"20-40\", \"40-50\", \"20-40\", \"50-60\", \"20-40\", \"20-40\", \"50-60\", \"20-40\", \"20-40\", \"20-40\", \"20-40\", \"20-40\", \"20-40\", \"20-40\", \"20-40\", \"50-60\", \"20-40\", \"50-60\", \"20-40\", \"20-40\", \"20-40\", \"20-40\", \"40-50\", \"20-40\", \"40-50\", \"50-60\", \"40-50\", \"20-40\", \"0-20\", \"40-50\", \"50-60\", \"20-40\", \"50-60\", \"20-40\", \"20-40\", \"20-40\", \"20-40\", \"20-40\", \"20-40\", \"40-50\", \"20-40\", \"50-60\", \"0-20\", \"50-60\", \"20-40\", \"20-40\", \"20-40\", \"20-40\", \"20-40\", \"20-40\", \"20-40\", \"20-40\", \"20-40\", \"20-40\", \"50-60\", \"20-40\", \"20-40\", \"20-40\", \"20-40\", \"20-40\", \"40-50\", \"20-40\", \"50-60\", \"50-60\", \"20-40\", \"20-40\", \"20-40\", \"20-40\", \"20-40\", \"20-40\", \"20-40\", \"20-40\", \"20-40\", \"0-20\", \"20-40\", \"20-40\", \"40-50\", \"20-40\", \"20-40\", \"60-73\", \"40-50\", \"40-50\", \"40-50\", \"20-40\", \"20-40\", \"20-40\", \"20-40\", \"20-40\", \"50-60\", \"20-40\", \"20-40\", \"20-40\", \"20-40\", \"40-50\", \"50-60\", \"40-50\", \"20-40\", \"20-40\", \"50-60\", \"50-60\", \"0-20\", \"20-40\", \"20-40\", \"20-40\", \"0-20\", \"20-40\", \"20-40\", \"20-40\", \"40-50\", \"60-73\", \"20-40\", \"50-60\", \"50-60\", \"20-40\", \"40-50\", \"20-40\", \"20-40\", \"50-60\", \"20-40\", \"20-40\", \"20-40\", \"0-20\", \"20-40\", \"40-50\", \"20-40\", \"20-40\", \"20-40\", \"50-60\", \"50-60\", \"40-50\", \"20-40\", \"20-40\", \"20-40\", \"20-40\", \"20-40\", \"20-40\", \"20-40\", \"20-40\", \"20-40\", \"20-40\", \"40-50\", \"40-50\", \"40-50\", \"20-40\", \"20-40\", \"20-40\", \"20-40\", \"20-40\", \"40-50\", \"20-40\", \"20-40\", \"40-50\", \"20-40\", \"20-40\", \"20-40\", \"0-20\", \"50-60\", \"20-40\", \"20-40\", \"20-40\", \"20-40\", \"50-60\", \"0-20\", \"20-40\", \"0-20\", \"20-40\", \"20-40\", \"40-50\", \"40-50\", \"20-40\", \"20-40\", \"20-40\", \"20-40\", \"20-40\", \"40-50\", \"20-40\", \"20-40\", \"20-40\", \"20-40\", \"50-60\", \"40-50\", \"40-50\", \"40-50\", \"40-50\", \"40-50\", \"40-50\", \"40-50\", \"20-40\", \"20-40\", \"20-40\", \"20-40\", \"40-50\", \"20-40\", \"20-40\", \"50-60\", \"40-50\", \"20-40\", \"40-50\", \"20-40\", \"0-20\", \"40-50\", \"0-20\", \"20-40\", \"20-40\", \"20-40\", \"20-40\", \"20-40\", \"20-40\", \"20-40\", \"20-40\", \"40-50\", \"20-40\", \"20-40\", \"20-40\", \"20-40\", \"50-60\", \"20-40\", \"20-40\", \"50-60\", \"20-40\", \"20-40\", \"20-40\", \"20-40\", \"60-73\", \"50-60\", \"60-73\", \"0-20\", \"20-40\", \"20-40\", \"20-40\", \"20-40\", \"50-60\", \"20-40\", \"20-40\", \"40-50\", \"20-40\", \"20-40\", \"40-50\", \"0-20\", \"20-40\", \"20-40\", \"20-40\", \"50-60\", \"40-50\", \"20-40\", \"20-40\", \"20-40\", \"0-20\", \"20-40\", \"50-60\", \"40-50\", \"40-50\", \"20-40\", \"20-40\", \"50-60\", \"0-20\", \"40-50\", \"20-40\", \"20-40\", \"60-73\", \"20-40\", \"20-40\", \"20-40\", \"20-40\", \"60-73\", \"40-50\", \"40-50\", \"50-60\", \"40-50\", \"50-60\", \"20-40\", \"0-20\", \"40-50\", \"40-50\", \"20-40\", \"20-40\", \"40-50\", \"20-40\", \"0-20\", \"20-40\", \"20-40\", \"20-40\", \"20-40\", \"0-20\", \"20-40\", \"20-40\", \"0-20\", \"20-40\", \"50-60\", \"20-40\", \"50-60\", \"20-40\", \"50-60\", \"20-40\", \"50-60\", \"20-40\", \"20-40\", \"20-40\", \"20-40\", \"20-40\", \"20-40\", \"0-20\", \"40-50\", \"0-20\", \"20-40\", \"40-50\", \"50-60\", \"40-50\", \"20-40\", \"50-60\", \"20-40\", \"20-40\", \"0-20\", \"20-40\", \"20-40\", \"50-60\", \"20-40\", \"20-40\", \"20-40\", \"40-50\", \"20-40\", \"20-40\", \"20-40\", \"20-40\", \"50-60\", \"20-40\", \"40-50\", \"40-50\", \"40-50\", \"20-40\", \"50-60\", \"20-40\", \"20-40\", \"20-40\", \"50-60\", \"50-60\", \"50-60\", \"20-40\", \"20-40\", \"20-40\", \"20-40\", \"20-40\", \"20-40\", \"20-40\", \"20-40\", \"20-40\", \"20-40\", \"20-40\", \"20-40\", \"20-40\", \"20-40\", \"20-40\", \"20-40\", \"20-40\", \"20-40\", \"20-40\", \"20-40\", \"20-40\", \"0-20\", \"40-50\", \"50-60\", \"20-40\", \"20-40\", \"20-40\", \"20-40\", \"40-50\", \"40-50\", \"0-20\", \"20-40\", \"20-40\", \"20-40\", \"20-40\", \"20-40\", \"20-40\", \"60-73\", \"20-40\", \"20-40\", \"20-40\", \"20-40\", \"20-40\", \"20-40\", \"20-40\", \"20-40\", \"20-40\", \"40-50\", \"20-40\", \"20-40\", \"40-50\", \"20-40\", \"0-20\", \"20-40\", \"50-60\", \"40-50\", \"50-60\", \"20-40\", \"20-40\", \"50-60\", \"20-40\", \"60-73\", \"20-40\", \"20-40\", \"20-40\", \"50-60\", \"40-50\", \"0-20\", \"20-40\", \"20-40\", \"20-40\", \"20-40\", \"20-40\", \"20-40\", \"20-40\", \"20-40\", \"20-40\", \"20-40\", \"40-50\", \"60-73\", \"40-50\", \"20-40\", \"20-40\", \"50-60\", \"60-73\", \"20-40\", \"20-40\", \"40-50\", \"20-40\", \"20-40\", \"20-40\", \"20-40\", \"20-40\", \"60-73\", \"20-40\", \"0-20\", \"40-50\", \"40-50\", \"40-50\", \"50-60\", \"20-40\", \"40-50\", \"20-40\", \"20-40\", \"20-40\", \"50-60\", \"20-40\", \"20-40\", \"0-20\", \"20-40\", \"20-40\", \"20-40\", \"0-20\", \"0-20\", \"40-50\", \"20-40\", \"20-40\", \"0-20\", \"20-40\", \"40-50\", \"20-40\", \"20-40\", \"20-40\", \"20-40\", \"20-40\", \"40-50\", \"40-50\", \"40-50\", \"20-40\", \"0-20\", \"50-60\", \"20-40\", \"50-60\", \"20-40\", \"20-40\", \"20-40\", \"20-40\", \"60-73\", \"20-40\", \"20-40\", \"20-40\", \"20-40\", \"60-73\", \"20-40\", \"20-40\", \"20-40\", \"40-50\", \"20-40\", \"20-40\", \"40-50\", \"60-73\", \"50-60\", \"20-40\", \"20-40\", \"40-50\", \"20-40\", \"20-40\", \"0-20\", \"20-40\", \"0-20\", \"20-40\", \"20-40\", \"40-50\", \"20-40\", \"20-40\", \"20-40\", \"60-73\", \"20-40\", \"20-40\", \"60-73\", \"20-40\", \"20-40\", \"20-40\", \"40-50\", \"40-50\", \"40-50\", \"20-40\", \"40-50\", \"20-40\", \"20-40\", \"50-60\", \"20-40\", \"60-73\", \"20-40\", \"50-60\", \"20-40\", \"20-40\", \"40-50\", \"20-40\", \"40-50\", \"50-60\", \"20-40\", \"40-50\", \"20-40\", \"40-50\", \"40-50\", \"20-40\", \"20-40\", \"20-40\", \"20-40\", \"20-40\", \"0-20\", \"40-50\", \"20-40\", \"0-20\", \"0-20\", \"20-40\", \"20-40\", \"0-20\", \"20-40\", \"40-50\", \"40-50\", \"0-20\", \"20-40\", \"20-40\", \"20-40\", \"20-40\", \"50-60\", \"20-40\", \"20-40\", \"0-20\", \"20-40\", \"40-50\", \"60-73\", \"20-40\", \"20-40\", \"20-40\", \"40-50\", \"20-40\", \"50-60\", \"20-40\", \"50-60\", \"60-73\", \"50-60\", \"20-40\", \"50-60\", \"20-40\", \"0-20\", \"50-60\", \"50-60\", \"60-73\", \"20-40\", \"60-73\", \"40-50\", \"0-20\", \"40-50\", \"50-60\", \"20-40\", \"50-60\", \"20-40\", \"40-50\", \"20-40\", \"20-40\", \"50-60\", \"20-40\", \"20-40\", \"40-50\", \"20-40\", \"20-40\", \"50-60\", \"20-40\", \"20-40\", \"0-20\", \"50-60\", \"20-40\", \"20-40\", \"20-40\", \"20-40\", \"20-40\", \"20-40\", \"20-40\", \"50-60\", \"40-50\", \"20-40\", \"20-40\", \"20-40\", \"50-60\", \"60-73\", \"20-40\", \"20-40\", \"40-50\", \"20-40\", \"40-50\", \"50-60\", \"20-40\", \"20-40\", \"40-50\", \"20-40\", \"20-40\", \"20-40\", \"20-40\", \"50-60\", \"20-40\", \"50-60\", \"20-40\", \"20-40\", \"20-40\", \"50-60\", \"0-20\", \"20-40\", \"20-40\", \"20-40\", \"20-40\", \"20-40\", \"20-40\", \"20-40\", \"20-40\", \"20-40\", \"40-50\", \"20-40\", \"20-40\", \"20-40\", \"20-40\", \"60-73\", \"20-40\", \"50-60\", \"20-40\", \"20-40\", \"20-40\", \"20-40\", \"20-40\", \"60-73\", \"50-60\", \"60-73\", \"20-40\", \"20-40\", \"20-40\", \"20-40\", \"0-20\", \"20-40\", \"60-73\", \"20-40\", \"20-40\", \"20-40\", \"20-40\", \"40-50\", \"20-40\", \"40-50\", \"50-60\", \"20-40\", \"60-73\", \"40-50\", \"20-40\", \"50-60\", \"20-40\", \"20-40\", \"20-40\", \"40-50\", \"40-50\", \"40-50\", \"20-40\", \"40-50\", \"20-40\", \"20-40\", \"20-40\", \"50-60\", \"20-40\", \"40-50\", \"40-50\", \"20-40\", \"20-40\", \"20-40\", \"20-40\", \"50-60\", \"20-40\", \"0-20\", \"20-40\", \"20-40\", \"0-20\", \"0-20\", \"20-40\", \"0-20\", \"0-20\", \"20-40\", \"50-60\", \"40-50\", \"20-40\", \"20-40\", \"50-60\", \"20-40\", \"20-40\", \"50-60\", \"20-40\", \"40-50\", \"20-40\", \"40-50\", \"20-40\", \"50-60\", \"60-73\", \"40-50\", \"20-40\", \"20-40\", \"0-20\", \"20-40\", \"40-50\", \"20-40\", \"20-40\", \"20-40\", \"20-40\", \"20-40\", \"40-50\", \"20-40\", \"20-40\", \"20-40\", \"20-40\", \"20-40\", \"40-50\", \"0-20\", \"20-40\", \"20-40\", \"60-73\", \"40-50\", \"20-40\", \"20-40\", \"20-40\", \"20-40\", \"20-40\", \"50-60\", \"20-40\", \"40-50\", \"20-40\", \"20-40\", \"0-20\", \"40-50\", \"20-40\", \"20-40\", \"20-40\", \"20-40\", \"20-40\", \"20-40\", \"20-40\", \"20-40\", \"20-40\", \"20-40\", \"40-50\", \"20-40\", \"20-40\", \"20-40\", \"20-40\", \"50-60\", \"20-40\", \"50-60\", \"20-40\", \"20-40\", \"20-40\", \"20-40\", \"40-50\", \"20-40\", \"50-60\", \"20-40\", \"40-50\", \"20-40\", \"0-20\", \"20-40\", \"20-40\", \"40-50\", \"20-40\", \"20-40\", \"20-40\", \"40-50\", \"0-20\", \"20-40\", \"40-50\", \"50-60\", \"20-40\", \"20-40\", \"20-40\", \"20-40\", \"20-40\", \"20-40\", \"20-40\", \"20-40\", \"20-40\", \"20-40\", \"50-60\", \"20-40\", \"20-40\", \"20-40\", \"20-40\", \"20-40\", \"20-40\", \"0-20\", \"20-40\", \"0-20\", \"0-20\", \"20-40\", \"40-50\", \"20-40\", \"20-40\", \"20-40\", \"40-50\", \"0-20\", \"20-40\", \"20-40\", \"20-40\", \"0-20\", \"50-60\", \"20-40\", \"40-50\", \"40-50\", \"0-20\", \"20-40\", \"40-50\", \"40-50\", \"50-60\", \"20-40\", \"20-40\", \"20-40\", \"20-40\", \"20-40\", \"20-40\", \"20-40\", \"20-40\", \"20-40\", \"20-40\", \"50-60\", \"40-50\", \"50-60\", \"40-50\", \"20-40\", \"20-40\", \"20-40\", \"20-40\", \"20-40\", \"20-40\", \"20-40\", \"20-40\", \"20-40\", \"20-40\", \"20-40\", \"40-50\", \"20-40\", \"50-60\", \"60-73\", \"20-40\", \"20-40\", \"0-20\", \"20-40\", \"50-60\", \"40-50\", \"20-40\", \"40-50\", \"0-20\", \"20-40\", \"60-73\", \"50-60\", \"40-50\", \"20-40\", \"20-40\", \"20-40\", \"20-40\", \"0-20\", \"20-40\", \"0-20\", \"50-60\", \"40-50\", \"20-40\", \"20-40\", \"60-73\", \"60-73\", \"40-50\", \"20-40\", \"20-40\", \"20-40\", \"40-50\", \"20-40\", \"20-40\", \"40-50\", \"0-20\", \"20-40\", \"20-40\", \"20-40\", \"40-50\", \"50-60\", \"60-73\", \"0-20\", \"50-60\", \"60-73\", \"40-50\", \"0-20\", \"40-50\", \"20-40\", \"20-40\", \"20-40\", \"40-50\", \"40-50\", \"20-40\", \"40-50\", \"20-40\", \"40-50\", \"20-40\", \"20-40\", \"20-40\", \"20-40\", \"40-50\", \"40-50\", \"20-40\", \"50-60\", \"0-20\", \"20-40\", \"20-40\", \"40-50\", \"20-40\", \"40-50\", \"20-40\", \"20-40\", \"20-40\", \"20-40\", \"40-50\", \"20-40\", \"20-40\", \"20-40\", \"20-40\", \"20-40\", \"40-50\", \"0-20\", \"20-40\", \"0-20\", \"40-50\", \"40-50\", \"20-40\", \"20-40\", \"40-50\", \"40-50\", \"50-60\", \"50-60\", \"20-40\", \"20-40\", \"50-60\", \"20-40\", \"50-60\", \"20-40\", \"20-40\", \"20-40\", \"20-40\", \"20-40\", \"20-40\", \"20-40\", \"20-40\", \"0-20\", \"20-40\", \"50-60\", \"40-50\", \"20-40\", \"50-60\", \"20-40\", \"20-40\", \"20-40\", \"20-40\", \"0-20\", \"40-50\", \"40-50\", \"0-20\", \"40-50\", \"20-40\", \"40-50\", \"40-50\", \"20-40\", \"20-40\", \"20-40\", \"20-40\", \"50-60\", \"0-20\", \"20-40\", \"40-50\", \"20-40\", \"20-40\", \"20-40\", \"20-40\", \"40-50\", \"60-73\", \"50-60\", \"20-40\", \"40-50\", \"40-50\", \"20-40\", \"20-40\", \"40-50\", \"50-60\", \"20-40\", \"0-20\", \"20-40\", \"50-60\", \"0-20\", \"20-40\", \"20-40\", \"20-40\", \"0-20\", \"20-40\", \"20-40\", \"20-40\", \"20-40\", \"20-40\", \"0-20\", \"40-50\", \"20-40\", \"20-40\", \"50-60\", \"20-40\", \"20-40\", \"20-40\", \"20-40\", \"20-40\", \"20-40\", \"20-40\", \"50-60\", \"0-20\", \"50-60\", \"20-40\", \"60-73\", \"20-40\", \"20-40\", \"50-60\", \"0-20\", \"40-50\", \"20-40\", \"20-40\", \"20-40\", \"20-40\", \"20-40\", \"20-40\", \"20-40\", \"40-50\", \"20-40\", \"0-20\", \"20-40\", \"20-40\", \"20-40\", \"20-40\", \"50-60\", \"60-73\", \"20-40\", \"20-40\", \"20-40\", \"40-50\", \"20-40\", \"20-40\", \"20-40\", \"20-40\", \"20-40\", \"40-50\", \"60-73\", \"20-40\", \"20-40\", \"20-40\", \"20-40\", \"40-50\", \"40-50\", \"20-40\", \"60-73\", \"20-40\", \"20-40\", \"20-40\", \"0-20\", \"40-50\", \"20-40\", \"20-40\", \"20-40\", \"20-40\", \"20-40\", \"20-40\", \"20-40\", \"20-40\", \"20-40\", \"40-50\", \"20-40\", \"60-73\", \"20-40\", \"40-50\", \"20-40\", \"20-40\", \"20-40\", \"20-40\", \"50-60\", \"20-40\", \"20-40\", \"20-40\", \"20-40\", \"20-40\", \"0-20\", \"50-60\", \"20-40\", \"0-20\", \"40-50\", \"0-20\", \"20-40\", \"20-40\", \"20-40\", \"20-40\", \"50-60\", \"20-40\", \"20-40\", \"20-40\", \"50-60\", \"20-40\", \"20-40\", \"40-50\", \"20-40\", \"50-60\", \"20-40\", \"0-20\", \"40-50\", \"40-50\", \"20-40\", \"40-50\", \"50-60\", \"40-50\", \"20-40\", \"20-40\", \"0-20\", \"20-40\", \"20-40\", \"50-60\", \"50-60\", \"20-40\", \"50-60\", \"50-60\", \"40-50\", \"20-40\", \"20-40\", \"60-73\", \"20-40\", \"40-50\", \"50-60\", \"20-40\", \"40-50\", \"20-40\", \"40-50\", \"20-40\", \"20-40\", \"40-50\", \"40-50\", \"20-40\", \"60-73\", \"0-20\", \"20-40\", \"20-40\", \"20-40\", \"60-73\", \"40-50\", \"20-40\", \"20-40\", \"20-40\", \"20-40\", \"20-40\", \"20-40\", \"20-40\", \"20-40\", \"20-40\", \"50-60\", \"20-40\", \"20-40\", \"20-40\", \"50-60\", \"50-60\", \"0-20\", \"40-50\", \"20-40\", \"20-40\", \"20-40\", \"60-73\", \"0-20\", \"20-40\", \"20-40\", \"0-20\", \"50-60\", \"20-40\", \"40-50\", \"20-40\", \"20-40\", \"60-73\", \"0-20\", \"20-40\", \"0-20\", \"20-40\", \"50-60\", \"0-20\", \"20-40\", \"50-60\", \"20-40\", \"50-60\", \"20-40\", \"50-60\", \"20-40\", \"20-40\", \"0-20\", \"50-60\", \"20-40\", \"20-40\", \"20-40\", \"40-50\", \"40-50\", \"20-40\", \"0-20\", \"40-50\", \"20-40\", \"0-20\", \"60-73\", \"20-40\", \"50-60\", \"0-20\", \"20-40\", \"20-40\", \"60-73\", \"20-40\", \"20-40\", \"20-40\", \"0-20\", \"20-40\", \"20-40\", \"20-40\", \"20-40\", \"20-40\", \"20-40\", \"40-50\", \"40-50\", \"20-40\", \"20-40\", \"20-40\", \"40-50\", \"50-60\", \"20-40\", \"40-50\", \"40-50\", \"40-50\", \"20-40\", \"20-40\", \"40-50\", \"20-40\", \"40-50\", \"40-50\", \"20-40\", \"20-40\", \"20-40\", \"20-40\", \"40-50\", \"60-73\", \"50-60\", \"20-40\", \"40-50\", \"20-40\", \"20-40\", \"20-40\", \"60-73\", \"50-60\", \"20-40\", \"20-40\", \"20-40\", \"20-40\", \"50-60\", \"20-40\", \"20-40\", \"20-40\", \"20-40\", \"20-40\", \"0-20\", \"0-20\", \"20-40\", \"0-20\", \"20-40\", \"50-60\", \"20-40\", \"20-40\", \"0-20\", \"0-20\", \"50-60\", \"40-50\", \"20-40\", \"60-73\", \"40-50\", \"40-50\", \"20-40\", \"20-40\", \"50-60\", \"20-40\", \"20-40\", \"20-40\", \"20-40\", \"40-50\", \"40-50\", \"50-60\", \"20-40\", \"40-50\", \"20-40\", \"20-40\", \"50-60\", \"50-60\", \"0-20\", \"60-73\", \"40-50\", \"20-40\", \"40-50\", \"20-40\", \"20-40\", \"20-40\", \"20-40\", \"60-73\", \"50-60\", \"0-20\", \"20-40\", \"40-50\", \"20-40\", \"20-40\", \"20-40\", \"20-40\", \"20-40\", \"40-50\", \"20-40\", \"60-73\", \"20-40\", \"20-40\", \"20-40\", \"20-40\", \"20-40\", \"40-50\", \"20-40\", \"20-40\", \"20-40\", \"0-20\", \"0-20\", \"20-40\", \"20-40\", \"20-40\", \"40-50\", \"0-20\", \"50-60\", \"20-40\", \"40-50\", \"20-40\", \"20-40\", \"20-40\", \"40-50\", \"40-50\", \"20-40\", \"20-40\", \"20-40\", \"20-40\", \"20-40\", \"20-40\", \"0-20\", \"20-40\", \"50-60\", \"50-60\", \"20-40\", \"40-50\", \"20-40\", \"20-40\", \"20-40\", \"20-40\", \"40-50\", \"50-60\", \"40-50\", \"20-40\", \"20-40\", \"50-60\", \"40-50\", \"20-40\", \"50-60\", \"20-40\", \"20-40\", \"20-40\", \"0-20\", \"20-40\", \"20-40\", \"20-40\", \"40-50\", \"20-40\", \"20-40\", \"20-40\", \"50-60\", \"20-40\", \"20-40\", \"20-40\", \"20-40\", \"40-50\", \"40-50\", \"50-60\", \"20-40\", \"20-40\", \"50-60\", \"50-60\", \"40-50\", \"40-50\", \"20-40\", \"20-40\", \"20-40\", \"20-40\", \"20-40\", \"50-60\", \"40-50\", \"20-40\", \"20-40\", \"60-73\", \"20-40\", \"20-40\", \"20-40\", \"50-60\", \"20-40\", \"20-40\", \"40-50\", \"40-50\", \"50-60\", \"40-50\", \"20-40\", \"20-40\", \"20-40\", \"20-40\", \"20-40\", \"0-20\", \"20-40\", \"20-40\", \"60-73\", \"20-40\", \"20-40\", \"20-40\", \"20-40\", \"40-50\", \"20-40\", \"20-40\", \"20-40\", \"20-40\", \"20-40\", \"40-50\", \"20-40\", \"20-40\", \"20-40\", \"40-50\", \"20-40\", \"20-40\", \"20-40\", \"40-50\", \"20-40\", \"20-40\", \"20-40\", \"40-50\", \"20-40\", \"20-40\", \"50-60\", \"0-20\", \"20-40\", \"20-40\", \"40-50\", \"20-40\", \"20-40\", \"50-60\", \"20-40\", \"20-40\", \"20-40\", \"20-40\", \"40-50\", \"20-40\", \"20-40\", \"20-40\", \"0-20\", \"0-20\", \"20-40\", \"40-50\", \"20-40\", \"20-40\", \"20-40\", \"50-60\", \"40-50\", \"40-50\", \"40-50\", \"40-50\", \"0-20\", \"20-40\", \"20-40\", \"50-60\", \"60-73\", \"20-40\", \"20-40\", \"20-40\", \"20-40\", \"40-50\", \"20-40\", \"40-50\", \"60-73\", \"20-40\", \"50-60\", \"60-73\", \"20-40\", \"60-73\", \"20-40\", \"40-50\", \"50-60\", \"20-40\", \"20-40\", \"0-20\", \"20-40\", \"40-50\", \"20-40\", \"40-50\", \"0-20\", \"20-40\", \"20-40\", \"20-40\", \"60-73\", \"20-40\", \"50-60\", \"20-40\", \"40-50\", \"20-40\", \"20-40\", \"20-40\", \"50-60\", \"20-40\", \"40-50\", \"20-40\", \"20-40\", \"40-50\", \"20-40\", \"20-40\", \"40-50\", \"50-60\", \"0-20\", \"20-40\", \"40-50\", \"20-40\", \"40-50\", \"40-50\", \"40-50\", \"20-40\", \"20-40\", \"50-60\", \"20-40\", \"0-20\", \"20-40\", \"40-50\", \"20-40\", \"20-40\", \"40-50\", \"0-20\", \"40-50\", \"20-40\", \"20-40\", \"20-40\", \"20-40\", \"20-40\", \"20-40\", \"20-40\", \"50-60\", \"50-60\", \"20-40\", \"20-40\", \"20-40\", \"20-40\", \"60-73\", \"20-40\", \"20-40\", \"20-40\", \"20-40\", \"20-40\", \"20-40\", \"20-40\", \"20-40\", \"40-50\", \"20-40\", \"20-40\", \"20-40\", \"20-40\", \"40-50\", \"20-40\", \"40-50\", \"40-50\", \"40-50\", \"40-50\", \"20-40\", \"20-40\", \"40-50\", \"20-40\", \"20-40\", \"20-40\", \"20-40\", \"40-50\", \"20-40\", \"20-40\", \"20-40\", \"20-40\", \"20-40\", \"20-40\", \"40-50\", \"20-40\", \"60-73\", \"20-40\", \"20-40\", \"20-40\", \"20-40\", \"20-40\", \"50-60\", \"40-50\", \"50-60\", \"20-40\", \"20-40\", \"20-40\", \"20-40\", \"20-40\", \"50-60\", \"20-40\", \"20-40\", \"40-50\", \"60-73\", \"40-50\", \"40-50\", \"20-40\", \"20-40\", \"50-60\", \"40-50\", \"40-50\", \"0-20\", \"20-40\", \"20-40\", \"0-20\", \"20-40\", \"20-40\", \"20-40\", \"20-40\", \"20-40\", \"50-60\", \"20-40\", \"20-40\", \"20-40\", \"40-50\", \"20-40\", \"20-40\", \"40-50\", \"20-40\", \"20-40\", \"20-40\", \"20-40\", \"20-40\", \"20-40\", \"20-40\", \"20-40\", \"20-40\", \"20-40\", \"20-40\", \"20-40\", \"40-50\", \"20-40\", \"20-40\", \"0-20\", \"40-50\", \"40-50\", \"40-50\", \"20-40\", \"20-40\", \"20-40\", \"20-40\", \"20-40\", \"20-40\", \"20-40\", \"20-40\", \"20-40\", \"50-60\", \"60-73\", \"50-60\", \"20-40\", \"50-60\", \"20-40\", \"20-40\", \"20-40\", \"20-40\", \"0-20\", \"20-40\", \"20-40\", \"40-50\", \"50-60\", \"40-50\", \"20-40\", \"20-40\", \"20-40\", \"20-40\", \"20-40\", \"0-20\", \"20-40\", \"20-40\", \"20-40\", \"20-40\", \"20-40\", \"50-60\", \"40-50\", \"60-73\", \"20-40\", \"20-40\", \"40-50\", \"0-20\", \"40-50\", \"50-60\", \"0-20\", \"60-73\", \"20-40\", \"40-50\", \"20-40\", \"40-50\", \"20-40\", \"20-40\", \"50-60\", \"60-73\", \"20-40\", \"20-40\", \"40-50\", \"20-40\", \"20-40\", \"50-60\", \"20-40\", \"0-20\", \"20-40\", \"20-40\", \"0-20\", \"20-40\", \"20-40\", \"0-20\", \"20-40\", \"40-50\", \"20-40\", \"50-60\", \"20-40\", \"40-50\", \"20-40\", \"20-40\", \"20-40\", \"60-73\", \"20-40\", \"50-60\", \"20-40\", \"20-40\", \"20-40\", \"20-40\", \"40-50\", \"20-40\", \"20-40\", \"60-73\", \"40-50\", \"60-73\", \"20-40\", \"40-50\", \"40-50\", \"20-40\", \"0-20\", \"20-40\", \"20-40\", \"20-40\", \"0-20\", \"60-73\", \"20-40\", \"20-40\", \"50-60\", \"0-20\", \"20-40\", \"20-40\", \"40-50\", \"20-40\", \"0-20\", \"20-40\", \"20-40\", \"40-50\", \"0-20\", \"20-40\", \"20-40\", \"20-40\", \"20-40\", \"20-40\", \"20-40\", \"20-40\", \"20-40\", \"20-40\", \"60-73\", \"40-50\", \"60-73\", \"20-40\", \"40-50\", \"60-73\", \"20-40\", \"20-40\", \"20-40\", \"40-50\", \"20-40\", \"20-40\", \"20-40\", \"0-20\", \"20-40\", \"20-40\", \"20-40\", \"50-60\", \"20-40\", \"60-73\", \"20-40\", \"20-40\", \"20-40\", \"50-60\", \"20-40\", \"50-60\", \"20-40\", \"40-50\", \"0-20\", \"20-40\", \"20-40\", \"20-40\", \"50-60\", \"40-50\", \"20-40\", \"20-40\", \"40-50\", \"20-40\", \"50-60\", \"20-40\", \"20-40\", \"40-50\", \"20-40\", \"40-50\", \"20-40\", \"20-40\", \"50-60\", \"20-40\", \"60-73\", \"20-40\", \"20-40\", \"20-40\", \"20-40\", \"0-20\", \"20-40\", \"50-60\", \"20-40\", \"40-50\", \"40-50\", \"60-73\", \"0-20\", \"40-50\", \"20-40\", \"20-40\", \"20-40\", \"20-40\", \"40-50\", \"20-40\", \"20-40\", \"20-40\", \"0-20\", \"20-40\", \"50-60\", \"20-40\", \"60-73\", \"60-73\", \"40-50\", \"0-20\", \"20-40\", \"20-40\", \"40-50\", \"40-50\", \"40-50\", \"40-50\", \"20-40\", \"40-50\", \"40-50\", \"20-40\", \"20-40\", \"20-40\", \"40-50\", \"50-60\", \"40-50\", \"20-40\", \"0-20\", \"20-40\", \"20-40\", \"20-40\", \"20-40\", \"50-60\", \"20-40\", \"20-40\", \"20-40\", \"20-40\", \"20-40\", \"20-40\", \"40-50\", \"40-50\", \"0-20\", \"20-40\", \"0-20\", \"50-60\", \"20-40\", \"20-40\", \"20-40\", \"20-40\", \"20-40\", \"20-40\", \"20-40\", \"20-40\", \"40-50\", \"60-73\", \"40-50\", \"40-50\", \"20-40\", \"20-40\", \"50-60\", \"40-50\", \"20-40\", \"20-40\", \"20-40\", \"40-50\", \"50-60\", \"20-40\", \"50-60\", \"50-60\", \"20-40\", \"20-40\", \"20-40\", \"20-40\", \"50-60\", \"20-40\", \"20-40\", \"40-50\", \"20-40\", \"20-40\", \"20-40\", \"20-40\", \"20-40\", \"20-40\", \"20-40\", \"20-40\", \"20-40\", \"50-60\", \"60-73\", \"20-40\", \"20-40\", \"20-40\", \"20-40\", \"20-40\", \"20-40\", \"20-40\", \"20-40\", \"20-40\", \"0-20\", \"20-40\", \"40-50\", \"40-50\", \"20-40\", \"20-40\", \"20-40\", \"40-50\", \"20-40\", \"40-50\", \"40-50\", \"20-40\", \"40-50\", \"20-40\", \"20-40\", \"20-40\", \"40-50\", \"60-73\", \"20-40\", \"20-40\", \"20-40\", \"20-40\", \"50-60\", \"0-20\", \"60-73\", \"20-40\", \"50-60\", \"40-50\", \"20-40\", \"20-40\", \"20-40\", \"20-40\", \"20-40\", \"0-20\", \"40-50\", \"20-40\", \"40-50\", \"50-60\", \"20-40\", \"0-20\", \"40-50\", \"60-73\", \"20-40\", \"20-40\", \"40-50\", \"20-40\", \"20-40\", \"20-40\", \"20-40\", \"20-40\", \"40-50\", \"20-40\", \"20-40\", \"60-73\", \"40-50\", \"20-40\", \"20-40\", \"40-50\", \"40-50\", \"20-40\", \"20-40\", \"20-40\", \"50-60\", \"0-20\", \"50-60\", \"20-40\", \"40-50\", \"20-40\", \"20-40\", \"0-20\", \"20-40\", \"20-40\", \"20-40\", \"0-20\", \"20-40\", \"20-40\", \"40-50\", \"20-40\", \"40-50\", \"0-20\", \"20-40\", \"20-40\", \"20-40\", \"40-50\", \"20-40\", \"20-40\", \"20-40\", \"40-50\", \"20-40\", \"20-40\", \"50-60\", \"60-73\", \"20-40\", \"60-73\", \"40-50\", \"20-40\", \"20-40\", \"20-40\", \"50-60\", \"40-50\", \"20-40\", \"20-40\", \"20-40\", \"50-60\", \"20-40\", \"40-50\", \"40-50\", \"20-40\", \"20-40\", \"20-40\", \"50-60\", \"40-50\", \"20-40\", \"20-40\", \"20-40\", \"40-50\", \"20-40\", \"20-40\", \"20-40\", \"20-40\", \"0-20\", \"50-60\", \"50-60\", \"20-40\", \"20-40\", \"20-40\", \"20-40\", \"40-50\", \"20-40\", \"20-40\", \"20-40\", \"0-20\", \"40-50\", \"20-40\", \"20-40\", \"20-40\", \"20-40\", \"40-50\", \"20-40\", \"20-40\", \"60-73\", \"20-40\", \"60-73\", \"20-40\", \"40-50\", \"20-40\", \"20-40\", \"20-40\", \"40-50\", \"20-40\", \"20-40\", \"50-60\", \"20-40\", \"20-40\", \"40-50\", \"20-40\", \"20-40\", \"40-50\", \"20-40\", \"20-40\", \"20-40\", \"20-40\", \"40-50\", \"20-40\", \"20-40\", \"40-50\", \"40-50\", \"40-50\", \"0-20\", \"40-50\", \"20-40\", \"20-40\", \"20-40\", \"40-50\", \"20-40\", \"40-50\", \"40-50\", \"20-40\", \"20-40\", \"50-60\", \"20-40\", \"40-50\", \"20-40\", \"40-50\", \"20-40\", \"40-50\", \"40-50\", \"20-40\", \"60-73\", \"40-50\", \"40-50\", \"40-50\", \"20-40\", \"60-73\", \"20-40\", \"20-40\", \"20-40\", \"20-40\", \"20-40\", \"20-40\", \"60-73\", \"20-40\", \"20-40\", \"20-40\", \"20-40\", \"20-40\", \"50-60\", \"40-50\", \"40-50\", \"40-50\", \"60-73\", \"20-40\", \"40-50\", \"20-40\", \"40-50\", \"20-40\", \"20-40\", \"50-60\", \"50-60\", \"20-40\", \"50-60\", \"20-40\", \"20-40\", \"20-40\", \"0-20\", \"50-60\", \"50-60\", \"20-40\", \"20-40\", \"20-40\", \"50-60\", \"20-40\", \"20-40\", \"20-40\", \"20-40\", \"20-40\", \"20-40\", \"50-60\", \"40-50\", \"40-50\", \"20-40\", \"20-40\", \"20-40\", \"20-40\", \"20-40\", \"20-40\", \"20-40\", \"50-60\", \"40-50\", \"60-73\", \"20-40\", \"20-40\", \"50-60\", \"0-20\", \"20-40\", \"20-40\", \"40-50\", \"40-50\", \"20-40\", \"50-60\", \"20-40\", \"40-50\", \"20-40\", \"20-40\", \"20-40\", \"50-60\", \"0-20\", \"20-40\", \"40-50\", \"50-60\", \"40-50\", \"20-40\", \"0-20\", \"20-40\", \"40-50\", \"20-40\", \"40-50\", \"20-40\", \"40-50\", \"20-40\", \"40-50\", \"20-40\", \"20-40\", \"20-40\", \"20-40\", \"20-40\", \"20-40\", \"40-50\", \"20-40\", \"20-40\", \"0-20\", \"20-40\", \"20-40\", \"20-40\", \"20-40\", \"20-40\", \"20-40\", \"40-50\", \"20-40\", \"40-50\", \"60-73\", \"0-20\", \"0-20\", \"50-60\", \"20-40\", \"40-50\", \"20-40\", \"20-40\", \"20-40\", \"0-20\", \"20-40\", \"20-40\", \"40-50\", \"40-50\", \"20-40\", \"0-20\", \"20-40\", \"20-40\", \"20-40\", \"20-40\", \"20-40\", \"50-60\", \"20-40\", \"40-50\", \"0-20\", \"20-40\", \"20-40\", \"50-60\", \"20-40\", \"50-60\", \"20-40\", \"50-60\", \"20-40\", \"20-40\", \"40-50\", \"20-40\", \"20-40\", \"20-40\", \"60-73\", \"20-40\", \"50-60\", \"20-40\", \"40-50\", \"20-40\", \"20-40\", \"50-60\", \"20-40\", \"20-40\", \"40-50\", \"20-40\", \"50-60\", \"20-40\", \"20-40\", \"20-40\", \"20-40\", \"0-20\", \"20-40\", \"60-73\", \"20-40\", \"20-40\", \"20-40\", \"20-40\", \"50-60\", \"20-40\", \"50-60\", \"20-40\", \"20-40\", \"20-40\", \"0-20\", \"20-40\", \"20-40\", \"0-20\", \"20-40\", \"20-40\", \"40-50\", \"20-40\", \"20-40\", \"50-60\", \"20-40\", \"40-50\", \"0-20\", \"0-20\", \"20-40\", \"20-40\", \"20-40\", \"60-73\", \"20-40\", \"20-40\", \"0-20\", \"40-50\", \"50-60\", \"20-40\", \"20-40\", \"50-60\", \"60-73\", \"20-40\", \"0-20\", \"20-40\", \"20-40\", \"20-40\", \"50-60\", \"50-60\", \"20-40\", \"20-40\", \"40-50\", \"20-40\", \"20-40\", \"20-40\", \"20-40\", \"20-40\", \"20-40\", \"50-60\", \"20-40\", \"40-50\", \"0-20\", \"20-40\", \"40-50\", \"20-40\", \"20-40\", \"20-40\", \"20-40\", \"40-50\", \"20-40\", \"60-73\", \"60-73\", \"20-40\", \"50-60\", \"20-40\", \"60-73\", \"40-50\", \"20-40\", \"20-40\", \"40-50\", \"50-60\", \"40-50\", \"20-40\", \"20-40\", \"20-40\", \"40-50\", \"20-40\", \"20-40\", \"20-40\", \"20-40\", \"40-50\", \"20-40\", \"20-40\", \"50-60\", \"20-40\", \"20-40\", \"0-20\", \"20-40\", \"20-40\", \"20-40\", \"20-40\", \"20-40\", \"20-40\", \"20-40\", \"20-40\", \"20-40\", \"40-50\", \"0-20\", \"40-50\", \"0-20\", \"20-40\", \"20-40\", \"40-50\", \"20-40\", \"0-20\", \"20-40\", \"20-40\", \"0-20\", \"60-73\", \"0-20\", \"40-50\", \"40-50\", \"60-73\", \"20-40\", \"60-73\", \"20-40\", \"60-73\", \"20-40\", \"20-40\", \"20-40\", \"20-40\", \"20-40\", \"40-50\", \"0-20\", \"20-40\", \"60-73\", \"20-40\", \"20-40\", \"50-60\", \"20-40\", \"20-40\", \"40-50\", \"20-40\", \"20-40\", \"20-40\", \"40-50\", \"20-40\", \"20-40\", \"20-40\", \"20-40\", \"50-60\", \"40-50\", \"40-50\", \"20-40\", \"50-60\", \"20-40\", \"20-40\", \"20-40\", \"20-40\", \"40-50\", \"0-20\", \"20-40\", \"40-50\", \"20-40\", \"0-20\", \"20-40\", \"20-40\", \"40-50\", \"20-40\", \"20-40\", \"50-60\", \"50-60\", \"20-40\", \"20-40\", \"20-40\", \"20-40\", \"20-40\", \"20-40\", \"20-40\", \"20-40\", \"20-40\", \"20-40\", \"40-50\", \"40-50\", \"20-40\", \"20-40\", \"20-40\", \"20-40\", \"20-40\", \"20-40\", \"20-40\", \"20-40\", \"40-50\", \"20-40\", \"20-40\", \"20-40\", \"20-40\", \"20-40\", \"0-20\", \"0-20\", \"20-40\", \"40-50\", \"50-60\", \"20-40\", \"0-20\", \"0-20\", \"60-73\", \"0-20\", \"20-40\", \"20-40\", \"0-20\", \"60-73\", \"20-40\", \"20-40\", \"20-40\", \"40-50\", \"20-40\", \"20-40\", \"20-40\", \"60-73\", \"0-20\", \"20-40\", \"20-40\", \"20-40\", \"20-40\", \"20-40\", \"40-50\", \"20-40\", \"20-40\", \"20-40\", \"20-40\", \"20-40\", \"40-50\", \"20-40\", \"20-40\", \"0-20\", \"20-40\", \"20-40\", \"20-40\", \"20-40\", \"20-40\", \"20-40\", \"0-20\", \"0-20\", \"20-40\", \"60-73\", \"20-40\", \"60-73\", \"40-50\", \"20-40\", \"20-40\", \"20-40\", \"20-40\", \"60-73\", \"40-50\", \"50-60\", \"20-40\", \"20-40\", \"20-40\", \"20-40\", \"40-50\", \"20-40\", \"20-40\", \"60-73\", \"20-40\", \"20-40\", \"20-40\", \"50-60\", \"20-40\", \"0-20\", \"20-40\", \"20-40\", \"40-50\", \"50-60\", \"20-40\", \"60-73\", \"40-50\", \"20-40\", \"20-40\", \"20-40\", \"50-60\", \"40-50\", \"40-50\", \"20-40\", \"20-40\", \"0-20\", \"50-60\", \"40-50\", \"20-40\", \"20-40\", \"0-20\", \"60-73\", \"20-40\", \"40-50\", \"40-50\", \"20-40\", \"20-40\", \"20-40\", \"20-40\", \"20-40\", \"60-73\", \"20-40\", \"40-50\", \"0-20\", \"20-40\", \"40-50\", \"40-50\", \"20-40\", \"50-60\", \"40-50\", \"40-50\", \"50-60\", \"0-20\", \"40-50\", \"20-40\", \"20-40\", \"40-50\", \"40-50\", \"20-40\", \"20-40\", \"20-40\", \"20-40\", \"50-60\", \"40-50\", \"20-40\", \"20-40\", \"20-40\", \"40-50\", \"0-20\", \"0-20\", \"20-40\", \"40-50\", \"20-40\", \"40-50\", \"50-60\", \"20-40\", \"40-50\", \"20-40\", \"20-40\", \"20-40\", \"20-40\", \"20-40\", \"20-40\", \"50-60\", \"50-60\", \"20-40\", \"20-40\", \"20-40\", \"20-40\", \"20-40\", \"0-20\", \"20-40\", \"20-40\", \"20-40\", \"50-60\", \"20-40\", \"40-50\", \"40-50\", \"40-50\", \"40-50\", \"40-50\", \"20-40\", \"40-50\", \"20-40\", \"20-40\", \"20-40\", \"20-40\", \"0-20\", \"20-40\", \"20-40\", \"60-73\", \"20-40\", \"20-40\", \"20-40\", \"20-40\", \"20-40\", \"20-40\", \"20-40\", \"20-40\", \"20-40\", \"20-40\", \"40-50\", \"50-60\", \"40-50\", \"20-40\", \"20-40\", \"20-40\", \"20-40\", \"40-50\", \"60-73\", \"20-40\", \"20-40\", \"0-20\", \"20-40\", \"0-20\", \"40-50\", \"50-60\", \"20-40\", \"20-40\", \"20-40\", \"40-50\", \"0-20\", \"20-40\", \"20-40\", \"20-40\", \"20-40\", \"50-60\", \"40-50\", \"0-20\", \"0-20\", \"20-40\", \"40-50\", \"20-40\", \"20-40\", \"50-60\", \"20-40\", \"20-40\", \"60-73\", \"20-40\", \"40-50\", \"20-40\", \"20-40\", \"20-40\", \"20-40\", \"0-20\", \"40-50\", \"20-40\", \"0-20\", \"40-50\", \"20-40\", \"20-40\", \"50-60\", \"20-40\", \"20-40\", \"50-60\", \"50-60\", \"40-50\", \"50-60\", \"20-40\", \"20-40\", \"40-50\", \"50-60\", \"20-40\", \"40-50\", \"50-60\", \"40-50\", \"40-50\", \"60-73\", \"20-40\", \"0-20\", \"20-40\", \"40-50\", \"20-40\", \"0-20\", \"40-50\", \"20-40\", \"20-40\", \"20-40\", \"50-60\", \"20-40\", \"20-40\", \"20-40\", \"40-50\", \"20-40\", \"20-40\", \"50-60\", \"20-40\", \"20-40\", \"50-60\", \"20-40\", \"20-40\", \"20-40\", \"20-40\", \"50-60\", \"0-20\", \"0-20\", \"40-50\", \"20-40\", \"40-50\", \"40-50\", \"20-40\", \"20-40\", \"40-50\", \"0-20\", \"20-40\", \"40-50\", \"20-40\", \"0-20\", \"20-40\", \"0-20\", \"20-40\", \"20-40\", \"20-40\", \"20-40\", \"20-40\", \"20-40\", \"20-40\", \"20-40\", \"20-40\", \"20-40\", \"20-40\", \"40-50\", \"40-50\", \"20-40\", \"20-40\", \"0-20\", \"20-40\", \"50-60\", \"40-50\", \"20-40\", \"20-40\", \"20-40\", \"0-20\", \"40-50\", \"20-40\", \"20-40\", \"40-50\", \"20-40\", \"20-40\", \"60-73\", \"20-40\", \"0-20\", \"20-40\", \"20-40\", \"20-40\", \"50-60\", \"20-40\", \"20-40\", \"40-50\", \"20-40\", \"20-40\", \"20-40\", \"50-60\", \"20-40\", \"40-50\", \"50-60\", \"20-40\", \"20-40\", \"40-50\", \"20-40\", \"50-60\", \"20-40\", \"40-50\", \"20-40\", \"20-40\", \"40-50\", \"20-40\", \"40-50\", \"20-40\", \"20-40\", \"20-40\", \"20-40\", \"20-40\", \"40-50\", \"40-50\", \"20-40\", \"20-40\", \"20-40\", \"20-40\", \"50-60\", \"60-73\", \"20-40\", \"20-40\", \"20-40\", \"0-20\", \"40-50\", \"20-40\", \"50-60\", \"40-50\", \"20-40\", \"20-40\", \"20-40\", \"0-20\", \"20-40\", \"50-60\", \"20-40\", \"40-50\", \"20-40\", \"20-40\", \"20-40\", \"40-50\", \"20-40\", \"20-40\", \"20-40\", \"20-40\", \"20-40\", \"20-40\", \"20-40\", \"20-40\", \"0-20\", \"20-40\", \"40-50\", \"50-60\", \"40-50\", \"50-60\", \"20-40\", \"20-40\", \"20-40\", \"20-40\", \"20-40\", \"20-40\", \"40-50\", \"20-40\", \"20-40\", \"20-40\", \"20-40\", \"20-40\", \"20-40\", \"40-50\", \"50-60\", \"20-40\", \"20-40\", \"20-40\", \"20-40\", \"20-40\", \"20-40\", \"50-60\", \"20-40\", \"20-40\", \"20-40\", \"40-50\", \"20-40\", \"40-50\", \"20-40\", \"20-40\", \"40-50\", \"20-40\", \"40-50\", \"20-40\", \"20-40\", \"40-50\", \"20-40\", \"60-73\", \"0-20\", \"20-40\", \"40-50\", \"20-40\", \"40-50\", \"20-40\", \"20-40\", \"50-60\", \"20-40\", \"40-50\", \"40-50\", \"40-50\", \"20-40\", \"20-40\", \"40-50\", \"0-20\", \"20-40\", \"40-50\", \"50-60\", \"20-40\", \"20-40\", \"50-60\", \"20-40\", \"20-40\", \"20-40\", \"20-40\", \"20-40\", \"60-73\", \"20-40\", \"20-40\", \"50-60\", \"20-40\", \"40-50\", \"20-40\", \"20-40\", \"20-40\", \"20-40\", \"20-40\", \"20-40\", \"20-40\", \"20-40\", \"40-50\", \"40-50\", \"50-60\", \"40-50\", \"20-40\", \"20-40\", \"20-40\", \"50-60\", \"20-40\", \"20-40\", \"20-40\", \"20-40\", \"0-20\", \"0-20\", \"50-60\", \"40-50\", \"40-50\", \"20-40\", \"40-50\", \"20-40\", \"20-40\", \"20-40\", \"20-40\", \"40-50\", \"20-40\", \"40-50\", \"20-40\", \"50-60\", \"40-50\", \"20-40\", \"50-60\", \"20-40\", \"40-50\", \"40-50\", \"20-40\", \"60-73\", \"20-40\", \"20-40\", \"50-60\", \"20-40\", \"20-40\", \"20-40\", \"20-40\", \"20-40\", \"20-40\", \"50-60\", \"20-40\", \"40-50\", \"40-50\", \"50-60\", \"40-50\", \"20-40\", \"20-40\", \"50-60\", \"20-40\", \"20-40\", \"40-50\", \"20-40\", \"60-73\", \"20-40\", \"20-40\", \"20-40\", \"50-60\", \"40-50\", \"20-40\", \"20-40\", \"0-20\", \"20-40\", \"40-50\", \"20-40\", \"20-40\", \"20-40\", \"0-20\", \"20-40\", \"20-40\", \"60-73\", \"0-20\", \"20-40\", \"0-20\", \"20-40\", \"40-50\", \"0-20\", \"0-20\", \"20-40\", \"20-40\", \"50-60\", \"20-40\", \"40-50\", \"0-20\", \"20-40\", \"20-40\", \"0-20\", \"20-40\", \"20-40\", \"20-40\", \"40-50\", \"20-40\", \"0-20\", \"60-73\", \"20-40\", \"20-40\", \"40-50\", \"40-50\", \"20-40\", \"40-50\", \"50-60\", \"20-40\", \"20-40\", \"0-20\", \"40-50\", \"40-50\", \"20-40\", \"0-20\", \"20-40\", \"60-73\", \"60-73\", \"20-40\", \"50-60\", \"20-40\", \"60-73\", \"40-50\", \"20-40\", \"20-40\", \"50-60\", \"20-40\", \"20-40\", \"20-40\", \"40-50\", \"20-40\", \"40-50\", \"20-40\", \"50-60\", \"0-20\", \"20-40\", \"20-40\", \"40-50\", \"60-73\", \"20-40\", \"40-50\", \"20-40\", \"20-40\", \"20-40\", \"20-40\", \"20-40\", \"60-73\", \"20-40\", \"20-40\", \"60-73\", \"20-40\", \"40-50\", \"40-50\", \"20-40\", \"0-20\", \"20-40\", \"40-50\", \"40-50\", \"50-60\", \"50-60\", \"20-40\", \"20-40\", \"50-60\", \"20-40\", \"20-40\", \"50-60\", \"20-40\", \"0-20\", \"40-50\", \"20-40\", \"20-40\", \"20-40\", \"20-40\", \"50-60\", \"20-40\", \"20-40\", \"20-40\", \"20-40\", \"40-50\", \"40-50\", \"50-60\", \"60-73\", \"20-40\", \"20-40\", \"20-40\", \"20-40\", \"40-50\", \"20-40\", \"20-40\", \"20-40\", \"40-50\", \"20-40\", \"40-50\", \"0-20\", \"20-40\", \"20-40\", \"20-40\", \"60-73\", \"20-40\", \"40-50\", \"0-20\", \"50-60\", \"20-40\", \"40-50\", \"50-60\", \"40-50\", \"0-20\", \"20-40\", \"50-60\", \"20-40\", \"40-50\", \"40-50\", \"20-40\", \"20-40\", \"50-60\", \"20-40\", \"50-60\", \"0-20\", \"20-40\", \"20-40\", \"20-40\", \"60-73\", \"20-40\", \"20-40\", \"20-40\", \"0-20\", \"20-40\", \"40-50\", \"50-60\", \"20-40\", \"20-40\", \"20-40\", \"20-40\", \"50-60\", \"20-40\", \"20-40\", \"50-60\", \"60-73\", \"20-40\", \"20-40\", \"50-60\", \"20-40\", \"20-40\", \"20-40\", \"40-50\", \"40-50\", \"20-40\", \"0-20\", \"20-40\", \"20-40\", \"40-50\", \"20-40\", \"20-40\", \"40-50\", \"40-50\", \"20-40\", \"20-40\", \"20-40\", \"40-50\", \"40-50\", \"20-40\", \"0-20\", \"0-20\", \"20-40\", \"20-40\", \"20-40\", \"20-40\", \"50-60\", \"20-40\", \"20-40\", \"20-40\", \"50-60\", \"20-40\", \"20-40\", \"50-60\", \"20-40\", \"20-40\", \"40-50\", \"40-50\", \"20-40\", \"40-50\", \"0-20\", \"20-40\", \"50-60\", \"20-40\", \"50-60\", \"60-73\", \"20-40\", \"60-73\", \"60-73\", \"20-40\", \"40-50\", \"20-40\", \"20-40\", \"0-20\", \"20-40\", \"20-40\", \"20-40\", \"20-40\", \"20-40\", \"40-50\", \"20-40\", \"20-40\", \"20-40\", \"20-40\", \"20-40\", \"20-40\", \"50-60\", \"20-40\", \"50-60\", \"20-40\", \"40-50\", \"20-40\", \"20-40\", \"40-50\", \"50-60\", \"0-20\", \"20-40\", \"20-40\", \"50-60\", \"0-20\", \"20-40\", \"20-40\", \"20-40\", \"60-73\", \"50-60\", \"20-40\", \"20-40\", \"20-40\", \"20-40\", \"20-40\", \"20-40\", \"20-40\", \"20-40\", \"20-40\", \"20-40\", \"20-40\", \"20-40\", \"20-40\", \"50-60\", \"20-40\", \"20-40\", \"20-40\", \"20-40\", \"20-40\", \"20-40\", \"20-40\", \"40-50\", \"20-40\", \"20-40\", \"40-50\", \"50-60\", \"40-50\", \"0-20\", \"20-40\", \"20-40\", \"40-50\", \"20-40\", \"20-40\", \"60-73\", \"40-50\", \"20-40\", \"20-40\", \"40-50\", \"20-40\", \"20-40\", \"20-40\", \"20-40\", \"60-73\", \"20-40\", \"20-40\", \"50-60\", \"20-40\", \"40-50\", \"40-50\", \"20-40\", \"20-40\", \"40-50\", \"20-40\", \"50-60\", \"20-40\", \"20-40\", \"20-40\", \"20-40\", \"40-50\", \"50-60\", \"20-40\", \"40-50\", \"20-40\", \"0-20\", \"20-40\", \"20-40\", \"20-40\", \"20-40\", \"60-73\", \"20-40\", \"20-40\", \"40-50\", \"20-40\", \"20-40\", \"50-60\", \"0-20\", \"20-40\", \"20-40\", \"20-40\", \"20-40\", \"20-40\", \"50-60\", \"20-40\", \"20-40\", \"20-40\", \"20-40\", \"40-50\", \"20-40\", \"20-40\", \"20-40\", \"20-40\", \"20-40\", \"20-40\", \"20-40\", \"40-50\", \"50-60\", \"50-60\", \"0-20\", \"40-50\", \"20-40\", \"20-40\", \"20-40\", \"20-40\", \"20-40\", \"20-40\", \"40-50\", \"40-50\", \"50-60\", \"20-40\", \"20-40\", \"20-40\", \"20-40\", \"50-60\", \"50-60\", \"20-40\", \"20-40\", \"20-40\", \"60-73\", \"60-73\", \"50-60\", \"0-20\", \"20-40\", \"0-20\", \"20-40\", \"20-40\", \"20-40\", \"0-20\", \"20-40\", \"20-40\", \"20-40\", \"50-60\", \"20-40\", \"40-50\", \"40-50\", \"40-50\", \"20-40\", \"0-20\", \"20-40\", \"60-73\", \"50-60\", \"40-50\", \"40-50\", \"40-50\", \"20-40\", \"20-40\", \"40-50\", \"40-50\", \"60-73\", \"50-60\", \"60-73\", \"20-40\", \"20-40\", \"20-40\", \"20-40\", \"20-40\", \"40-50\", \"20-40\", \"20-40\", \"40-50\", \"60-73\", \"0-20\", \"20-40\", \"50-60\", \"20-40\", \"20-40\", \"20-40\", \"20-40\", \"20-40\", \"20-40\", \"20-40\", \"40-50\", \"20-40\", \"20-40\", \"20-40\", \"40-50\", \"20-40\", \"20-40\", \"20-40\", \"40-50\", \"60-73\", \"20-40\", \"20-40\", \"20-40\", \"50-60\", \"50-60\", \"20-40\", \"40-50\", \"20-40\", \"20-40\", \"20-40\", \"60-73\", \"50-60\", \"50-60\", \"20-40\", \"20-40\", \"20-40\", \"0-20\", \"20-40\", \"40-50\", \"40-50\", \"50-60\", \"20-40\", \"20-40\", \"20-40\", \"20-40\", \"20-40\", \"20-40\", \"20-40\", \"0-20\", \"50-60\", \"20-40\", \"20-40\", \"20-40\", \"20-40\", \"20-40\", \"50-60\", \"40-50\", \"20-40\", \"0-20\", \"20-40\", \"20-40\", \"20-40\", \"40-50\", \"20-40\", \"20-40\", \"20-40\", \"50-60\", \"0-20\", \"20-40\", \"20-40\", \"0-20\", \"40-50\", \"20-40\", \"20-40\", \"20-40\", \"20-40\", \"50-60\", \"20-40\", \"20-40\", \"20-40\", \"40-50\", \"20-40\", \"20-40\", \"20-40\", \"20-40\", \"40-50\", \"40-50\", \"20-40\", \"40-50\", \"50-60\", \"20-40\", \"40-50\", \"50-60\", \"50-60\", \"20-40\", \"40-50\", \"20-40\", \"40-50\", \"20-40\", \"60-73\", \"0-20\", \"0-20\", \"40-50\", \"50-60\", \"20-40\", \"40-50\", \"20-40\", \"20-40\", \"0-20\", \"20-40\", \"20-40\", \"20-40\", \"50-60\", \"20-40\", \"20-40\", \"20-40\", \"20-40\", \"20-40\", \"20-40\", \"20-40\", \"20-40\", \"20-40\", \"20-40\", \"20-40\", \"20-40\", \"0-20\", \"20-40\", \"20-40\", \"40-50\", \"20-40\", \"40-50\", \"20-40\", \"20-40\", \"20-40\", \"0-20\", \"20-40\", \"20-40\", \"0-20\", \"50-60\", \"50-60\", \"20-40\", \"40-50\", \"0-20\", \"40-50\", \"50-60\", \"20-40\", \"20-40\", \"20-40\", \"40-50\", \"50-60\", \"20-40\", \"20-40\", \"40-50\", \"20-40\", \"60-73\", \"40-50\", \"40-50\", \"20-40\", \"40-50\", \"20-40\", \"20-40\", \"20-40\", \"50-60\", \"20-40\", \"20-40\", \"40-50\", \"0-20\", \"20-40\", \"50-60\", \"60-73\", \"20-40\", \"50-60\", \"0-20\", \"20-40\", \"20-40\", \"20-40\", \"20-40\", \"20-40\", \"20-40\", \"20-40\", \"20-40\", \"0-20\", \"20-40\", \"20-40\", \"20-40\", \"20-40\", \"0-20\", \"20-40\", \"0-20\", \"20-40\", \"20-40\", \"20-40\", \"20-40\", \"20-40\", \"20-40\", \"20-40\", \"40-50\", \"40-50\", \"40-50\", \"20-40\", \"20-40\", \"20-40\", \"60-73\", \"20-40\", \"20-40\", \"20-40\", \"20-40\", \"20-40\", \"20-40\", \"20-40\", \"20-40\", \"20-40\", \"40-50\", \"20-40\", \"20-40\", \"50-60\", \"20-40\", \"20-40\", \"40-50\", \"40-50\", \"20-40\", \"20-40\", \"20-40\", \"20-40\", \"40-50\", \"20-40\", \"60-73\", \"40-50\", \"40-50\", \"20-40\", \"20-40\", \"20-40\", \"20-40\", \"0-20\", \"20-40\", \"20-40\", \"40-50\", \"0-20\", \"20-40\", \"50-60\", \"0-20\", \"40-50\", \"20-40\", \"60-73\", \"50-60\", \"20-40\", \"20-40\", \"40-50\", \"20-40\", \"20-40\", \"0-20\", \"20-40\", \"40-50\", \"40-50\", \"20-40\", \"20-40\", \"40-50\", \"20-40\", \"0-20\", \"50-60\", \"50-60\", \"20-40\", \"40-50\", \"20-40\", \"40-50\", \"20-40\", \"20-40\", \"40-50\", \"20-40\", \"50-60\", \"20-40\", \"0-20\", \"60-73\", \"20-40\", \"20-40\", \"60-73\", \"20-40\", \"60-73\", \"20-40\", \"20-40\", \"60-73\", \"50-60\", \"20-40\", \"20-40\", \"20-40\", \"20-40\", \"20-40\", \"40-50\", \"50-60\", \"0-20\", \"0-20\", \"20-40\", \"20-40\", \"20-40\", \"20-40\", \"20-40\", \"20-40\", \"50-60\", \"20-40\", \"20-40\", \"20-40\", \"20-40\", \"50-60\", \"20-40\", \"20-40\", \"40-50\", \"20-40\", \"20-40\", \"40-50\", \"20-40\", \"20-40\", \"20-40\", \"20-40\", \"20-40\", \"20-40\", \"20-40\", \"20-40\", \"40-50\", \"40-50\", \"20-40\", \"50-60\", \"60-73\", \"20-40\", \"20-40\", \"40-50\", \"20-40\", \"20-40\", \"20-40\", \"40-50\", \"20-40\", \"20-40\", \"20-40\", \"20-40\", \"20-40\", \"50-60\", \"40-50\", \"60-73\", \"40-50\", \"20-40\", \"40-50\", \"20-40\", \"20-40\", \"20-40\", \"50-60\", \"20-40\", \"20-40\", \"20-40\", \"0-20\", \"20-40\", \"40-50\", \"20-40\", \"20-40\", \"50-60\", \"0-20\", \"20-40\", \"40-50\", \"40-50\", \"20-40\", \"40-50\", \"50-60\", \"20-40\", \"40-50\", \"20-40\", \"20-40\", \"20-40\", \"20-40\", \"40-50\", \"40-50\", \"20-40\", \"20-40\", \"20-40\", \"40-50\", \"20-40\", \"20-40\", \"20-40\", \"60-73\", \"20-40\", \"20-40\", \"60-73\", \"20-40\", \"40-50\", \"20-40\", \"50-60\", \"20-40\", \"20-40\", \"20-40\", \"20-40\", \"20-40\", \"20-40\", \"40-50\", \"0-20\", \"20-40\", \"50-60\", \"40-50\", \"20-40\", \"20-40\", \"50-60\", \"20-40\", \"20-40\", \"20-40\", \"20-40\", \"20-40\", \"20-40\", \"40-50\", \"40-50\", \"40-50\", \"20-40\", \"50-60\", \"20-40\", \"20-40\", \"20-40\", \"20-40\", \"20-40\", \"40-50\", \"20-40\", \"20-40\", \"40-50\", \"20-40\", \"20-40\", \"20-40\", \"20-40\", \"20-40\", \"20-40\", \"60-73\", \"20-40\", \"20-40\", \"20-40\", \"20-40\", \"20-40\"], \"xaxis\": \"x\", \"yaxis\": \"y\"}],\n",
              "                        {\"barmode\": \"relative\", \"legend\": {\"tracegroupgap\": 0}, \"margin\": {\"t\": 60}, \"template\": {\"data\": {\"bar\": [{\"error_x\": {\"color\": \"#2a3f5f\"}, \"error_y\": {\"color\": \"#2a3f5f\"}, \"marker\": {\"line\": {\"color\": \"#E5ECF6\", \"width\": 0.5}}, \"type\": \"bar\"}], \"barpolar\": [{\"marker\": {\"line\": {\"color\": \"#E5ECF6\", \"width\": 0.5}}, \"type\": \"barpolar\"}], \"carpet\": [{\"aaxis\": {\"endlinecolor\": \"#2a3f5f\", \"gridcolor\": \"white\", \"linecolor\": \"white\", \"minorgridcolor\": \"white\", \"startlinecolor\": \"#2a3f5f\"}, \"baxis\": {\"endlinecolor\": \"#2a3f5f\", \"gridcolor\": \"white\", \"linecolor\": \"white\", \"minorgridcolor\": \"white\", \"startlinecolor\": \"#2a3f5f\"}, \"type\": \"carpet\"}], \"choropleth\": [{\"colorbar\": {\"outlinewidth\": 0, \"ticks\": \"\"}, \"type\": \"choropleth\"}], \"contour\": [{\"colorbar\": {\"outlinewidth\": 0, \"ticks\": \"\"}, \"colorscale\": [[0.0, \"#0d0887\"], [0.1111111111111111, \"#46039f\"], [0.2222222222222222, \"#7201a8\"], [0.3333333333333333, \"#9c179e\"], [0.4444444444444444, \"#bd3786\"], [0.5555555555555556, \"#d8576b\"], [0.6666666666666666, \"#ed7953\"], [0.7777777777777778, \"#fb9f3a\"], [0.8888888888888888, \"#fdca26\"], [1.0, \"#f0f921\"]], \"type\": \"contour\"}], \"contourcarpet\": [{\"colorbar\": {\"outlinewidth\": 0, \"ticks\": \"\"}, \"type\": \"contourcarpet\"}], \"heatmap\": [{\"colorbar\": {\"outlinewidth\": 0, \"ticks\": \"\"}, \"colorscale\": [[0.0, \"#0d0887\"], [0.1111111111111111, \"#46039f\"], [0.2222222222222222, \"#7201a8\"], [0.3333333333333333, \"#9c179e\"], [0.4444444444444444, \"#bd3786\"], [0.5555555555555556, \"#d8576b\"], [0.6666666666666666, \"#ed7953\"], [0.7777777777777778, \"#fb9f3a\"], [0.8888888888888888, \"#fdca26\"], [1.0, \"#f0f921\"]], \"type\": \"heatmap\"}], \"heatmapgl\": [{\"colorbar\": {\"outlinewidth\": 0, \"ticks\": \"\"}, \"colorscale\": [[0.0, \"#0d0887\"], [0.1111111111111111, \"#46039f\"], [0.2222222222222222, \"#7201a8\"], [0.3333333333333333, \"#9c179e\"], [0.4444444444444444, \"#bd3786\"], [0.5555555555555556, \"#d8576b\"], [0.6666666666666666, \"#ed7953\"], [0.7777777777777778, \"#fb9f3a\"], [0.8888888888888888, \"#fdca26\"], [1.0, \"#f0f921\"]], \"type\": \"heatmapgl\"}], \"histogram\": [{\"marker\": {\"colorbar\": {\"outlinewidth\": 0, \"ticks\": \"\"}}, \"type\": \"histogram\"}], \"histogram2d\": [{\"colorbar\": {\"outlinewidth\": 0, \"ticks\": \"\"}, \"colorscale\": [[0.0, \"#0d0887\"], [0.1111111111111111, \"#46039f\"], [0.2222222222222222, \"#7201a8\"], [0.3333333333333333, \"#9c179e\"], [0.4444444444444444, \"#bd3786\"], [0.5555555555555556, \"#d8576b\"], [0.6666666666666666, \"#ed7953\"], [0.7777777777777778, \"#fb9f3a\"], [0.8888888888888888, \"#fdca26\"], [1.0, \"#f0f921\"]], \"type\": \"histogram2d\"}], \"histogram2dcontour\": [{\"colorbar\": {\"outlinewidth\": 0, \"ticks\": \"\"}, \"colorscale\": [[0.0, \"#0d0887\"], [0.1111111111111111, \"#46039f\"], [0.2222222222222222, \"#7201a8\"], [0.3333333333333333, \"#9c179e\"], [0.4444444444444444, \"#bd3786\"], [0.5555555555555556, \"#d8576b\"], [0.6666666666666666, \"#ed7953\"], [0.7777777777777778, \"#fb9f3a\"], [0.8888888888888888, \"#fdca26\"], [1.0, \"#f0f921\"]], \"type\": \"histogram2dcontour\"}], \"mesh3d\": [{\"colorbar\": {\"outlinewidth\": 0, \"ticks\": \"\"}, \"type\": \"mesh3d\"}], \"parcoords\": [{\"line\": {\"colorbar\": {\"outlinewidth\": 0, \"ticks\": \"\"}}, \"type\": \"parcoords\"}], \"pie\": [{\"automargin\": true, \"type\": \"pie\"}], \"scatter\": [{\"marker\": {\"colorbar\": {\"outlinewidth\": 0, \"ticks\": \"\"}}, \"type\": \"scatter\"}], \"scatter3d\": [{\"line\": {\"colorbar\": {\"outlinewidth\": 0, \"ticks\": \"\"}}, \"marker\": {\"colorbar\": {\"outlinewidth\": 0, \"ticks\": \"\"}}, \"type\": \"scatter3d\"}], \"scattercarpet\": [{\"marker\": {\"colorbar\": {\"outlinewidth\": 0, \"ticks\": \"\"}}, \"type\": \"scattercarpet\"}], \"scattergeo\": [{\"marker\": {\"colorbar\": {\"outlinewidth\": 0, \"ticks\": \"\"}}, \"type\": \"scattergeo\"}], \"scattergl\": [{\"marker\": {\"colorbar\": {\"outlinewidth\": 0, \"ticks\": \"\"}}, \"type\": \"scattergl\"}], \"scattermapbox\": [{\"marker\": {\"colorbar\": {\"outlinewidth\": 0, \"ticks\": \"\"}}, \"type\": \"scattermapbox\"}], \"scatterpolar\": [{\"marker\": {\"colorbar\": {\"outlinewidth\": 0, \"ticks\": \"\"}}, \"type\": \"scatterpolar\"}], \"scatterpolargl\": [{\"marker\": {\"colorbar\": {\"outlinewidth\": 0, \"ticks\": \"\"}}, \"type\": \"scatterpolargl\"}], \"scatterternary\": [{\"marker\": {\"colorbar\": {\"outlinewidth\": 0, \"ticks\": \"\"}}, \"type\": \"scatterternary\"}], \"surface\": [{\"colorbar\": {\"outlinewidth\": 0, \"ticks\": \"\"}, \"colorscale\": [[0.0, \"#0d0887\"], [0.1111111111111111, \"#46039f\"], [0.2222222222222222, \"#7201a8\"], [0.3333333333333333, \"#9c179e\"], [0.4444444444444444, \"#bd3786\"], [0.5555555555555556, \"#d8576b\"], [0.6666666666666666, \"#ed7953\"], [0.7777777777777778, \"#fb9f3a\"], [0.8888888888888888, \"#fdca26\"], [1.0, \"#f0f921\"]], \"type\": \"surface\"}], \"table\": [{\"cells\": {\"fill\": {\"color\": \"#EBF0F8\"}, \"line\": {\"color\": \"white\"}}, \"header\": {\"fill\": {\"color\": \"#C8D4E3\"}, \"line\": {\"color\": \"white\"}}, \"type\": \"table\"}]}, \"layout\": {\"annotationdefaults\": {\"arrowcolor\": \"#2a3f5f\", \"arrowhead\": 0, \"arrowwidth\": 1}, \"coloraxis\": {\"colorbar\": {\"outlinewidth\": 0, \"ticks\": \"\"}}, \"colorscale\": {\"diverging\": [[0, \"#8e0152\"], [0.1, \"#c51b7d\"], [0.2, \"#de77ae\"], [0.3, \"#f1b6da\"], [0.4, \"#fde0ef\"], [0.5, \"#f7f7f7\"], [0.6, \"#e6f5d0\"], [0.7, \"#b8e186\"], [0.8, \"#7fbc41\"], [0.9, \"#4d9221\"], [1, \"#276419\"]], \"sequential\": [[0.0, \"#0d0887\"], [0.1111111111111111, \"#46039f\"], [0.2222222222222222, \"#7201a8\"], [0.3333333333333333, \"#9c179e\"], [0.4444444444444444, \"#bd3786\"], [0.5555555555555556, \"#d8576b\"], [0.6666666666666666, \"#ed7953\"], [0.7777777777777778, \"#fb9f3a\"], [0.8888888888888888, \"#fdca26\"], [1.0, \"#f0f921\"]], \"sequentialminus\": [[0.0, \"#0d0887\"], [0.1111111111111111, \"#46039f\"], [0.2222222222222222, \"#7201a8\"], [0.3333333333333333, \"#9c179e\"], [0.4444444444444444, \"#bd3786\"], [0.5555555555555556, \"#d8576b\"], [0.6666666666666666, \"#ed7953\"], [0.7777777777777778, \"#fb9f3a\"], [0.8888888888888888, \"#fdca26\"], [1.0, \"#f0f921\"]]}, \"colorway\": [\"#636efa\", \"#EF553B\", \"#00cc96\", \"#ab63fa\", \"#FFA15A\", \"#19d3f3\", \"#FF6692\", \"#B6E880\", \"#FF97FF\", \"#FECB52\"], \"font\": {\"color\": \"#2a3f5f\"}, \"geo\": {\"bgcolor\": \"white\", \"lakecolor\": \"white\", \"landcolor\": \"#E5ECF6\", \"showlakes\": true, \"showland\": true, \"subunitcolor\": \"white\"}, \"hoverlabel\": {\"align\": \"left\"}, \"hovermode\": \"closest\", \"mapbox\": {\"style\": \"light\"}, \"paper_bgcolor\": \"white\", \"plot_bgcolor\": \"#E5ECF6\", \"polar\": {\"angularaxis\": {\"gridcolor\": \"white\", \"linecolor\": \"white\", \"ticks\": \"\"}, \"bgcolor\": \"#E5ECF6\", \"radialaxis\": {\"gridcolor\": \"white\", \"linecolor\": \"white\", \"ticks\": \"\"}}, \"scene\": {\"xaxis\": {\"backgroundcolor\": \"#E5ECF6\", \"gridcolor\": \"white\", \"gridwidth\": 2, \"linecolor\": \"white\", \"showbackground\": true, \"ticks\": \"\", \"zerolinecolor\": \"white\"}, \"yaxis\": {\"backgroundcolor\": \"#E5ECF6\", \"gridcolor\": \"white\", \"gridwidth\": 2, \"linecolor\": \"white\", \"showbackground\": true, \"ticks\": \"\", \"zerolinecolor\": \"white\"}, \"zaxis\": {\"backgroundcolor\": \"#E5ECF6\", \"gridcolor\": \"white\", \"gridwidth\": 2, \"linecolor\": \"white\", \"showbackground\": true, \"ticks\": \"\", \"zerolinecolor\": \"white\"}}, \"shapedefaults\": {\"line\": {\"color\": \"#2a3f5f\"}}, \"ternary\": {\"aaxis\": {\"gridcolor\": \"white\", \"linecolor\": \"white\", \"ticks\": \"\"}, \"baxis\": {\"gridcolor\": \"white\", \"linecolor\": \"white\", \"ticks\": \"\"}, \"bgcolor\": \"#E5ECF6\", \"caxis\": {\"gridcolor\": \"white\", \"linecolor\": \"white\", \"ticks\": \"\"}}, \"title\": {\"x\": 0.05}, \"xaxis\": {\"automargin\": true, \"gridcolor\": \"white\", \"linecolor\": \"white\", \"ticks\": \"\", \"title\": {\"standoff\": 15}, \"zerolinecolor\": \"white\", \"zerolinewidth\": 2}, \"yaxis\": {\"automargin\": true, \"gridcolor\": \"white\", \"linecolor\": \"white\", \"ticks\": \"\", \"title\": {\"standoff\": 15}, \"zerolinecolor\": \"white\", \"zerolinewidth\": 2}}}, \"xaxis\": {\"anchor\": \"y\", \"domain\": [0.0, 1.0], \"title\": {\"text\": \"age_bin\"}}, \"yaxis\": {\"anchor\": \"x\", \"domain\": [0.0, 1.0], \"title\": {\"text\": \"count\"}}},\n",
              "                        {\"responsive\": true}\n",
              "                    ).then(function(){\n",
              "                            \n",
              "var gd = document.getElementById('18250d95-04da-4441-a045-360b20f20355');\n",
              "var x = new MutationObserver(function (mutations, observer) {{\n",
              "        var display = window.getComputedStyle(gd).display;\n",
              "        if (!display || display === 'none') {{\n",
              "            console.log([gd, 'removed!']);\n",
              "            Plotly.purge(gd);\n",
              "            observer.disconnect();\n",
              "        }}\n",
              "}});\n",
              "\n",
              "// Listen for the removal of the full notebook cells\n",
              "var notebookContainer = gd.closest('#notebook-container');\n",
              "if (notebookContainer) {{\n",
              "    x.observe(notebookContainer, {childList: true});\n",
              "}}\n",
              "\n",
              "// Listen for the clearing of the current output cell\n",
              "var outputEl = gd.closest('.output');\n",
              "if (outputEl) {{\n",
              "    x.observe(outputEl, {childList: true});\n",
              "}}\n",
              "\n",
              "                        })\n",
              "                };\n",
              "                \n",
              "            </script>\n",
              "        </div>\n",
              "</body>\n",
              "</html>"
            ]
          },
          "metadata": {
            "tags": []
          }
        }
      ]
    },
    {
      "cell_type": "markdown",
      "metadata": {
        "id": "yWFMeFeba0Zc",
        "colab_type": "text"
      },
      "source": [
        "Data preparation for K-Mode clustering"
      ]
    },
    {
      "cell_type": "code",
      "metadata": {
        "id": "wYFJ42aVazzQ",
        "colab_type": "code",
        "colab": {
          "base_uri": "https://localhost:8080/",
          "height": 204
        },
        "outputId": "71ba7d6d-eae2-454d-aed6-3e630ba1ecdf"
      },
      "source": [
        "cluster_data = cluster_data.drop(columns=[\"id\",\t\"name\",\t\"date\", \"age\",\"city\"], axis=1)\n",
        "from sklearn import preprocessing\n",
        "le = preprocessing.LabelEncoder()\n",
        "cluster_data = cluster_data.apply(le.fit_transform)\n",
        "cluster_data.head()"
      ],
      "execution_count": 72,
      "outputs": [
        {
          "output_type": "execute_result",
          "data": {
            "text/html": [
              "<div>\n",
              "<style scoped>\n",
              "    .dataframe tbody tr th:only-of-type {\n",
              "        vertical-align: middle;\n",
              "    }\n",
              "\n",
              "    .dataframe tbody tr th {\n",
              "        vertical-align: top;\n",
              "    }\n",
              "\n",
              "    .dataframe thead th {\n",
              "        text-align: right;\n",
              "    }\n",
              "</style>\n",
              "<table border=\"1\" class=\"dataframe\">\n",
              "  <thead>\n",
              "    <tr style=\"text-align: right;\">\n",
              "      <th></th>\n",
              "      <th>manner_of_death</th>\n",
              "      <th>armed</th>\n",
              "      <th>gender</th>\n",
              "      <th>race</th>\n",
              "      <th>state</th>\n",
              "      <th>signs_of_mental_illness</th>\n",
              "      <th>threat_level</th>\n",
              "      <th>flee</th>\n",
              "      <th>body_camera</th>\n",
              "      <th>arms_category</th>\n",
              "      <th>year</th>\n",
              "      <th>month</th>\n",
              "      <th>age_bin</th>\n",
              "    </tr>\n",
              "  </thead>\n",
              "  <tbody>\n",
              "    <tr>\n",
              "      <th>0</th>\n",
              "      <td>0</td>\n",
              "      <td>35</td>\n",
              "      <td>1</td>\n",
              "      <td>0</td>\n",
              "      <td>47</td>\n",
              "      <td>1</td>\n",
              "      <td>0</td>\n",
              "      <td>2</td>\n",
              "      <td>0</td>\n",
              "      <td>3</td>\n",
              "      <td>0</td>\n",
              "      <td>0</td>\n",
              "      <td>3</td>\n",
              "    </tr>\n",
              "    <tr>\n",
              "      <th>1</th>\n",
              "      <td>0</td>\n",
              "      <td>35</td>\n",
              "      <td>1</td>\n",
              "      <td>5</td>\n",
              "      <td>37</td>\n",
              "      <td>0</td>\n",
              "      <td>0</td>\n",
              "      <td>2</td>\n",
              "      <td>0</td>\n",
              "      <td>3</td>\n",
              "      <td>0</td>\n",
              "      <td>0</td>\n",
              "      <td>2</td>\n",
              "    </tr>\n",
              "    <tr>\n",
              "      <th>2</th>\n",
              "      <td>1</td>\n",
              "      <td>81</td>\n",
              "      <td>1</td>\n",
              "      <td>2</td>\n",
              "      <td>16</td>\n",
              "      <td>0</td>\n",
              "      <td>1</td>\n",
              "      <td>2</td>\n",
              "      <td>0</td>\n",
              "      <td>9</td>\n",
              "      <td>0</td>\n",
              "      <td>0</td>\n",
              "      <td>1</td>\n",
              "    </tr>\n",
              "    <tr>\n",
              "      <th>3</th>\n",
              "      <td>0</td>\n",
              "      <td>80</td>\n",
              "      <td>1</td>\n",
              "      <td>5</td>\n",
              "      <td>4</td>\n",
              "      <td>1</td>\n",
              "      <td>0</td>\n",
              "      <td>2</td>\n",
              "      <td>0</td>\n",
              "      <td>6</td>\n",
              "      <td>0</td>\n",
              "      <td>0</td>\n",
              "      <td>1</td>\n",
              "    </tr>\n",
              "    <tr>\n",
              "      <th>4</th>\n",
              "      <td>0</td>\n",
              "      <td>59</td>\n",
              "      <td>1</td>\n",
              "      <td>2</td>\n",
              "      <td>5</td>\n",
              "      <td>0</td>\n",
              "      <td>0</td>\n",
              "      <td>2</td>\n",
              "      <td>0</td>\n",
              "      <td>7</td>\n",
              "      <td>0</td>\n",
              "      <td>0</td>\n",
              "      <td>1</td>\n",
              "    </tr>\n",
              "  </tbody>\n",
              "</table>\n",
              "</div>"
            ],
            "text/plain": [
              "   manner_of_death  armed  gender  race  ...  arms_category  year  month  age_bin\n",
              "0                0     35       1     0  ...              3     0      0        3\n",
              "1                0     35       1     5  ...              3     0      0        2\n",
              "2                1     81       1     2  ...              9     0      0        1\n",
              "3                0     80       1     5  ...              6     0      0        1\n",
              "4                0     59       1     2  ...              7     0      0        1\n",
              "\n",
              "[5 rows x 13 columns]"
            ]
          },
          "metadata": {
            "tags": []
          },
          "execution_count": 72
        }
      ]
    },
    {
      "cell_type": "markdown",
      "metadata": {
        "id": "V4mymQGLZ4Xb",
        "colab_type": "text"
      },
      "source": [
        "Apply K-Modes clustering"
      ]
    },
    {
      "cell_type": "code",
      "metadata": {
        "id": "6OfYXVWLZtor",
        "colab_type": "code",
        "colab": {
          "base_uri": "https://localhost:8080/",
          "height": 1000
        },
        "outputId": "34f98b17-7973-44c3-eb7d-44cff1924279"
      },
      "source": [
        "number_of_clusers = 10\n",
        "cost = []\n",
        "for num_clusters in list(range(1,number_of_clusers)):\n",
        "    kmode = KModes(n_clusters=num_clusters, init = \"Cao\", n_init = 1, verbose=1)\n",
        "    kmode.fit_predict(cluster_data)\n",
        "    cost.append(kmode.cost_)\n",
        "\n",
        "x_axis = np.array([i for i in range(1,number_of_clusers,1)])\n",
        "\n",
        "fig = px.line(x=x_axis, y=cost)\n",
        "fig.show()"
      ],
      "execution_count": 101,
      "outputs": [
        {
          "output_type": "stream",
          "text": [
            "Init: initializing centroids\n",
            "Init: initializing clusters\n",
            "Starting iterations...\n",
            "Run 1, iteration: 1/100, moves: 0, cost: 28500.0\n",
            "Init: initializing centroids\n",
            "Init: initializing clusters\n",
            "Starting iterations...\n",
            "Run 1, iteration: 1/100, moves: 488, cost: 25492.0\n",
            "Run 1, iteration: 2/100, moves: 15, cost: 25492.0\n",
            "Init: initializing centroids\n",
            "Init: initializing clusters\n",
            "Starting iterations...\n",
            "Run 1, iteration: 1/100, moves: 402, cost: 24173.0\n",
            "Run 1, iteration: 2/100, moves: 6, cost: 24173.0\n",
            "Init: initializing centroids\n",
            "Init: initializing clusters\n",
            "Starting iterations...\n",
            "Run 1, iteration: 1/100, moves: 615, cost: 23264.0\n",
            "Run 1, iteration: 2/100, moves: 16, cost: 23264.0\n",
            "Init: initializing centroids\n",
            "Init: initializing clusters\n",
            "Starting iterations...\n",
            "Run 1, iteration: 1/100, moves: 601, cost: 22757.0\n",
            "Run 1, iteration: 2/100, moves: 18, cost: 22756.0\n",
            "Run 1, iteration: 3/100, moves: 2, cost: 22756.0\n",
            "Init: initializing centroids\n",
            "Init: initializing clusters\n",
            "Starting iterations...\n",
            "Run 1, iteration: 1/100, moves: 714, cost: 22468.0\n",
            "Run 1, iteration: 2/100, moves: 22, cost: 22468.0\n",
            "Init: initializing centroids\n",
            "Init: initializing clusters\n",
            "Starting iterations...\n",
            "Run 1, iteration: 1/100, moves: 737, cost: 22260.0\n",
            "Run 1, iteration: 2/100, moves: 47, cost: 22260.0\n",
            "Init: initializing centroids\n",
            "Init: initializing clusters\n",
            "Starting iterations...\n",
            "Run 1, iteration: 1/100, moves: 944, cost: 21527.0\n",
            "Run 1, iteration: 2/100, moves: 343, cost: 21461.0\n",
            "Run 1, iteration: 3/100, moves: 73, cost: 21461.0\n",
            "Init: initializing centroids\n",
            "Init: initializing clusters\n",
            "Starting iterations...\n",
            "Run 1, iteration: 1/100, moves: 963, cost: 21447.0\n",
            "Run 1, iteration: 2/100, moves: 362, cost: 21377.0\n",
            "Run 1, iteration: 3/100, moves: 131, cost: 21373.0\n",
            "Run 1, iteration: 4/100, moves: 5, cost: 21373.0\n"
          ],
          "name": "stdout"
        },
        {
          "output_type": "display_data",
          "data": {
            "text/html": [
              "<html>\n",
              "<head><meta charset=\"utf-8\" /></head>\n",
              "<body>\n",
              "    <div>\n",
              "            <script src=\"https://cdnjs.cloudflare.com/ajax/libs/mathjax/2.7.5/MathJax.js?config=TeX-AMS-MML_SVG\"></script><script type=\"text/javascript\">if (window.MathJax) {MathJax.Hub.Config({SVG: {font: \"STIX-Web\"}});}</script>\n",
              "                <script type=\"text/javascript\">window.PlotlyConfig = {MathJaxConfig: 'local'};</script>\n",
              "        <script src=\"https://cdn.plot.ly/plotly-latest.min.js\"></script>    \n",
              "            <div id=\"0b0190f9-5bbe-47e7-918a-f3c9a8a35209\" class=\"plotly-graph-div\" style=\"height:525px; width:100%;\"></div>\n",
              "            <script type=\"text/javascript\">\n",
              "                \n",
              "                    window.PLOTLYENV=window.PLOTLYENV || {};\n",
              "                    \n",
              "                if (document.getElementById(\"0b0190f9-5bbe-47e7-918a-f3c9a8a35209\")) {\n",
              "                    Plotly.newPlot(\n",
              "                        '0b0190f9-5bbe-47e7-918a-f3c9a8a35209',\n",
              "                        [{\"hoverlabel\": {\"namelength\": 0}, \"hovertemplate\": \"x=%{x}<br>y=%{y}\", \"legendgroup\": \"\", \"line\": {\"color\": \"#636efa\", \"dash\": \"solid\"}, \"mode\": \"lines\", \"name\": \"\", \"showlegend\": false, \"type\": \"scatter\", \"x\": [1, 2, 3, 4, 5, 6, 7, 8, 9], \"xaxis\": \"x\", \"y\": [28500.0, 25492.0, 24173.0, 23264.0, 22756.0, 22468.0, 22260.0, 21461.0, 21373.0], \"yaxis\": \"y\"}],\n",
              "                        {\"legend\": {\"tracegroupgap\": 0}, \"margin\": {\"t\": 60}, \"template\": {\"data\": {\"bar\": [{\"error_x\": {\"color\": \"#2a3f5f\"}, \"error_y\": {\"color\": \"#2a3f5f\"}, \"marker\": {\"line\": {\"color\": \"#E5ECF6\", \"width\": 0.5}}, \"type\": \"bar\"}], \"barpolar\": [{\"marker\": {\"line\": {\"color\": \"#E5ECF6\", \"width\": 0.5}}, \"type\": \"barpolar\"}], \"carpet\": [{\"aaxis\": {\"endlinecolor\": \"#2a3f5f\", \"gridcolor\": \"white\", \"linecolor\": \"white\", \"minorgridcolor\": \"white\", \"startlinecolor\": \"#2a3f5f\"}, \"baxis\": {\"endlinecolor\": \"#2a3f5f\", \"gridcolor\": \"white\", \"linecolor\": \"white\", \"minorgridcolor\": \"white\", \"startlinecolor\": \"#2a3f5f\"}, \"type\": \"carpet\"}], \"choropleth\": [{\"colorbar\": {\"outlinewidth\": 0, \"ticks\": \"\"}, \"type\": \"choropleth\"}], \"contour\": [{\"colorbar\": {\"outlinewidth\": 0, \"ticks\": \"\"}, \"colorscale\": [[0.0, \"#0d0887\"], [0.1111111111111111, \"#46039f\"], [0.2222222222222222, \"#7201a8\"], [0.3333333333333333, \"#9c179e\"], [0.4444444444444444, \"#bd3786\"], [0.5555555555555556, \"#d8576b\"], [0.6666666666666666, \"#ed7953\"], [0.7777777777777778, \"#fb9f3a\"], [0.8888888888888888, \"#fdca26\"], [1.0, \"#f0f921\"]], \"type\": \"contour\"}], \"contourcarpet\": [{\"colorbar\": {\"outlinewidth\": 0, \"ticks\": \"\"}, \"type\": \"contourcarpet\"}], \"heatmap\": [{\"colorbar\": {\"outlinewidth\": 0, \"ticks\": \"\"}, \"colorscale\": [[0.0, \"#0d0887\"], [0.1111111111111111, \"#46039f\"], [0.2222222222222222, \"#7201a8\"], [0.3333333333333333, \"#9c179e\"], [0.4444444444444444, \"#bd3786\"], [0.5555555555555556, \"#d8576b\"], [0.6666666666666666, \"#ed7953\"], [0.7777777777777778, \"#fb9f3a\"], [0.8888888888888888, \"#fdca26\"], [1.0, \"#f0f921\"]], \"type\": \"heatmap\"}], \"heatmapgl\": [{\"colorbar\": {\"outlinewidth\": 0, \"ticks\": \"\"}, \"colorscale\": [[0.0, \"#0d0887\"], [0.1111111111111111, \"#46039f\"], [0.2222222222222222, \"#7201a8\"], [0.3333333333333333, \"#9c179e\"], [0.4444444444444444, \"#bd3786\"], [0.5555555555555556, \"#d8576b\"], [0.6666666666666666, \"#ed7953\"], [0.7777777777777778, \"#fb9f3a\"], [0.8888888888888888, \"#fdca26\"], [1.0, \"#f0f921\"]], \"type\": \"heatmapgl\"}], \"histogram\": [{\"marker\": {\"colorbar\": {\"outlinewidth\": 0, \"ticks\": \"\"}}, \"type\": \"histogram\"}], \"histogram2d\": [{\"colorbar\": {\"outlinewidth\": 0, \"ticks\": \"\"}, \"colorscale\": [[0.0, \"#0d0887\"], [0.1111111111111111, \"#46039f\"], [0.2222222222222222, \"#7201a8\"], [0.3333333333333333, \"#9c179e\"], [0.4444444444444444, \"#bd3786\"], [0.5555555555555556, \"#d8576b\"], [0.6666666666666666, \"#ed7953\"], [0.7777777777777778, \"#fb9f3a\"], [0.8888888888888888, \"#fdca26\"], [1.0, \"#f0f921\"]], \"type\": \"histogram2d\"}], \"histogram2dcontour\": [{\"colorbar\": {\"outlinewidth\": 0, \"ticks\": \"\"}, \"colorscale\": [[0.0, \"#0d0887\"], [0.1111111111111111, \"#46039f\"], [0.2222222222222222, \"#7201a8\"], [0.3333333333333333, \"#9c179e\"], [0.4444444444444444, \"#bd3786\"], [0.5555555555555556, \"#d8576b\"], [0.6666666666666666, \"#ed7953\"], [0.7777777777777778, \"#fb9f3a\"], [0.8888888888888888, \"#fdca26\"], [1.0, \"#f0f921\"]], \"type\": \"histogram2dcontour\"}], \"mesh3d\": [{\"colorbar\": {\"outlinewidth\": 0, \"ticks\": \"\"}, \"type\": \"mesh3d\"}], \"parcoords\": [{\"line\": {\"colorbar\": {\"outlinewidth\": 0, \"ticks\": \"\"}}, \"type\": \"parcoords\"}], \"pie\": [{\"automargin\": true, \"type\": \"pie\"}], \"scatter\": [{\"marker\": {\"colorbar\": {\"outlinewidth\": 0, \"ticks\": \"\"}}, \"type\": \"scatter\"}], \"scatter3d\": [{\"line\": {\"colorbar\": {\"outlinewidth\": 0, \"ticks\": \"\"}}, \"marker\": {\"colorbar\": {\"outlinewidth\": 0, \"ticks\": \"\"}}, \"type\": \"scatter3d\"}], \"scattercarpet\": [{\"marker\": {\"colorbar\": {\"outlinewidth\": 0, \"ticks\": \"\"}}, \"type\": \"scattercarpet\"}], \"scattergeo\": [{\"marker\": {\"colorbar\": {\"outlinewidth\": 0, \"ticks\": \"\"}}, \"type\": \"scattergeo\"}], \"scattergl\": [{\"marker\": {\"colorbar\": {\"outlinewidth\": 0, \"ticks\": \"\"}}, \"type\": \"scattergl\"}], \"scattermapbox\": [{\"marker\": {\"colorbar\": {\"outlinewidth\": 0, \"ticks\": \"\"}}, \"type\": \"scattermapbox\"}], \"scatterpolar\": [{\"marker\": {\"colorbar\": {\"outlinewidth\": 0, \"ticks\": \"\"}}, \"type\": \"scatterpolar\"}], \"scatterpolargl\": [{\"marker\": {\"colorbar\": {\"outlinewidth\": 0, \"ticks\": \"\"}}, \"type\": \"scatterpolargl\"}], \"scatterternary\": [{\"marker\": {\"colorbar\": {\"outlinewidth\": 0, \"ticks\": \"\"}}, \"type\": \"scatterternary\"}], \"surface\": [{\"colorbar\": {\"outlinewidth\": 0, \"ticks\": \"\"}, \"colorscale\": [[0.0, \"#0d0887\"], [0.1111111111111111, \"#46039f\"], [0.2222222222222222, \"#7201a8\"], [0.3333333333333333, \"#9c179e\"], [0.4444444444444444, \"#bd3786\"], [0.5555555555555556, \"#d8576b\"], [0.6666666666666666, \"#ed7953\"], [0.7777777777777778, \"#fb9f3a\"], [0.8888888888888888, \"#fdca26\"], [1.0, \"#f0f921\"]], \"type\": \"surface\"}], \"table\": [{\"cells\": {\"fill\": {\"color\": \"#EBF0F8\"}, \"line\": {\"color\": \"white\"}}, \"header\": {\"fill\": {\"color\": \"#C8D4E3\"}, \"line\": {\"color\": \"white\"}}, \"type\": \"table\"}]}, \"layout\": {\"annotationdefaults\": {\"arrowcolor\": \"#2a3f5f\", \"arrowhead\": 0, \"arrowwidth\": 1}, \"coloraxis\": {\"colorbar\": {\"outlinewidth\": 0, \"ticks\": \"\"}}, \"colorscale\": {\"diverging\": [[0, \"#8e0152\"], [0.1, \"#c51b7d\"], [0.2, \"#de77ae\"], [0.3, \"#f1b6da\"], [0.4, \"#fde0ef\"], [0.5, \"#f7f7f7\"], [0.6, \"#e6f5d0\"], [0.7, \"#b8e186\"], [0.8, \"#7fbc41\"], [0.9, \"#4d9221\"], [1, \"#276419\"]], \"sequential\": [[0.0, \"#0d0887\"], [0.1111111111111111, \"#46039f\"], [0.2222222222222222, \"#7201a8\"], [0.3333333333333333, \"#9c179e\"], [0.4444444444444444, \"#bd3786\"], [0.5555555555555556, \"#d8576b\"], [0.6666666666666666, \"#ed7953\"], [0.7777777777777778, \"#fb9f3a\"], [0.8888888888888888, \"#fdca26\"], [1.0, \"#f0f921\"]], \"sequentialminus\": [[0.0, \"#0d0887\"], [0.1111111111111111, \"#46039f\"], [0.2222222222222222, \"#7201a8\"], [0.3333333333333333, \"#9c179e\"], [0.4444444444444444, \"#bd3786\"], [0.5555555555555556, \"#d8576b\"], [0.6666666666666666, \"#ed7953\"], [0.7777777777777778, \"#fb9f3a\"], [0.8888888888888888, \"#fdca26\"], [1.0, \"#f0f921\"]]}, \"colorway\": [\"#636efa\", \"#EF553B\", \"#00cc96\", \"#ab63fa\", \"#FFA15A\", \"#19d3f3\", \"#FF6692\", \"#B6E880\", \"#FF97FF\", \"#FECB52\"], \"font\": {\"color\": \"#2a3f5f\"}, \"geo\": {\"bgcolor\": \"white\", \"lakecolor\": \"white\", \"landcolor\": \"#E5ECF6\", \"showlakes\": true, \"showland\": true, \"subunitcolor\": \"white\"}, \"hoverlabel\": {\"align\": \"left\"}, \"hovermode\": \"closest\", \"mapbox\": {\"style\": \"light\"}, \"paper_bgcolor\": \"white\", \"plot_bgcolor\": \"#E5ECF6\", \"polar\": {\"angularaxis\": {\"gridcolor\": \"white\", \"linecolor\": \"white\", \"ticks\": \"\"}, \"bgcolor\": \"#E5ECF6\", \"radialaxis\": {\"gridcolor\": \"white\", \"linecolor\": \"white\", \"ticks\": \"\"}}, \"scene\": {\"xaxis\": {\"backgroundcolor\": \"#E5ECF6\", \"gridcolor\": \"white\", \"gridwidth\": 2, \"linecolor\": \"white\", \"showbackground\": true, \"ticks\": \"\", \"zerolinecolor\": \"white\"}, \"yaxis\": {\"backgroundcolor\": \"#E5ECF6\", \"gridcolor\": \"white\", \"gridwidth\": 2, \"linecolor\": \"white\", \"showbackground\": true, \"ticks\": \"\", \"zerolinecolor\": \"white\"}, \"zaxis\": {\"backgroundcolor\": \"#E5ECF6\", \"gridcolor\": \"white\", \"gridwidth\": 2, \"linecolor\": \"white\", \"showbackground\": true, \"ticks\": \"\", \"zerolinecolor\": \"white\"}}, \"shapedefaults\": {\"line\": {\"color\": \"#2a3f5f\"}}, \"ternary\": {\"aaxis\": {\"gridcolor\": \"white\", \"linecolor\": \"white\", \"ticks\": \"\"}, \"baxis\": {\"gridcolor\": \"white\", \"linecolor\": \"white\", \"ticks\": \"\"}, \"bgcolor\": \"#E5ECF6\", \"caxis\": {\"gridcolor\": \"white\", \"linecolor\": \"white\", \"ticks\": \"\"}}, \"title\": {\"x\": 0.05}, \"xaxis\": {\"automargin\": true, \"gridcolor\": \"white\", \"linecolor\": \"white\", \"ticks\": \"\", \"title\": {\"standoff\": 15}, \"zerolinecolor\": \"white\", \"zerolinewidth\": 2}, \"yaxis\": {\"automargin\": true, \"gridcolor\": \"white\", \"linecolor\": \"white\", \"ticks\": \"\", \"title\": {\"standoff\": 15}, \"zerolinecolor\": \"white\", \"zerolinewidth\": 2}}}, \"xaxis\": {\"anchor\": \"y\", \"domain\": [0.0, 1.0], \"title\": {\"text\": \"x\"}}, \"yaxis\": {\"anchor\": \"x\", \"domain\": [0.0, 1.0], \"title\": {\"text\": \"y\"}}},\n",
              "                        {\"responsive\": true}\n",
              "                    ).then(function(){\n",
              "                            \n",
              "var gd = document.getElementById('0b0190f9-5bbe-47e7-918a-f3c9a8a35209');\n",
              "var x = new MutationObserver(function (mutations, observer) {{\n",
              "        var display = window.getComputedStyle(gd).display;\n",
              "        if (!display || display === 'none') {{\n",
              "            console.log([gd, 'removed!']);\n",
              "            Plotly.purge(gd);\n",
              "            observer.disconnect();\n",
              "        }}\n",
              "}});\n",
              "\n",
              "// Listen for the removal of the full notebook cells\n",
              "var notebookContainer = gd.closest('#notebook-container');\n",
              "if (notebookContainer) {{\n",
              "    x.observe(notebookContainer, {childList: true});\n",
              "}}\n",
              "\n",
              "// Listen for the clearing of the current output cell\n",
              "var outputEl = gd.closest('.output');\n",
              "if (outputEl) {{\n",
              "    x.observe(outputEl, {childList: true});\n",
              "}}\n",
              "\n",
              "                        })\n",
              "                };\n",
              "                \n",
              "            </script>\n",
              "        </div>\n",
              "</body>\n",
              "</html>"
            ]
          },
          "metadata": {
            "tags": []
          }
        }
      ]
    },
    {
      "cell_type": "code",
      "metadata": {
        "id": "I3GkUKX7h1fS",
        "colab_type": "code",
        "colab": {
          "base_uri": "https://localhost:8080/",
          "height": 170
        },
        "outputId": "6466e172-ef3e-4d29-e90d-93cebdbc9bb0"
      },
      "source": [
        "num_clusters = 5\n",
        "kmode = KModes(n_clusters=num_clusters, init = \"Cao\", n_init = 1, verbose=1)\n",
        "arr = kmode.fit_predict(cluster_data)\n",
        "cluster_data[\"cluster\"] = arr\n",
        "cluster_data.columns"
      ],
      "execution_count": 99,
      "outputs": [
        {
          "output_type": "stream",
          "text": [
            "Init: initializing centroids\n",
            "Init: initializing clusters\n",
            "Starting iterations...\n",
            "Run 1, iteration: 1/100, moves: 690, cost: 23153.0\n",
            "Run 1, iteration: 2/100, moves: 86, cost: 23153.0\n"
          ],
          "name": "stdout"
        },
        {
          "output_type": "execute_result",
          "data": {
            "text/plain": [
              "Index(['manner_of_death', 'armed', 'gender', 'race', 'state',\n",
              "       'signs_of_mental_illness', 'threat_level', 'flee', 'body_camera',\n",
              "       'arms_category', 'year', 'month', 'age_bin', 'cluster'],\n",
              "      dtype='object')"
            ]
          },
          "metadata": {
            "tags": []
          },
          "execution_count": 99
        }
      ]
    },
    {
      "cell_type": "markdown",
      "metadata": {
        "id": "bZXMcShrCwhX",
        "colab_type": "text"
      },
      "source": [
        "Let's analyze each variable against cluster"
      ]
    },
    {
      "cell_type": "code",
      "metadata": {
        "id": "DjpvxoQAC7gp",
        "colab_type": "code",
        "colab": {
          "base_uri": "https://localhost:8080/",
          "height": 1000
        },
        "outputId": "8c4cc930-6782-48d1-e3d8-da596d1becd4"
      },
      "source": [
        "columns = ['manner_of_death', 'armed', 'gender', 'race', 'state',\n",
        "       'signs_of_mental_illness', 'threat_level', 'flee', 'body_camera',\n",
        "       'arms_category', 'year', 'month', 'age_bin']\n",
        "       \n",
        "target = \"cluster\"\n",
        "\n",
        "dependent_variables = []\n",
        "for column in columns:\n",
        "\n",
        "    obs = pd.crosstab(cluster_data[column], cluster_data[target])\n",
        "    if np.all(obs>5):\n",
        "        stat, p, dof, expected = chi2_contingency(obs)\n",
        "        if p<=0.005:\n",
        "            dependent_variables.append(column)\n",
        "            print(\"Processing columns: {} , {}\".format(column, target))\n",
        "            print(\"p-value: {}\".format(p))\n",
        "            print(obs)\n",
        "            print(\"\\n\")\n",
        "            print(\"\\n\")\n",
        "\n",
        "print(dependent_variables)"
      ],
      "execution_count": 100,
      "outputs": [
        {
          "output_type": "stream",
          "text": [
            "Processing columns: manner_of_death , cluster\n",
            "p-value: 2.13559529254258e-24\n",
            "cluster             0    1    2    3    4\n",
            "manner_of_death                          \n",
            "0                2970  681  443  349  172\n",
            "1                 103   85   14   16   29\n",
            "\n",
            "\n",
            "\n",
            "\n",
            "Processing columns: signs_of_mental_illness , cluster\n",
            "p-value: 1.4911275763977505e-187\n",
            "cluster                     0    1    2    3    4\n",
            "signs_of_mental_illness                          \n",
            "0                        2596  569  429  105   69\n",
            "1                         477  197   28  260  132\n",
            "\n",
            "\n",
            "\n",
            "\n",
            "Processing columns: threat_level , cluster\n",
            "p-value: 0.0\n",
            "cluster          0    1    2    3    4\n",
            "threat_level                          \n",
            "0             2624  126  114  112  157\n",
            "1              375  616  255  239   37\n",
            "2               74   24   88   14    7\n",
            "\n",
            "\n",
            "\n",
            "\n",
            "Processing columns: flee , cluster\n",
            "p-value: 2.964557707730671e-175\n",
            "cluster     0    1    2    3    4\n",
            "flee                             \n",
            "0         449   43  280   32   15\n",
            "1         480   81   36   24   21\n",
            "2        1926  588   92  279  158\n",
            "3         218   54   49   30    7\n",
            "\n",
            "\n",
            "\n",
            "\n",
            "Processing columns: body_camera , cluster\n",
            "p-value: 0.00275538653461923\n",
            "cluster         0    1    2    3    4\n",
            "body_camera                          \n",
            "0            2736  661  407  321  162\n",
            "1             337  105   50   44   39\n",
            "\n",
            "\n",
            "\n",
            "\n",
            "Processing columns: year , cluster\n",
            "p-value: 1.7969075921898737e-75\n",
            "cluster    0    1    2    3   4\n",
            "year                           \n",
            "0        771   96   57   15  20\n",
            "1        499  153  144   71  32\n",
            "2        473  122  132  142  31\n",
            "3        489  207   58   67  60\n",
            "4        572  138   47   49  45\n",
            "5        269   50   19   21  13\n",
            "\n",
            "\n",
            "\n",
            "\n",
            "Processing columns: month , cluster\n",
            "p-value: 3.224049337194434e-35\n",
            "cluster    0    1   2   3   4\n",
            "month                        \n",
            "0        358   63  43  21  19\n",
            "1        296   68  37  34  21\n",
            "2        263   83  42  92  19\n",
            "3        258   84  38  26  20\n",
            "4        284   59  33  23  17\n",
            "5        246   61  39  26  22\n",
            "6        247  114  24  22   6\n",
            "7        248   50  27  32  13\n",
            "8        210   39  35  22  17\n",
            "9        244   59  30  22   9\n",
            "10       205   39  78  22   9\n",
            "11       214   47  31  23  29\n",
            "\n",
            "\n",
            "\n",
            "\n",
            "Processing columns: age_bin , cluster\n",
            "p-value: 2.1260863026124562e-72\n",
            "cluster     0    1    2    3    4\n",
            "age_bin                          \n",
            "0         229   49   47   26   11\n",
            "1        1950  466  316   73  128\n",
            "2         440  152   57  177   33\n",
            "3         315   81   26   64   19\n",
            "4         139   18   11   25   10\n",
            "\n",
            "\n",
            "\n",
            "\n",
            "['manner_of_death', 'signs_of_mental_illness', 'threat_level', 'flee', 'body_camera', 'year', 'month', 'age_bin']\n"
          ],
          "name": "stdout"
        }
      ]
    },
    {
      "cell_type": "markdown",
      "metadata": {
        "id": "aQ6oZQOjfryh",
        "colab_type": "text"
      },
      "source": [
        "So it can be seen the variables ['manner_of_death', 'signs_of_mental_illness', 'threat_level', 'flee', 'body_camera', 'year', 'month', 'age_bin'] are the prominent features that are playing important role in pattern being captured in the clusters. "
      ]
    }
  ]
}